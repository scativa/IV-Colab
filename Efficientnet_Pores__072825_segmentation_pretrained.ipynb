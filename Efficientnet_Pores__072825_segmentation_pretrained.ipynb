{
  "cells": [
    {
      "cell_type": "markdown",
      "metadata": {
        "id": "view-in-github",
        "colab_type": "text"
      },
      "source": [
        "<a href=\"https://colab.research.google.com/github/scativa/IV-Colab/blob/evi/Efficientnet_Pores__072825_segmentation_pretrained.ipynb\" target=\"_parent\"><img src=\"https://colab.research.google.com/assets/colab-badge.svg\" alt=\"Open In Colab\"/></a>"
      ]
    },
    {
      "cell_type": "markdown",
      "source": [
        "#Librerias\n",
        "\n",
        "##functions.py\n",
        "Reemplaza la línea `import functions as func`"
      ],
      "metadata": {
        "id": "ryDySnX4psf8"
      },
      "id": "ryDySnX4psf8"
    },
    {
      "cell_type": "code",
      "source": [
        "import numpy as np\n",
        "import os\n",
        "import cv2\n",
        "from sklearn.model_selection import train_test_split\n",
        "import matplotlib.pyplot as plt\n",
        "\n",
        "\n",
        "def load_images(dir, norm=False):\n",
        "    images = [cv2.imread(os.path.join(dir, filename)).astype(np.float32)\n",
        "            for filename in os.listdir(dir)\n",
        "            if cv2.imread(os.path.join(dir, filename)) is not None]\n",
        "    if norm:\n",
        "        images = [image / 255.0 for image in images]\n",
        "\n",
        "    # https://chatgpt.com/c/67fd5724-8164-8006-9367-780189493ee5\n",
        "    images = [cv2.resize(image, (224, 224)).astype(np.float32) for image in images]\n",
        "    return images\n",
        "\n",
        "def load_masks(dir_pores, image_filenames):\n",
        "    masks = []\n",
        "    for filename in image_filenames:\n",
        "        mask_path = os.path.join(dir_pores, filename)\n",
        "        mask = cv2.imread(mask_path, cv2.IMREAD_GRAYSCALE).astype(np.float32)\n",
        "\n",
        "        # Normalizar\n",
        "        mask = mask / 255.0\n",
        "\n",
        "        # Redimensionar\n",
        "        mask = cv2.resize(mask, (224, 224))\n",
        "\n",
        "        # Binarizar DESPUÉS del resize\n",
        "        mask = (mask > 0.5).astype(np.float32)\n",
        "\n",
        "        masks.append(mask)\n",
        "\n",
        "    return masks\n",
        "'''def load_masks(dir_pores, image_filenames):\n",
        "    masks = [\n",
        "            cv2.imread(os.path.join(dir_pores, filename), cv2.IMREAD_GRAYSCALE).astype(np.float32)\n",
        "            # if os.path.exists(os.path.join(dir_pores, filename))\n",
        "            # else np.zeros((232, 180), dtype=np.float32)\n",
        "            for filename in image_filenames\n",
        "    ]\n",
        "    # masks = [np.expand_dims(mask, axis=-1) for mask in masks] #adds a channel dimension to the masks\n",
        "\n",
        "    # https://chatgpt.com/c/67fd5724-8164-8006-9367-780189493ee5\n",
        "    masks = [cv2.resize(mask, (224, 224)).astype(np.float32) for mask in masks]\n",
        "\n",
        "    return masks'''\n",
        "\n",
        "# just to plot masks\n",
        "def plot_img_mask(img, mask, pred):\n",
        "\n",
        "    sub_plot = 0\n",
        "    num_cols = 0\n",
        "\n",
        "    # Determina el número de columnas en función de si hay una predicción\n",
        "    if img is not None:\n",
        "        num_cols += 1\n",
        "    if mask is not None:\n",
        "        num_cols += 1\n",
        "    if pred is not None:\n",
        "        num_cols += 1\n",
        "\n",
        "    # Si no hay nada para mostrar, sal de la función\n",
        "    if num_cols == 0:\n",
        "        print(\"No hay nada para mostrar.\")\n",
        "        return\n",
        "\n",
        "    # Crea la figura y los ejes en una sola fila con el número determinado de columnas\n",
        "    fig, axes = plt.subplots(1, num_cols, figsize=(3, 3))\n",
        "\n",
        "    if (img is not None):\n",
        "      axes[sub_plot].imshow(img)\n",
        "      axes[sub_plot].set_title('Image')\n",
        "      axes[sub_plot].axis('off')\n",
        "      sub_plot += 1\n",
        "\n",
        "    if (mask is not None):\n",
        "      axes[sub_plot].imshow(mask, cmap='gray')\n",
        "      axes[sub_plot].set_title('Mask')\n",
        "      axes[sub_plot].axis('off')\n",
        "      sub_plot += 1\n",
        "\n",
        "    if (pred is not None):\n",
        "      pred_mask = np.where(pred <= 0.5, 0, 1)\n",
        "\n",
        "      axes[sub_plot].imshow(pred_mask, cmap='gray')\n",
        "      axes[sub_plot].set_title('Predicted')\n",
        "      axes[sub_plot].axis('off')\n",
        "\n",
        "    plt.tight_layout()\n",
        "    plt.show()\n",
        "\n",
        "def augmented_dataset(dir_images, dir_mask, seed, norm):\n",
        "    # From \"Pores 03/28/25 -Seba- Basado en segmentation_own (DTE_fisuras).ipynb\"\n",
        "\n",
        "\n",
        "    images = load_images(dir_images, norm)\n",
        "    # Get image filenames from loaded images\n",
        "\n",
        "    image_filenames = [os.path.basename(image_path) for image_path in os.listdir(dir_images)]\n",
        "    # masks = load_masks(dir_pores)\n",
        "    masks = load_masks(dir_mask, image_filenames)\n",
        "\n",
        "\n",
        "    X_train, X_test, y_train, y_test = train_test_split(images, masks, test_size=0.2, random_state=seed)\n",
        "\n",
        "    X_train[0].shape\n",
        "    y_train[0].shape\n",
        "    augmented_X_train = [cv2.flip(i, 1) for i in X_train]\n",
        "    augmented_y_train = [cv2.flip(i, 1) for i in y_train]\n",
        "\n",
        "    X_train = np.array(X_train + augmented_X_train)\n",
        "    y_train = np.array(y_train + augmented_y_train)\n",
        "\n",
        "    X_test = np.array(X_test)\n",
        "    y_test = np.array(y_test)\n",
        "\n",
        "    X_train, X_val, y_train, y_val = train_test_split(X_train, y_train, test_size=0.2, random_state=seed)\n",
        "\n",
        "    y_train = np.expand_dims(y_train, axis=-1)\n",
        "    y_val = np.expand_dims(y_val, axis=-1)\n",
        "    y_test = np.expand_dims(y_test, axis=-1)\n",
        "\n",
        "    return X_train, y_train, X_val, y_val, X_test, y_test\n",
        "\n",
        "def test_dataset(dir_images, dir_mask, seed, norm):\n",
        "    # From \"Pores 03/28/25 -Seba- Basado en segmentation_own (DTE_fisuras).ipynb\"\n",
        "\n",
        "\n",
        "    images = load_images(dir_images, norm)\n",
        "    # Get image filenames from loaded images\n",
        "\n",
        "    image_filenames = [os.path.basename(image_path) for image_path in os.listdir(dir_images)]\n",
        "    # masks = load_masks(dir_pores)\n",
        "    masks = load_masks(dir_mask, image_filenames)\n",
        "\n",
        "\n",
        "    _, X_test, _, y_test = train_test_split(images, masks, test_size=0.2, random_state=seed)\n",
        "\n",
        "    y_test = np.expand_dims(y_test, axis=-1)\n",
        "\n",
        "    return X_test, y_test\n",
        "\n",
        "'''\n",
        "If you want to show some other metrics, just uncomment\n",
        "'''\n",
        "def plot_history(history, x_lim, y_lim):\n",
        "    #val_iou_score = history.history['val_iou_score']\n",
        "    #iou_score = history.history['iou_score']\n",
        "    val_f1_score = history.history['val_f1-score']\n",
        "    #f1_score = history.history['f1-score']\n",
        "    val_loss = history.history['val_loss']\n",
        "    loss = history.history['loss']\n",
        "    epochs = range(1, len(loss) + 1)\n",
        "\n",
        "    # Plotting\n",
        "    plt.figure(figsize=(12, 6))\n",
        "\n",
        "    #plt.plot(epochs, val_iou_score, 'b', label='Validation IoU Score')\n",
        "    #plt.plot(epochs, iou_score, 'g', label='IoU Score')\n",
        "    #plt.plot(epochs, f1_score, 'r', label='F1 Score')\n",
        "    plt.plot(epochs, val_f1_score, 'c', label='Validation F1 Score')\n",
        "    plt.plot(epochs, val_loss, 'm', label='Validation Loss')\n",
        "    plt.plot(epochs, loss, 'y', label='Training Loss')\n",
        "\n",
        "    plt.title('Training Metrics', fontsize=16)\n",
        "    plt.xlabel('Epochs', fontsize=14)\n",
        "    plt.ylabel('Score/Loss', fontsize=14)\n",
        "    plt.legend(fontsize=12)\n",
        "\n",
        "    plt.grid(True)\n",
        "    plt.xlim(1, x_lim)\n",
        "    plt.ylim(0, y_lim)\n",
        "    plt.show()\n",
        "\n"
      ],
      "metadata": {
        "id": "H80FZsTspq9N"
      },
      "id": "H80FZsTspq9N",
      "execution_count": null,
      "outputs": []
    },
    {
      "cell_type": "markdown",
      "source": [
        "#Entorno"
      ],
      "metadata": {
        "id": "Y6FbynbEtxDc"
      },
      "id": "Y6FbynbEtxDc"
    },
    {
      "cell_type": "code",
      "source": [
        "from google.colab import drive\n",
        "drive.mount('/content/drive')"
      ],
      "metadata": {
        "id": "jLY5vQB7tS_O",
        "colab": {
          "base_uri": "https://localhost:8080/"
        },
        "outputId": "acaa11cd-e0d5-4ea9-e0a6-4fe14e916c7a"
      },
      "id": "jLY5vQB7tS_O",
      "execution_count": null,
      "outputs": [
        {
          "output_type": "stream",
          "name": "stdout",
          "text": [
            "Mounted at /content/drive\n"
          ]
        }
      ]
    },
    {
      "cell_type": "code",
      "source": [
        "from time import process_time_ns\n",
        "import os, json\n",
        "\n",
        "usr_drive = \"evi.cnea\"\n",
        "\n",
        "\n",
        "base_paths = { # Path al\n",
        "    \"ppca.cnea\": '/content/drive/MyDrive/IV',\n",
        "    \"seba.cnea\": '/content/drive/MyDrive/CNEA/DCA/Proyectos/IV - Inspección Visual/IV',\n",
        "    \"scativa\": '/content/drive/MyDrive/Laburo/CNEA/DCA/Proyectos/IV - Inspección Visual/IV',\n",
        "    \"evi.cnea\": '/content/drive/MyDrive/IV',\n",
        "    \"evi55\": '/content/drive/MyDrive/IV'\n",
        "}\n",
        "# base_path =\n",
        "base_path = base_paths[usr_drive]\n",
        "\n",
        "if not os.path.exists(base_path):\n",
        "  print(f'Carpeta inexistente \"{usr_drive}: {base_path}\"')\n",
        "else:\n",
        "  print(f'Utilizando carpeta  \"{usr_drive}: {base_path}\"')\n",
        "\n",
        "\n",
        "#import tensorflow as tf\n",
        "# Setting GPU memory growth to True\n",
        "#gpus = tf.config.experimental.list_physical_devices('GPU')\n",
        "#if gpus:\n",
        "#    print(f\"GPUs detected: {gpus}\")\n",
        "#    try:\n",
        "#        for gpu in gpus:\n",
        "#            tf.config.experimental.set_memory_growth(gpu, True)\n",
        "#    except RuntimeError as e:\n",
        "#        print(e)\n",
        "\n",
        "\n",
        "os.environ[\"SM_FRAMEWORK\"] = \"tf.keras\"\n",
        "from tensorflow import keras\n",
        "from keras import backend as K\n"
      ],
      "metadata": {
        "id": "u8K_GpqhP4P1",
        "colab": {
          "base_uri": "https://localhost:8080/"
        },
        "outputId": "824d3e86-6de6-441b-af51-c4b9c8c50c03"
      },
      "id": "u8K_GpqhP4P1",
      "execution_count": null,
      "outputs": [
        {
          "output_type": "stream",
          "name": "stdout",
          "text": [
            "Utilizando carpeta  \"evi.cnea: /content/drive/MyDrive/IV\"\n"
          ]
        }
      ]
    },
    {
      "cell_type": "code",
      "source": [
        "!pip install segmentation-models\n",
        "import segmentation_models as sm\n",
        "from segmentation_models import get_preprocessing"
      ],
      "metadata": {
        "colab": {
          "base_uri": "https://localhost:8080/"
        },
        "id": "2o1eL7zLj1xx",
        "outputId": "5208d027-2dcd-4d3e-d51d-609b4fd32549"
      },
      "id": "2o1eL7zLj1xx",
      "execution_count": null,
      "outputs": [
        {
          "output_type": "stream",
          "name": "stdout",
          "text": [
            "Collecting segmentation-models\n",
            "  Downloading segmentation_models-1.0.1-py3-none-any.whl.metadata (938 bytes)\n",
            "Collecting keras-applications<=1.0.8,>=1.0.7 (from segmentation-models)\n",
            "  Downloading Keras_Applications-1.0.8-py3-none-any.whl.metadata (1.7 kB)\n",
            "Collecting image-classifiers==1.0.0 (from segmentation-models)\n",
            "  Downloading image_classifiers-1.0.0-py3-none-any.whl.metadata (8.6 kB)\n",
            "Collecting efficientnet==1.0.0 (from segmentation-models)\n",
            "  Downloading efficientnet-1.0.0-py3-none-any.whl.metadata (6.1 kB)\n",
            "Requirement already satisfied: scikit-image in /usr/local/lib/python3.11/dist-packages (from efficientnet==1.0.0->segmentation-models) (0.25.2)\n",
            "Requirement already satisfied: numpy>=1.9.1 in /usr/local/lib/python3.11/dist-packages (from keras-applications<=1.0.8,>=1.0.7->segmentation-models) (2.0.2)\n",
            "Requirement already satisfied: h5py in /usr/local/lib/python3.11/dist-packages (from keras-applications<=1.0.8,>=1.0.7->segmentation-models) (3.14.0)\n",
            "Requirement already satisfied: scipy>=1.11.4 in /usr/local/lib/python3.11/dist-packages (from scikit-image->efficientnet==1.0.0->segmentation-models) (1.16.0)\n",
            "Requirement already satisfied: networkx>=3.0 in /usr/local/lib/python3.11/dist-packages (from scikit-image->efficientnet==1.0.0->segmentation-models) (3.5)\n",
            "Requirement already satisfied: pillow>=10.1 in /usr/local/lib/python3.11/dist-packages (from scikit-image->efficientnet==1.0.0->segmentation-models) (11.3.0)\n",
            "Requirement already satisfied: imageio!=2.35.0,>=2.33 in /usr/local/lib/python3.11/dist-packages (from scikit-image->efficientnet==1.0.0->segmentation-models) (2.37.0)\n",
            "Requirement already satisfied: tifffile>=2022.8.12 in /usr/local/lib/python3.11/dist-packages (from scikit-image->efficientnet==1.0.0->segmentation-models) (2025.6.11)\n",
            "Requirement already satisfied: packaging>=21 in /usr/local/lib/python3.11/dist-packages (from scikit-image->efficientnet==1.0.0->segmentation-models) (25.0)\n",
            "Requirement already satisfied: lazy-loader>=0.4 in /usr/local/lib/python3.11/dist-packages (from scikit-image->efficientnet==1.0.0->segmentation-models) (0.4)\n",
            "Downloading segmentation_models-1.0.1-py3-none-any.whl (33 kB)\n",
            "Downloading efficientnet-1.0.0-py3-none-any.whl (17 kB)\n",
            "Downloading image_classifiers-1.0.0-py3-none-any.whl (19 kB)\n",
            "Downloading Keras_Applications-1.0.8-py3-none-any.whl (50 kB)\n",
            "\u001b[2K   \u001b[90m━━━━━━━━━━━━━━━━━━━━━━━━━━━━━━━━━━━━━━━━\u001b[0m \u001b[32m50.7/50.7 kB\u001b[0m \u001b[31m4.3 MB/s\u001b[0m eta \u001b[36m0:00:00\u001b[0m\n",
            "\u001b[?25hInstalling collected packages: keras-applications, image-classifiers, efficientnet, segmentation-models\n",
            "Successfully installed efficientnet-1.0.0 image-classifiers-1.0.0 keras-applications-1.0.8 segmentation-models-1.0.1\n",
            "Segmentation Models: using `tf.keras` framework.\n"
          ]
        }
      ]
    },
    {
      "cell_type": "markdown",
      "source": [
        "#Dataset"
      ],
      "metadata": {
        "id": "Tu8wymLMQsy6"
      },
      "id": "Tu8wymLMQsy6"
    },
    {
      "cell_type": "code",
      "execution_count": null,
      "id": "0f79518c-640f-483d-8465-4fa8fc47e4ad",
      "metadata": {
        "id": "0f79518c-640f-483d-8465-4fa8fc47e4ad",
        "colab": {
          "base_uri": "https://localhost:8080/"
        },
        "outputId": "17d170c4-61ed-434f-cb95-e7762bb42f4e"
      },
      "outputs": [
        {
          "output_type": "stream",
          "name": "stdout",
          "text": [
            "Utilizando carpeta  \"evi.cnea: /content/drive/MyDrive/IV\"\n",
            "Utilizando carpeta  \"evi.cnea: /content/drive/MyDrive/IV\"\n"
          ]
        }
      ],
      "source": [
        "defect = 'pores' #'cachaduras'\n",
        "image_directory = f'{base_path}/pellets'\n",
        "masks_directory = f'{base_path}/Output_052025 (máscaras actualizadas)/all_{defect}'\n",
        "\n",
        "if not os.path.exists(image_directory):\n",
        "  print(f'Carpeta inexistente \"{usr_drive}: {base_path}\"')\n",
        "else:\n",
        "  print(f'Utilizando carpeta  \"{usr_drive}: {base_path}\"')\n",
        "\n",
        "if not os.path.exists(masks_directory):\n",
        "  print(f'Carpeta inexistente \"{usr_drive}: {base_path}\"')\n",
        "else:\n",
        "  print(f'Utilizando carpeta  \"{usr_drive}: {base_path}\"')"
      ]
    },
    {
      "cell_type": "code",
      "source": [
        "\n",
        "import numpy as np\n",
        "import os\n",
        "\n",
        "\n",
        "\n",
        "# === MODO DE EJECUCIÓN ===\n",
        "# Usar 'cargar' para usar los datos ya procesados guardados (.npy)\n",
        "# Usar 'generar' para crear nuevos datos y guardarlos a partir de las imágenes originales\n",
        "modo = 'cargar'\n",
        "\n",
        "# === Rutas ===\n",
        "save_dir = f'{base_path}/processed_data_{defect}'\n",
        "os.makedirs(save_dir, exist_ok=True)\n",
        "\n",
        "# === Cargar o generar los datos ===\n",
        "if modo == 'cargar':\n",
        "    print(\"Cargando datos preprocesados desde archivos .npy...\")\n",
        "    X_train = np.load(os.path.join(save_dir, 'X_train.npy'))\n",
        "    X_val   = np.load(os.path.join(save_dir, 'X_val.npy'))\n",
        "    X_test  = np.load(os.path.join(save_dir, 'X_test.npy'))\n",
        "    y_train = np.load(os.path.join(save_dir, 'y_train.npy'))\n",
        "    y_val   = np.load(os.path.join(save_dir, 'y_val.npy'))\n",
        "    y_test  = np.load(os.path.join(save_dir, 'y_test.npy'))\n",
        "    print(\"✅ Datos cargados correctamente.\")\n",
        "\n",
        "elif modo == 'generar':\n",
        "    print(\"Generando nuevos datos a partir de imágenes y máscaras...\")\n",
        "    X_train, y_train, X_val, y_val, X_test, y_test = augmented_dataset(\n",
        "        image_directory, masks_directory, seed=42, norm=False\n",
        "    )\n",
        "\n",
        "    # Guardar los datos generados\n",
        "    np.save(os.path.join(save_dir, 'X_train.npy'), X_train)\n",
        "    np.save(os.path.join(save_dir, 'X_val.npy'),   X_val)\n",
        "    np.save(os.path.join(save_dir, 'X_test.npy'),  X_test)\n",
        "    np.save(os.path.join(save_dir, 'y_train.npy'), y_train)\n",
        "    np.save(os.path.join(save_dir, 'y_val.npy'),   y_val)\n",
        "    np.save(os.path.join(save_dir, 'y_test.npy'),  y_test)\n",
        "\n",
        "    print(f\"✅ Nuevos datos generados y guardados en {save_dir}\")\n",
        "\n",
        "else:\n",
        "    raise ValueError(\"❌ Modo inválido. Usa 'cargar' o 'generar'.\")\n",
        "\n"
      ],
      "metadata": {
        "id": "E6zrvrCuVize",
        "colab": {
          "base_uri": "https://localhost:8080/"
        },
        "outputId": "5cc5cd8a-342c-437f-b9be-443bfd8cb485"
      },
      "id": "E6zrvrCuVize",
      "execution_count": null,
      "outputs": [
        {
          "output_type": "stream",
          "name": "stdout",
          "text": [
            "Cargando datos preprocesados desde archivos .npy...\n",
            "✅ Datos cargados correctamente.\n"
          ]
        }
      ]
    },
    {
      "cell_type": "code",
      "source": [
        "# Muestra de imagenes y máscaras cargadas\n",
        "\n",
        "import random\n",
        "\n",
        "print(\"Train: \", len(X_train), len(y_train))\n",
        "print(\"Test: \", len(X_test), len(y_test))\n",
        "print(\"Val: \", len(X_val), len(y_val))\n",
        "\n",
        "pos = random.randint(0, len(X_train))\n",
        "plot_img_mask(np.int64(X_train[pos]), y_train[pos], None)\n",
        "\n",
        "pos = random.randint(0, len(X_test))\n",
        "plot_img_mask(np.int64(X_test[pos]), y_test[pos], None)\n",
        "\n",
        "pos = random.randint(0, len(X_val))\n",
        "plot_img_mask(np.int64(X_val[pos]), y_val[pos], None)\n",
        "\n",
        "print(\"Train: \", type(X_train), 'input range: ', np.min(X_train), np.max(X_train))\n",
        "print(\"Val: \", type(X_val), 'input range: ', np.min(X_val), np.max(X_val))\n",
        "print(\"Test: \", type(X_test), 'input range: ', np.min(X_test), np.max(X_test))\n"
      ],
      "metadata": {
        "id": "jVyyNChjPAzz",
        "colab": {
          "base_uri": "https://localhost:8080/",
          "height": 637
        },
        "outputId": "54dca91c-825f-4b76-c316-d82e03146168"
      },
      "id": "jVyyNChjPAzz",
      "execution_count": null,
      "outputs": [
        {
          "output_type": "stream",
          "name": "stdout",
          "text": [
            "Train:  1920 1920\n",
            "Test:  300 300\n",
            "Val:  480 480\n"
          ]
        },
        {
          "output_type": "display_data",
          "data": {
            "text/plain": [
              "<Figure size 300x300 with 2 Axes>"
            ],
            "image/png": "[encoded data removed]"
          },
          "metadata": {}
        },
        {
          "output_type": "display_data",
          "data": {
            "text/plain": [
              "<Figure size 300x300 with 2 Axes>"
            ],
            "image/png": "[encoded data removed]"
          },
          "metadata": {}
        },
        {
          "output_type": "display_data",
          "data": {
            "text/plain": [
              "<Figure size 300x300 with 2 Axes>"
            ],
            "image/png": "[encoded data removed]"
          },
          "metadata": {}
        },
        {
          "output_type": "stream",
          "name": "stdout",
          "text": [
            "Train:  <class 'numpy.ndarray'> input range:  0.0 215.04784\n",
            "Val:  <class 'numpy.ndarray'> input range:  0.0 201.98215\n",
            "Test:  <class 'numpy.ndarray'> input range:  0.0 215.41821\n"
          ]
        }
      ]
    },
    {
      "cell_type": "markdown",
      "source": [
        "#Definición del modelo y preprocesamiento de data"
      ],
      "metadata": {
        "id": "lxOBAMVrW_Nv"
      },
      "id": "lxOBAMVrW_Nv"
    },
    {
      "cell_type": "code",
      "source": [
        "model_type = \"efficientnetb2\"\n",
        "# \"resnet152\" \"efficientnetb2\" \"vgg19\"\n",
        "print(f'Cargando modelo: {model_type}')\n",
        "\n",
        "\n",
        "preprocessed_input = get_preprocessing(model_type)\n",
        "\n",
        "# Preprocesar las imágenes\n",
        "X_train_preprocessed = preprocessed_input(np.copy(X_train))\n",
        "X_val_preprocessed = preprocessed_input(np.copy(X_val))\n",
        "X_test_preprocessed = preprocessed_input(np.copy(X_test))\n",
        "\n",
        "print(\"Train: \", type(X_train_preprocessed), 'input range: ', np.min(X_train_preprocessed), np.max(X_train_preprocessed))\n",
        "print(\"Val: \", type(X_val_preprocessed), 'input range: ', np.min(X_val_preprocessed), np.max(X_val_preprocessed))\n",
        "print(\"Test: \", type(X_test_preprocessed), 'input range: ', np.min(X_test_preprocessed), np.max(X_test_preprocessed))\n",
        "\n"
      ],
      "metadata": {
        "colab": {
          "base_uri": "https://localhost:8080/"
        },
        "id": "URw3-ncOBoXz",
        "outputId": "84191942-805c-4bb3-ea36-5fff4c9c87f5"
      },
      "id": "URw3-ncOBoXz",
      "execution_count": null,
      "outputs": [
        {
          "output_type": "stream",
          "name": "stdout",
          "text": [
            "Cargando modelo: efficientnetb2\n",
            "Train:  <class 'numpy.ndarray'> input range:  -2.117904 1.9436661\n",
            "Val:  <class 'numpy.ndarray'> input range:  -2.117904 1.7159415\n",
            "Test:  <class 'numpy.ndarray'> input range:  -2.117904 1.9501214\n"
          ]
        }
      ]
    },
    {
      "cell_type": "code",
      "source": [
        "print(\"Unique y_train values:\", np.unique(y_train))\n",
        "print(\"Unique y_val values:\", np.unique(y_val))"
      ],
      "metadata": {
        "colab": {
          "base_uri": "https://localhost:8080/"
        },
        "id": "K04NI5HqHclD",
        "outputId": "a579f13d-7f83-483c-efc1-47274a35e537"
      },
      "id": "K04NI5HqHclD",
      "execution_count": null,
      "outputs": [
        {
          "output_type": "stream",
          "name": "stdout",
          "text": [
            "Unique y_train values: [0. 1.]\n",
            "Unique y_val values: [0. 1.]\n"
          ]
        }
      ]
    },
    {
      "cell_type": "code",
      "source": [
        "# 🔍 Verificar rutas y variables clave\n",
        "print(\"📁 base_path:\", base_path if 'base_path' in locals() else \"❌ No definido\")\n",
        "print(\"🧠 model_type:\", model_type if 'model_type' in locals() else \"❌ No definido\")\n",
        "print(\"🦠 defect:\", defect if 'defect' in locals() else \"❌ No definido\")\n",
        "\n",
        "checkpoint_path = f\"{base_path}/model/checkpoints_{model_type}_{defect}/{model_type}_last.keras\"\n",
        "print(\"📌 Ruta final del modelo:\", checkpoint_path)\n",
        "\n",
        "# Verificar si el archivo realmente existe\n",
        "if os.path.exists(checkpoint_path):\n",
        "    print(\"✅ Archivo encontrado. Intentando cargar el modelo...\")\n",
        "else:\n",
        "    print(\"❌ Archivo NO encontrado en la ruta especificada.\")"
      ],
      "metadata": {
        "colab": {
          "base_uri": "https://localhost:8080/"
        },
        "id": "eEElqc-o0TZw",
        "outputId": "64ea7709-759d-4fee-c251-df44c831b76a"
      },
      "id": "eEElqc-o0TZw",
      "execution_count": null,
      "outputs": [
        {
          "output_type": "stream",
          "name": "stdout",
          "text": [
            "📁 base_path: /content/drive/MyDrive/IV\n",
            "🧠 model_type: efficientnetb2\n",
            "🦠 defect: pores\n",
            "📌 Ruta final del modelo: /content/drive/MyDrive/IV/model/checkpoints_efficientnetb2_pores/efficientnetb2_last.keras\n",
            "❌ Archivo NO encontrado en la ruta especificada.\n"
          ]
        }
      ]
    },
    {
      "cell_type": "markdown",
      "source": [
        "#Entrenamiento"
      ],
      "metadata": {
        "id": "ZvTCeVrIXy8n"
      },
      "id": "ZvTCeVrIXy8n"
    },
    {
      "cell_type": "code",
      "source": [
        "import os\n",
        "import pickle\n",
        "import numpy as np\n",
        "import pandas as pd\n",
        "from datetime import datetime\n",
        "import tensorflow as tf\n",
        "import segmentation_models as sm\n",
        "from tensorflow.keras.callbacks import ModelCheckpoint, EarlyStopping, Callback\n",
        "\n",
        "print(f\"🔧 Usando modelo: {model_type}\")\n",
        "\n",
        "# === Registro para serialización ===\n",
        "@tf.keras.utils.register_keras_serializable(package=\"Custom\")\n",
        "def custom_bce_dice_loss(y_true, y_pred):\n",
        "    return sm.losses.bce_dice_loss(y_true, y_pred)\n",
        "\n",
        "@tf.keras.utils.register_keras_serializable(package=\"Custom\")\n",
        "def custom_iou_score(y_true, y_pred):\n",
        "    return sm.metrics.iou_score(y_true, y_pred)\n",
        "\n",
        "@tf.keras.utils.register_keras_serializable(package=\"Custom\")\n",
        "def custom_f1_score(y_true, y_pred):\n",
        "    return sm.metrics.f1_score(y_true, y_pred)\n",
        "\n",
        "# === 2. Rutas ===\n",
        "checkpoint_path = f\"{base_path}/model/checkpoints_{model_type}_{defect}/{model_type}_last.keras\"\n",
        "history_pkl_path = f\"{base_path}/model/checkpoints_{model_type}_{defect}/{model_type}_history.pkl\"\n",
        "history_csv_path = f\"{base_path}/model/checkpoints_{model_type}_{defect}/{model_type}_history.csv\"\n",
        "out_folder = f\"{base_path}/output/model_{defect}\"\n",
        "os.makedirs(os.path.dirname(checkpoint_path), exist_ok=True)\n",
        "os.makedirs(out_folder, exist_ok=True)\n",
        "\n",
        "# === 3. Callback mejorado para guardar historial .pkl y actualizar .csv ===\n",
        "class HistorySaver(Callback):\n",
        "    def __init__(self, pkl_path, csv_path):\n",
        "        super().__init__()\n",
        "        self.pkl_path = pkl_path\n",
        "        self.csv_path = csv_path\n",
        "\n",
        "        # Cargar historial CSV existente si hay\n",
        "        if os.path.exists(csv_path):\n",
        "            self.df_history = pd.read_csv(csv_path, index_col=\"epoch\")\n",
        "        else:\n",
        "            self.df_history = pd.DataFrame()\n",
        "\n",
        "    def on_epoch_end(self, epoch, logs=None):\n",
        "        logs = logs or {}\n",
        "        new_row = pd.DataFrame([logs], index=[epoch])\n",
        "        new_row.index.name = 'epoch'\n",
        "\n",
        "        # Agregar nueva fila al historial existente\n",
        "        self.df_history = pd.concat([self.df_history, new_row])\n",
        "        self.df_history = self.df_history[~self.df_history.index.duplicated(keep='last')]\n",
        "        self.df_history.sort_index(inplace=True)\n",
        "\n",
        "        # Guardar como CSV\n",
        "        self.df_history.to_csv(self.csv_path)\n",
        "        print(f\"📝 CSV actualizado hasta época {epoch + 1}\")\n",
        "\n",
        "        # También guardar como .pkl para reanudar\n",
        "        with open(self.pkl_path, 'wb') as f:\n",
        "            pickle.dump(self.df_history.to_dict(orient='list'), f)\n",
        "\n",
        "# === 4. Función para verificar historial válido ===\n",
        "def valid_history(hist):\n",
        "    return (\n",
        "        isinstance(hist, dict) and\n",
        "        'loss' in hist and\n",
        "        isinstance(hist['loss'], list) and\n",
        "        len(hist['loss']) > 0\n",
        "    )\n",
        "\n",
        "# === 5. Cargar o crear modelo ===\n",
        "os.makedirs(os.path.dirname(checkpoint_path), exist_ok=True)\n",
        "print(f\"Attempting to load model from: {checkpoint_path}\")\n",
        "\n",
        "if os.path.exists(checkpoint_path):\n",
        "    print(f\"🔁 Cargando modelo completo desde: {checkpoint_path}\")\n",
        "    model = tf.keras.models.load_model(\n",
        "        checkpoint_path,\n",
        "        custom_objects={\n",
        "            'custom_bce_dice_loss': custom_bce_dice_loss,\n",
        "            'custom_iou_score': custom_iou_score,\n",
        "            'custom_f1_score': custom_f1_score\n",
        "        }\n",
        "    )\n",
        "else:\n",
        "    print(\"🆕 Creando nuevo modelo...\")\n",
        "    model = sm.Unet(\n",
        "        backbone_name=model_type,\n",
        "        classes=1,\n",
        "        activation='sigmoid',\n",
        "        encoder_weights='imagenet'\n",
        "    )\n",
        "    model.compile(\n",
        "        optimizer='Adam',\n",
        "        loss=custom_bce_dice_loss,\n",
        "        metrics=[custom_iou_score, custom_f1_score]\n",
        "    )\n",
        "\n",
        "\n",
        "'''\n",
        "# === 5. Cargar o crear modelo ===\n",
        "# Ensure the directory exists before attempting to load the model\n",
        "os.makedirs(os.path.dirname(checkpoint_path), exist_ok=True)\n",
        "print(f\"Attempting to load model from: {checkpoint_path}\") # Added print statement\n",
        "if os.path.exists(checkpoint_path):\n",
        "    print(f\"🔁 Cargando modelo completo desde: {checkpoint_path}\")\n",
        "    model = tf.keras.models.load_model(\n",
        "        checkpoint_path,\n",
        "        custom_objects={\n",
        "            'custom_bce_dice_loss': custom_bce_dice_loss,\n",
        "            'custom_iou_score': custom_iou_score,\n",
        "            'custom_f1_score': custom_f1_score\n",
        "        }\n",
        "    )\n",
        "else:\n",
        "    print(\"🆕 Creando nuevo modelo...\")\n",
        "    model = sm.Unet(\n",
        "        backbone_name=model_type,\n",
        "        classes=1,\n",
        "        activation='sigmoid',\n",
        "        encoder_weights='imagenet'\n",
        "    )\n",
        "    model.compile(\n",
        "        optimizer='Adam',\n",
        "        loss=custom_bce_dice_loss,\n",
        "        metrics=[custom_iou_score, custom_f1_score]\n",
        "    )\n",
        "'''\n",
        "# === 6. Cargar historial si existe ===\n",
        "if os.path.exists(history_pkl_path):\n",
        "    with open(history_pkl_path, 'rb') as f:\n",
        "        previous_history = pickle.load(f)\n",
        "    if valid_history(previous_history):\n",
        "        print(f\"📈 Historial cargado con {len(previous_history['loss'])} épocas.\")\n",
        "    else:\n",
        "        previous_history = None\n",
        "        os.remove(history_pkl_path)\n",
        "        print(\"⚠️ Historial inválido. Se iniciará desde cero.\")\n",
        "else:\n",
        "    previous_history = None\n",
        "    print(\"📉 No se encontró historial previo.\")\n",
        "\n",
        "initial_epoch = len(previous_history['loss']) if previous_history else 0\n",
        "\n",
        "# === 7. Entrenamiento ===\n",
        "batch_size = 16\n",
        "epochs = 500\n",
        "\n",
        "callbacks = [\n",
        "    EarlyStopping(patience=10, restore_best_weights=True),\n",
        "    ModelCheckpoint(\n",
        "        filepath=checkpoint_path,\n",
        "        save_best_only=False,\n",
        "        save_weights_only=False  # ✅ Guarda modelo completo (.keras)\n",
        "    ),\n",
        "    HistorySaver(history_pkl_path, history_csv_path)\n",
        "]\n",
        "\n",
        "'''callbacks = [\n",
        "    EarlyStopping(patience=10, restore_best_weights=True),\n",
        "    ModelCheckpoint(checkpoint_path, save_best_only=False),\n",
        "    HistorySaver(history_pkl_path, history_csv_path)\n",
        "]'''\n",
        "\n",
        "history = model.fit(\n",
        "    x=X_train_preprocessed,\n",
        "    y=y_train,\n",
        "    batch_size=batch_size,\n",
        "    epochs=epochs,\n",
        "    initial_epoch=initial_epoch,\n",
        "    validation_data=(X_val_preprocessed, y_val),\n",
        "    callbacks=callbacks\n",
        ")\n",
        "\n",
        "# === 8. Guardar modelo final completo ===\n",
        "now = datetime.now().strftime(\"%Y%m%d_%H%M%S\")\n",
        "final_model_path = f'{out_folder}/{now}-{model_type}-{defect}.keras'\n",
        "model.save(final_model_path)\n",
        "print(f\"✅ Modelo final guardado: {final_model_path}\")\n",
        "\n",
        "# === 9. Evaluación ===\n",
        "print(\"\\n📊 Validación:\")\n",
        "model.evaluate(X_val_preprocessed, y_val)\n",
        "\n",
        "print(\"\\n📊 Test:\")\n",
        "model.evaluate(X_test_preprocessed, y_test)\n",
        "\n",
        "# === 10. Predicción ===\n",
        "pred = model.predict(X_test_preprocessed)"
      ],
      "metadata": {
        "colab": {
          "base_uri": "https://localhost:8080/"
        },
        "id": "cZEd7XltcE9E",
        "outputId": "0b831348-5364-476f-9e4b-c2bb226f3c45"
      },
      "id": "cZEd7XltcE9E",
      "execution_count": null,
      "outputs": [
        {
          "output_type": "stream",
          "name": "stdout",
          "text": [
            "🔧 Usando modelo: efficientnetb2\n",
            "Attempting to load model from: /content/drive/MyDrive/IV/model/checkpoints_efficientnetb2_pores/efficientnetb2_last.keras\n",
            "🆕 Creando nuevo modelo...\n",
            "Downloading data from https://github.com/Callidior/keras-applications/releases/download/efficientnet/efficientnet-b2_weights_tf_dim_ordering_tf_kernels_autoaugment_notop.h5\n",
            "\u001b[1m31936256/31936256\u001b[0m \u001b[32m━━━━━━━━━━━━━━━━━━━━\u001b[0m\u001b[37m\u001b[0m \u001b[1m0s\u001b[0m 0us/step\n",
            "📉 No se encontró historial previo.\n",
            "Epoch 1/500\n",
            "\u001b[1m120/120\u001b[0m \u001b[32m━━━━━━━━━━━━━━━━━━━━\u001b[0m\u001b[37m\u001b[0m \u001b[1m0s\u001b[0m 193ms/step - custom_f1_score: 0.0031 - custom_iou_score: 0.0015 - loss: 1.5245📝 CSV actualizado hasta época 1\n",
            "\u001b[1m120/120\u001b[0m \u001b[32m━━━━━━━━━━━━━━━━━━━━\u001b[0m\u001b[37m\u001b[0m \u001b[1m160s\u001b[0m 318ms/step - custom_f1_score: 0.0031 - custom_iou_score: 0.0015 - loss: 1.5223 - val_custom_f1_score: 0.0067 - val_custom_iou_score: 0.0033 - val_loss: 1.1850\n",
            "Epoch 2/500\n",
            "\u001b[1m120/120\u001b[0m \u001b[32m━━━━━━━━━━━━━━━━━━━━\u001b[0m\u001b[37m\u001b[0m \u001b[1m0s\u001b[0m 196ms/step - custom_f1_score: 0.0921 - custom_iou_score: 0.0518 - loss: 0.9365📝 CSV actualizado hasta época 2\n",
            "\u001b[1m120/120\u001b[0m \u001b[32m━━━━━━━━━━━━━━━━━━━━\u001b[0m\u001b[37m\u001b[0m \u001b[1m29s\u001b[0m 238ms/step - custom_f1_score: 0.0930 - custom_iou_score: 0.0524 - loss: 0.9355 - val_custom_f1_score: 0.1897 - val_custom_iou_score: 0.1061 - val_loss: 0.8487\n",
            "Epoch 3/500\n",
            "\u001b[1m120/120\u001b[0m \u001b[32m━━━━━━━━━━━━━━━━━━━━\u001b[0m\u001b[37m\u001b[0m \u001b[1m0s\u001b[0m 204ms/step - custom_f1_score: 0.4459 - custom_iou_score: 0.2952 - loss: 0.5639📝 CSV actualizado hasta época 3\n",
            "\u001b[1m120/120\u001b[0m \u001b[32m━━━━━━━━━━━━━━━━━━━━\u001b[0m\u001b[37m\u001b[0m \u001b[1m29s\u001b[0m 244ms/step - custom_f1_score: 0.4463 - custom_iou_score: 0.2955 - loss: 0.5635 - val_custom_f1_score: 0.4386 - val_custom_iou_score: 0.2884 - val_loss: 0.5725\n",
            "Epoch 4/500\n",
            "\u001b[1m120/120\u001b[0m \u001b[32m━━━━━━━━━━━━━━━━━━━━\u001b[0m\u001b[37m\u001b[0m \u001b[1m0s\u001b[0m 206ms/step - custom_f1_score: 0.5296 - custom_iou_score: 0.3695 - loss: 0.4803📝 CSV actualizado hasta época 4\n",
            "\u001b[1m120/120\u001b[0m \u001b[32m━━━━━━━━━━━━━━━━━━━━\u001b[0m\u001b[37m\u001b[0m \u001b[1m29s\u001b[0m 238ms/step - custom_f1_score: 0.5298 - custom_iou_score: 0.3697 - loss: 0.4801 - val_custom_f1_score: 0.5753 - val_custom_iou_score: 0.4120 - val_loss: 0.4353\n",
            "Epoch 5/500\n",
            "\u001b[1m120/120\u001b[0m \u001b[32m━━━━━━━━━━━━━━━━━━━━\u001b[0m\u001b[37m\u001b[0m \u001b[1m0s\u001b[0m 205ms/step - custom_f1_score: 0.5737 - custom_iou_score: 0.4151 - loss: 0.4357📝 CSV actualizado hasta época 5\n",
            "\u001b[1m120/120\u001b[0m \u001b[32m━━━━━━━━━━━━━━━━━━━━\u001b[0m\u001b[37m\u001b[0m \u001b[1m28s\u001b[0m 235ms/step - custom_f1_score: 0.5737 - custom_iou_score: 0.4150 - loss: 0.4358 - val_custom_f1_score: 0.5683 - val_custom_iou_score: 0.4074 - val_loss: 0.4431\n",
            "Epoch 6/500\n",
            "\u001b[1m120/120\u001b[0m \u001b[32m━━━━━━━━━━━━━━━━━━━━\u001b[0m\u001b[37m\u001b[0m \u001b[1m0s\u001b[0m 201ms/step - custom_f1_score: 0.5968 - custom_iou_score: 0.4380 - loss: 0.4122📝 CSV actualizado hasta época 6\n",
            "\u001b[1m120/120\u001b[0m \u001b[32m━━━━━━━━━━━━━━━━━━━━\u001b[0m\u001b[37m\u001b[0m \u001b[1m41s\u001b[0m 237ms/step - custom_f1_score: 0.5969 - custom_iou_score: 0.4381 - loss: 0.4121 - val_custom_f1_score: 0.5790 - val_custom_iou_score: 0.4184 - val_loss: 0.4307\n",
            "Epoch 7/500\n",
            "\u001b[1m120/120\u001b[0m \u001b[32m━━━━━━━━━━━━━━━━━━━━\u001b[0m\u001b[37m\u001b[0m \u001b[1m0s\u001b[0m 203ms/step - custom_f1_score: 0.6342 - custom_iou_score: 0.4790 - loss: 0.3729📝 CSV actualizado hasta época 7\n",
            "\u001b[1m120/120\u001b[0m \u001b[32m━━━━━━━━━━━━━━━━━━━━\u001b[0m\u001b[37m\u001b[0m \u001b[1m41s\u001b[0m 241ms/step - custom_f1_score: 0.6341 - custom_iou_score: 0.4790 - loss: 0.3729 - val_custom_f1_score: 0.5760 - val_custom_iou_score: 0.4127 - val_loss: 0.4358\n",
            "Epoch 8/500\n",
            "\u001b[1m120/120\u001b[0m \u001b[32m━━━━━━━━━━━━━━━━━━━━\u001b[0m\u001b[37m\u001b[0m \u001b[1m0s\u001b[0m 202ms/step - custom_f1_score: 0.6398 - custom_iou_score: 0.4817 - loss: 0.3683📝 CSV actualizado hasta época 8\n",
            "\u001b[1m120/120\u001b[0m \u001b[32m━━━━━━━━━━━━━━━━━━━━\u001b[0m\u001b[37m\u001b[0m \u001b[1m41s\u001b[0m 242ms/step - custom_f1_score: 0.6397 - custom_iou_score: 0.4817 - loss: 0.3684 - val_custom_f1_score: 0.6024 - val_custom_iou_score: 0.4409 - val_loss: 0.4078\n",
            "Epoch 9/500\n",
            "\u001b[1m120/120\u001b[0m \u001b[32m━━━━━━━━━━━━━━━━━━━━\u001b[0m\u001b[37m\u001b[0m \u001b[1m0s\u001b[0m 205ms/step - custom_f1_score: 0.6452 - custom_iou_score: 0.4880 - loss: 0.3626📝 CSV actualizado hasta época 9\n",
            "\u001b[1m120/120\u001b[0m \u001b[32m━━━━━━━━━━━━━━━━━━━━\u001b[0m\u001b[37m\u001b[0m \u001b[1m28s\u001b[0m 234ms/step - custom_f1_score: 0.6453 - custom_iou_score: 0.4881 - loss: 0.3626 - val_custom_f1_score: 0.5488 - val_custom_iou_score: 0.3917 - val_loss: 0.4631\n",
            "Epoch 10/500\n",
            "\u001b[1m120/120\u001b[0m \u001b[32m━━━━━━━━━━━━━━━━━━━━\u001b[0m\u001b[37m\u001b[0m \u001b[1m0s\u001b[0m 202ms/step - custom_f1_score: 0.6681 - custom_iou_score: 0.5167 - loss: 0.3391📝 CSV actualizado hasta época 10\n",
            "\u001b[1m120/120\u001b[0m \u001b[32m━━━━━━━━━━━━━━━━━━━━\u001b[0m\u001b[37m\u001b[0m \u001b[1m41s\u001b[0m 231ms/step - custom_f1_score: 0.6681 - custom_iou_score: 0.5167 - loss: 0.3391 - val_custom_f1_score: 0.6009 - val_custom_iou_score: 0.4419 - val_loss: 0.4106\n",
            "Epoch 11/500\n",
            "\u001b[1m120/120\u001b[0m \u001b[32m━━━━━━━━━━━━━━━━━━━━\u001b[0m\u001b[37m\u001b[0m \u001b[1m0s\u001b[0m 208ms/step - custom_f1_score: 0.6711 - custom_iou_score: 0.5194 - loss: 0.3360📝 CSV actualizado hasta época 11\n",
            "\u001b[1m120/120\u001b[0m \u001b[32m━━━━━━━━━━━━━━━━━━━━\u001b[0m\u001b[37m\u001b[0m \u001b[1m29s\u001b[0m 240ms/step - custom_f1_score: 0.6712 - custom_iou_score: 0.5195 - loss: 0.3359 - val_custom_f1_score: 0.5983 - val_custom_iou_score: 0.4390 - val_loss: 0.4119\n",
            "Epoch 12/500\n",
            "\u001b[1m120/120\u001b[0m \u001b[32m━━━━━━━━━━━━━━━━━━━━\u001b[0m\u001b[37m\u001b[0m \u001b[1m0s\u001b[0m 202ms/step - custom_f1_score: 0.6839 - custom_iou_score: 0.5311 - loss: 0.3237📝 CSV actualizado hasta época 12\n",
            "\u001b[1m120/120\u001b[0m \u001b[32m━━━━━━━━━━━━━━━━━━━━\u001b[0m\u001b[37m\u001b[0m \u001b[1m41s\u001b[0m 239ms/step - custom_f1_score: 0.6839 - custom_iou_score: 0.5311 - loss: 0.3237 - val_custom_f1_score: 0.6091 - val_custom_iou_score: 0.4467 - val_loss: 0.4018\n",
            "Epoch 13/500\n",
            "\u001b[1m120/120\u001b[0m \u001b[32m━━━━━━━━━━━━━━━━━━━━\u001b[0m\u001b[37m\u001b[0m \u001b[1m0s\u001b[0m 204ms/step - custom_f1_score: 0.6978 - custom_iou_score: 0.5447 - loss: 0.3093📝 CSV actualizado hasta época 13\n",
            "\u001b[1m120/120\u001b[0m \u001b[32m━━━━━━━━━━━━━━━━━━━━\u001b[0m\u001b[37m\u001b[0m \u001b[1m41s\u001b[0m 242ms/step - custom_f1_score: 0.6978 - custom_iou_score: 0.5447 - loss: 0.3093 - val_custom_f1_score: 0.6158 - val_custom_iou_score: 0.4537 - val_loss: 0.3943\n",
            "Epoch 14/500\n",
            "\u001b[1m120/120\u001b[0m \u001b[32m━━━━━━━━━━━━━━━━━━━━\u001b[0m\u001b[37m\u001b[0m \u001b[1m0s\u001b[0m 206ms/step - custom_f1_score: 0.6950 - custom_iou_score: 0.5460 - loss: 0.3120📝 CSV actualizado hasta época 14\n",
            "\u001b[1m120/120\u001b[0m \u001b[32m━━━━━━━━━━━━━━━━━━━━\u001b[0m\u001b[37m\u001b[0m \u001b[1m28s\u001b[0m 237ms/step - custom_f1_score: 0.6950 - custom_iou_score: 0.5459 - loss: 0.3120 - val_custom_f1_score: 0.5732 - val_custom_iou_score: 0.4107 - val_loss: 0.4400\n",
            "Epoch 15/500\n",
            "\u001b[1m120/120\u001b[0m \u001b[32m━━━━━━━━━━━━━━━━━━━━\u001b[0m\u001b[37m\u001b[0m \u001b[1m0s\u001b[0m 205ms/step - custom_f1_score: 0.6618 - custom_iou_score: 0.5120 - loss: 0.3460📝 CSV actualizado hasta época 15\n",
            "\u001b[1m120/120\u001b[0m \u001b[32m━━━━━━━━━━━━━━━━━━━━\u001b[0m\u001b[37m\u001b[0m \u001b[1m34s\u001b[0m 279ms/step - custom_f1_score: 0.6620 - custom_iou_score: 0.5123 - loss: 0.3457 - val_custom_f1_score: 0.6074 - val_custom_iou_score: 0.4463 - val_loss: 0.4041\n",
            "Epoch 16/500\n",
            "\u001b[1m120/120\u001b[0m \u001b[32m━━━━━━━━━━━━━━━━━━━━\u001b[0m\u001b[37m\u001b[0m \u001b[1m0s\u001b[0m 206ms/step - custom_f1_score: 0.7131 - custom_iou_score: 0.5621 - loss: 0.2942📝 CSV actualizado hasta época 16\n",
            "\u001b[1m120/120\u001b[0m \u001b[32m━━━━━━━━━━━━━━━━━━━━\u001b[0m\u001b[37m\u001b[0m \u001b[1m33s\u001b[0m 273ms/step - custom_f1_score: 0.7129 - custom_iou_score: 0.5619 - loss: 0.2943 - val_custom_f1_score: 0.6194 - val_custom_iou_score: 0.4591 - val_loss: 0.3915\n",
            "Epoch 17/500\n",
            "\u001b[1m120/120\u001b[0m \u001b[32m━━━━━━━━━━━━━━━━━━━━\u001b[0m\u001b[37m\u001b[0m \u001b[1m0s\u001b[0m 205ms/step - custom_f1_score: 0.7183 - custom_iou_score: 0.5713 - loss: 0.2885📝 CSV actualizado hasta época 17\n",
            "\u001b[1m120/120\u001b[0m \u001b[32m━━━━━━━━━━━━━━━━━━━━\u001b[0m\u001b[37m\u001b[0m \u001b[1m30s\u001b[0m 245ms/step - custom_f1_score: 0.7182 - custom_iou_score: 0.5712 - loss: 0.2886 - val_custom_f1_score: 0.6071 - val_custom_iou_score: 0.4467 - val_loss: 0.4040\n",
            "Epoch 18/500\n",
            "\u001b[1m120/120\u001b[0m \u001b[32m━━━━━━━━━━━━━━━━━━━━\u001b[0m\u001b[37m\u001b[0m \u001b[1m0s\u001b[0m 203ms/step - custom_f1_score: 0.7284 - custom_iou_score: 0.5809 - loss: 0.2783📝 CSV actualizado hasta época 18\n",
            "\u001b[1m120/120\u001b[0m \u001b[32m━━━━━━━━━━━━━━━━━━━━\u001b[0m\u001b[37m\u001b[0m \u001b[1m42s\u001b[0m 257ms/step - custom_f1_score: 0.7283 - custom_iou_score: 0.5808 - loss: 0.2784 - val_custom_f1_score: 0.5980 - val_custom_iou_score: 0.4388 - val_loss: 0.4134\n",
            "Epoch 19/500\n",
            "\u001b[1m120/120\u001b[0m \u001b[32m━━━━━━━━━━━━━━━━━━━━\u001b[0m\u001b[37m\u001b[0m \u001b[1m0s\u001b[0m 203ms/step - custom_f1_score: 0.7239 - custom_iou_score: 0.5763 - loss: 0.2829📝 CSV actualizado hasta época 19\n",
            "\u001b[1m120/120\u001b[0m \u001b[32m━━━━━━━━━━━━━━━━━━━━\u001b[0m\u001b[37m\u001b[0m \u001b[1m41s\u001b[0m 257ms/step - custom_f1_score: 0.7239 - custom_iou_score: 0.5764 - loss: 0.2828 - val_custom_f1_score: 0.5667 - val_custom_iou_score: 0.4075 - val_loss: 0.4451\n",
            "Epoch 20/500\n",
            "\u001b[1m120/120\u001b[0m \u001b[32m━━━━━━━━━━━━━━━━━━━━\u001b[0m\u001b[37m\u001b[0m \u001b[1m0s\u001b[0m 202ms/step - custom_f1_score: 0.7286 - custom_iou_score: 0.5859 - loss: 0.2775📝 CSV actualizado hasta época 20\n",
            "\u001b[1m120/120\u001b[0m \u001b[32m━━━━━━━━━━━━━━━━━━━━\u001b[0m\u001b[37m\u001b[0m \u001b[1m41s\u001b[0m 260ms/step - custom_f1_score: 0.7287 - custom_iou_score: 0.5859 - loss: 0.2775 - val_custom_f1_score: 0.6067 - val_custom_iou_score: 0.4457 - val_loss: 0.4045\n",
            "Epoch 21/500\n",
            "\u001b[1m120/120\u001b[0m \u001b[32m━━━━━━━━━━━━━━━━━━━━\u001b[0m\u001b[37m\u001b[0m \u001b[1m0s\u001b[0m 205ms/step - custom_f1_score: 0.7420 - custom_iou_score: 0.6022 - loss: 0.2640📝 CSV actualizado hasta época 21\n",
            "\u001b[1m120/120\u001b[0m \u001b[32m━━━━━━━━━━━━━━━━━━━━\u001b[0m\u001b[37m\u001b[0m \u001b[1m39s\u001b[0m 240ms/step - custom_f1_score: 0.7420 - custom_iou_score: 0.6022 - loss: 0.2640 - val_custom_f1_score: 0.4417 - val_custom_iou_score: 0.2928 - val_loss: 0.5730\n",
            "Epoch 22/500\n",
            "\u001b[1m120/120\u001b[0m \u001b[32m━━━━━━━━━━━━━━━━━━━━\u001b[0m\u001b[37m\u001b[0m \u001b[1m0s\u001b[0m 203ms/step - custom_f1_score: 0.7408 - custom_iou_score: 0.6003 - loss: 0.2655📝 CSV actualizado hasta época 22\n",
            "\u001b[1m120/120\u001b[0m \u001b[32m━━━━━━━━━━━━━━━━━━━━\u001b[0m\u001b[37m\u001b[0m \u001b[1m45s\u001b[0m 276ms/step - custom_f1_score: 0.7408 - custom_iou_score: 0.6003 - loss: 0.2655 - val_custom_f1_score: 0.5845 - val_custom_iou_score: 0.4238 - val_loss: 0.4266\n",
            "Epoch 23/500\n",
            "\u001b[1m120/120\u001b[0m \u001b[32m━━━━━━━━━━━━━━━━━━━━\u001b[0m\u001b[37m\u001b[0m \u001b[1m0s\u001b[0m 206ms/step - custom_f1_score: 0.7560 - custom_iou_score: 0.6159 - loss: 0.2498📝 CSV actualizado hasta época 23\n",
            "\u001b[1m120/120\u001b[0m \u001b[32m━━━━━━━━━━━━━━━━━━━━\u001b[0m\u001b[37m\u001b[0m \u001b[1m35s\u001b[0m 290ms/step - custom_f1_score: 0.7559 - custom_iou_score: 0.6158 - loss: 0.2499 - val_custom_f1_score: 0.6220 - val_custom_iou_score: 0.4606 - val_loss: 0.3890\n",
            "Epoch 24/500\n",
            "\u001b[1m120/120\u001b[0m \u001b[32m━━━━━━━━━━━━━━━━━━━━\u001b[0m\u001b[37m\u001b[0m \u001b[1m0s\u001b[0m 206ms/step - custom_f1_score: 0.7587 - custom_iou_score: 0.6258 - loss: 0.2468📝 CSV actualizado hasta época 24\n",
            "\u001b[1m120/120\u001b[0m \u001b[32m━━━━━━━━━━━━━━━━━━━━\u001b[0m\u001b[37m\u001b[0m \u001b[1m39s\u001b[0m 270ms/step - custom_f1_score: 0.7586 - custom_iou_score: 0.6256 - loss: 0.2469 - val_custom_f1_score: 0.6215 - val_custom_iou_score: 0.4620 - val_loss: 0.3899\n",
            "Epoch 25/500\n",
            "\u001b[1m120/120\u001b[0m \u001b[32m━━━━━━━━━━━━━━━━━━━━\u001b[0m\u001b[37m\u001b[0m \u001b[1m0s\u001b[0m 207ms/step - custom_f1_score: 0.7432 - custom_iou_score: 0.6034 - loss: 0.2631📝 CSV actualizado hasta época 25\n",
            "\u001b[1m120/120\u001b[0m \u001b[32m━━━━━━━━━━━━━━━━━━━━\u001b[0m\u001b[37m\u001b[0m \u001b[1m45s\u001b[0m 306ms/step - custom_f1_score: 0.7433 - custom_iou_score: 0.6035 - loss: 0.2630 - val_custom_f1_score: 0.6253 - val_custom_iou_score: 0.4640 - val_loss: 0.3857\n",
            "Epoch 26/500\n",
            "\u001b[1m120/120\u001b[0m \u001b[32m━━━━━━━━━━━━━━━━━━━━\u001b[0m\u001b[37m\u001b[0m \u001b[1m0s\u001b[0m 206ms/step - custom_f1_score: 0.7599 - custom_iou_score: 0.6197 - loss: 0.2460📝 CSV actualizado hasta época 26\n",
            "\u001b[1m120/120\u001b[0m \u001b[32m━━━━━━━━━━━━━━━━━━━━\u001b[0m\u001b[37m\u001b[0m \u001b[1m41s\u001b[0m 305ms/step - custom_f1_score: 0.7599 - custom_iou_score: 0.6197 - loss: 0.2460 - val_custom_f1_score: 0.6159 - val_custom_iou_score: 0.4541 - val_loss: 0.3957\n",
            "Epoch 27/500\n",
            "\u001b[1m120/120\u001b[0m \u001b[32m━━━━━━━━━━━━━━━━━━━━\u001b[0m\u001b[37m\u001b[0m \u001b[1m0s\u001b[0m 206ms/step - custom_f1_score: 0.7808 - custom_iou_score: 0.6479 - loss: 0.2244📝 CSV actualizado hasta época 27\n",
            "\u001b[1m120/120\u001b[0m \u001b[32m━━━━━━━━━━━━━━━━━━━━\u001b[0m\u001b[37m\u001b[0m \u001b[1m34s\u001b[0m 251ms/step - custom_f1_score: 0.7806 - custom_iou_score: 0.6477 - loss: 0.2245 - val_custom_f1_score: 0.5554 - val_custom_iou_score: 0.3994 - val_loss: 0.4569\n",
            "Epoch 28/500\n",
            "\u001b[1m120/120\u001b[0m \u001b[32m━━━━━━━━━━━━━━━━━━━━\u001b[0m\u001b[37m\u001b[0m \u001b[1m0s\u001b[0m 205ms/step - custom_f1_score: 0.7601 - custom_iou_score: 0.6205 - loss: 0.2459📝 CSV actualizado hasta época 28\n",
            "\u001b[1m120/120\u001b[0m \u001b[32m━━━━━━━━━━━━━━━━━━━━\u001b[0m\u001b[37m\u001b[0m \u001b[1m45s\u001b[0m 288ms/step - custom_f1_score: 0.7601 - custom_iou_score: 0.6204 - loss: 0.2459 - val_custom_f1_score: 0.6116 - val_custom_iou_score: 0.4495 - val_loss: 0.4007\n",
            "Epoch 29/500\n",
            "\u001b[1m120/120\u001b[0m \u001b[32m━━━━━━━━━━━━━━━━━━━━\u001b[0m\u001b[37m\u001b[0m \u001b[1m0s\u001b[0m 205ms/step - custom_f1_score: 0.7532 - custom_iou_score: 0.6171 - loss: 0.2522📝 CSV actualizado hasta época 29\n",
            "\u001b[1m120/120\u001b[0m \u001b[32m━━━━━━━━━━━━━━━━━━━━\u001b[0m\u001b[37m\u001b[0m \u001b[1m41s\u001b[0m 293ms/step - custom_f1_score: 0.7533 - custom_iou_score: 0.6172 - loss: 0.2521 - val_custom_f1_score: 0.6076 - val_custom_iou_score: 0.4481 - val_loss: 0.4037\n",
            "Epoch 30/500\n",
            "\u001b[1m120/120\u001b[0m \u001b[32m━━━━━━━━━━━━━━━━━━━━\u001b[0m\u001b[37m\u001b[0m \u001b[1m0s\u001b[0m 205ms/step - custom_f1_score: 0.7734 - custom_iou_score: 0.6381 - loss: 0.2321📝 CSV actualizado hasta época 30\n",
            "\u001b[1m120/120\u001b[0m \u001b[32m━━━━━━━━━━━━━━━━━━━━\u001b[0m\u001b[37m\u001b[0m \u001b[1m49s\u001b[0m 357ms/step - custom_f1_score: 0.7735 - custom_iou_score: 0.6382 - loss: 0.2321 - val_custom_f1_score: 0.5806 - val_custom_iou_score: 0.4210 - val_loss: 0.4308\n",
            "Epoch 31/500\n",
            "\u001b[1m120/120\u001b[0m \u001b[32m━━━━━━━━━━━━━━━━━━━━\u001b[0m\u001b[37m\u001b[0m \u001b[1m0s\u001b[0m 207ms/step - custom_f1_score: 0.7819 - custom_iou_score: 0.6500 - loss: 0.2238📝 CSV actualizado hasta época 31\n",
            "\u001b[1m120/120\u001b[0m \u001b[32m━━━━━━━━━━━━━━━━━━━━\u001b[0m\u001b[37m\u001b[0m \u001b[1m39s\u001b[0m 326ms/step - custom_f1_score: 0.7818 - custom_iou_score: 0.6500 - loss: 0.2238 - val_custom_f1_score: 0.5998 - val_custom_iou_score: 0.4395 - val_loss: 0.4115\n",
            "Epoch 32/500\n",
            "\u001b[1m120/120\u001b[0m \u001b[32m━━━━━━━━━━━━━━━━━━━━\u001b[0m\u001b[37m\u001b[0m \u001b[1m0s\u001b[0m 205ms/step - custom_f1_score: 0.7617 - custom_iou_score: 0.6274 - loss: 0.2438📝 CSV actualizado hasta época 32\n",
            "\u001b[1m120/120\u001b[0m \u001b[32m━━━━━━━━━━━━━━━━━━━━\u001b[0m\u001b[37m\u001b[0m \u001b[1m34s\u001b[0m 264ms/step - custom_f1_score: 0.7617 - custom_iou_score: 0.6275 - loss: 0.2438 - val_custom_f1_score: 0.5839 - val_custom_iou_score: 0.4243 - val_loss: 0.4280\n",
            "Epoch 33/500\n",
            "\u001b[1m120/120\u001b[0m \u001b[32m━━━━━━━━━━━━━━━━━━━━\u001b[0m\u001b[37m\u001b[0m \u001b[1m0s\u001b[0m 205ms/step - custom_f1_score: 0.7427 - custom_iou_score: 0.6100 - loss: 0.2630📝 CSV actualizado hasta época 33\n",
            "\u001b[1m120/120\u001b[0m \u001b[32m━━━━━━━━━━━━━━━━━━━━\u001b[0m\u001b[37m\u001b[0m \u001b[1m44s\u001b[0m 292ms/step - custom_f1_score: 0.7429 - custom_iou_score: 0.6102 - loss: 0.2628 - val_custom_f1_score: 0.6004 - val_custom_iou_score: 0.4394 - val_loss: 0.4115\n",
            "Epoch 34/500\n",
            "\u001b[1m120/120\u001b[0m \u001b[32m━━━━━━━━━━━━━━━━━━━━\u001b[0m\u001b[37m\u001b[0m \u001b[1m0s\u001b[0m 206ms/step - custom_f1_score: 0.7752 - custom_iou_score: 0.6404 - loss: 0.2299📝 CSV actualizado hasta época 34\n",
            "\u001b[1m120/120\u001b[0m \u001b[32m━━━━━━━━━━━━━━━━━━━━\u001b[0m\u001b[37m\u001b[0m \u001b[1m41s\u001b[0m 340ms/step - custom_f1_score: 0.7753 - custom_iou_score: 0.6405 - loss: 0.2298 - val_custom_f1_score: 0.6006 - val_custom_iou_score: 0.4402 - val_loss: 0.4117\n",
            "Epoch 35/500\n",
            "\u001b[1m120/120\u001b[0m \u001b[32m━━━━━━━━━━━━━━━━━━━━\u001b[0m\u001b[37m\u001b[0m \u001b[1m0s\u001b[0m 206ms/step - custom_f1_score: 0.7663 - custom_iou_score: 0.6327 - loss: 0.2392📝 CSV actualizado hasta época 35\n",
            "\u001b[1m120/120\u001b[0m \u001b[32m━━━━━━━━━━━━━━━━━━━━\u001b[0m\u001b[37m\u001b[0m \u001b[1m39s\u001b[0m 324ms/step - custom_f1_score: 0.7663 - custom_iou_score: 0.6327 - loss: 0.2392 - val_custom_f1_score: 0.6098 - val_custom_iou_score: 0.4500 - val_loss: 0.4021\n",
            "✅ Modelo final guardado: /content/drive/MyDrive/IV/output/model_pores/20250729_114406-efficientnetb2-pores.keras\n",
            "\n",
            "📊 Validación:\n",
            "\u001b[1m15/15\u001b[0m \u001b[32m━━━━━━━━━━━━━━━━━━━━\u001b[0m\u001b[37m\u001b[0m \u001b[1m22s\u001b[0m 109ms/step - custom_f1_score: 0.6623 - custom_iou_score: 0.4981 - loss: 0.3483\n",
            "\n",
            "📊 Test:\n",
            "\u001b[1m10/10\u001b[0m \u001b[32m━━━━━━━━━━━━━━━━━━━━\u001b[0m\u001b[37m\u001b[0m \u001b[1m11s\u001b[0m 1s/step - custom_f1_score: 0.6159 - custom_iou_score: 0.4474 - loss: 0.3919\n",
            "\u001b[1m10/10\u001b[0m \u001b[32m━━━━━━━━━━━━━━━━━━━━\u001b[0m\u001b[37m\u001b[0m \u001b[1m18s\u001b[0m 1s/step\n"
          ]
        }
      ]
    },
    {
      "cell_type": "code",
      "source": [
        "import matplotlib.pyplot as plt\n",
        "import os\n",
        "import numpy as np\n",
        "\n",
        "# === 1. Generar predicciones (si no lo hiciste ya) ===\n",
        "y_pred = model.predict(X_test_preprocessed)\n",
        "\n",
        "# Define the base directory for output and predictions\n",
        "output_dir = f\"{base_path}/output\"\n",
        "predictions_dir = os.path.join(output_dir, f\"predictions_{defect}_{model_type}\")\n",
        "results_dir = os.path.join(predictions_dir, f\"visualizations_{defect}_{model_type}\") # Keep visualization directory as before\n",
        "\n",
        "# Create the necessary directories if they don't exist\n",
        "os.makedirs(predictions_dir, exist_ok=True)\n",
        "os.makedirs(results_dir, exist_ok=True)\n",
        "\n",
        "# === 2. Guardar predicciones como .npy ===\n",
        "np.save(os.path.join(predictions_dir, \"y_pred_test.npy\"), y_pred)\n",
        "print(\"✅ Predicciones guardadas.\")\n",
        "\n",
        "# === 3. Visualizar y guardar comparaciones ===\n",
        "# Escala las máscaras para visualización (umbral opcional)\n",
        "threshold = 0.5\n",
        "y_pred_bin = (y_pred > threshold).astype(np.uint8)\n",
        "\n",
        "# Iterar sobre algunas muestras (puedes limitar si es mucho)\n",
        "for i in range(len(X_test)):\n",
        "    fig, axes = plt.subplots(1, 3, figsize=(12, 4))\n",
        "    original_image_display = np.clip(X_test[i], 0, 255).astype(np.uint8)\n",
        "\n",
        "\n",
        "\n",
        "    # Imagen original\n",
        "    axes[0].imshow(original_image_display)\n",
        "    axes[0].set_title(\"Imagen original\")\n",
        "    axes[0].axis(\"off\")\n",
        "\n",
        "    # Ground truth\n",
        "    axes[1].imshow(y_test[i].squeeze(), cmap='gray')\n",
        "    axes[1].set_title(\"Máscara Real\")\n",
        "    axes[1].axis(\"off\")\n",
        "\n",
        "    # Predicción\n",
        "    axes[2].imshow(y_pred_bin[i].squeeze(), cmap='gray')\n",
        "    axes[2].set_title(\"Predicción\")\n",
        "    axes[2].axis(\"off\")\n",
        "\n",
        "    plt.tight_layout()\n",
        "    save_path = os.path.join(results_dir, f\"test_{i:03d}.png\")\n",
        "    plt.savefig(save_path)\n",
        "    plt.close()\n",
        "\n",
        "print(f\"🖼️ Visualizaciones guardadas en: {results_dir}\")"
      ],
      "metadata": {
        "id": "g9NfDeNlIzVB",
        "outputId": "93de45fd-8845-448f-fd8e-b045336705f0",
        "colab": {
          "base_uri": "https://localhost:8080/"
        }
      },
      "id": "g9NfDeNlIzVB",
      "execution_count": null,
      "outputs": [
        {
          "output_type": "stream",
          "name": "stdout",
          "text": [
            "\u001b[1m10/10\u001b[0m \u001b[32m━━━━━━━━━━━━━━━━━━━━\u001b[0m\u001b[37m\u001b[0m \u001b[1m1s\u001b[0m 95ms/step \n",
            "✅ Predicciones guardadas.\n",
            "🖼️ Visualizaciones guardadas en: /content/drive/MyDrive/IV/output/predictions_pores_efficientnetb2/visualizations_pores_efficientnetb2\n"
          ]
        }
      ]
    },
    {
      "cell_type": "code",
      "metadata": {
        "id": "5200e943"
      },
      "source": [
        "import matplotlib.pyplot as plt\n",
        "import numpy as np\n",
        "\n",
        "def plot_history(history, x_lim, y_lim):\n",
        "    #val_iou_score = history.history['val_iou_score']\n",
        "    #iou_score = history.history['iou_score']\n",
        "    val_f1_score = history.history['val_custom_f1_score']\n",
        "    f1_score = history.history['custom_f1_score']\n",
        "    val_loss = history.history['val_loss']\n",
        "    loss = history.history['loss']\n",
        "    epochs = range(1, len(loss) + 1)\n",
        "\n",
        "    # Plotting\n",
        "    plt.figure(figsize=(12, 6))\n",
        "\n",
        "    #plt.plot(epochs, val_iou_score, 'b', label='Validation IoU Score')\n",
        "    #plt.plot(epochs, iou_score, 'g', label='IoU Score')\n",
        "    plt.plot(epochs, f1_score, 'r', label='F1 Score')\n",
        "    plt.plot(epochs, val_f1_score, 'c', label='Validation F1 Score')\n",
        "    plt.plot(epochs, val_loss, 'm', label='Validation Loss')\n",
        "    plt.plot(epochs, loss, 'y', label='Training Loss')\n",
        "\n",
        "    plt.title('Training Metrics', fontsize=16)\n",
        "    plt.xlabel('Epochs', fontsize=14)\n",
        "    plt.ylabel('Score/Loss', fontsize=14)\n",
        "    plt.legend(fontsize=12)\n",
        "\n",
        "    plt.grid(True)\n",
        "    plt.xlim(1, x_lim)\n",
        "    plt.ylim(0, y_lim)\n",
        "    plt.show()"
      ],
      "execution_count": null,
      "outputs": [],
      "id": "5200e943"
    },
    {
      "cell_type": "code",
      "metadata": {
        "colab": {
          "base_uri": "https://localhost:8080/",
          "height": 571
        },
        "id": "46ba2fef",
        "outputId": "46c6b31e-9933-492a-ebc9-e4629d8aafba"
      },
      "source": [
        "# Visualize the training history\n",
        "plot_history(history, 33, 1)"
      ],
      "execution_count": null,
      "outputs": [
        {
          "output_type": "display_data",
          "data": {
            "text/plain": [
              "<Figure size 1200x600 with 1 Axes>"
            ],
            "image/png": "[encoded data removed]"
          },
          "metadata": {}
        }
      ],
      "id": "46ba2fef"
    }
  ],
  "metadata": {
    "kernelspec": {
      "display_name": "Python 3",
      "name": "python3"
    },
    "language_info": {
      "codemirror_mode": {
        "name": "ipython",
        "version": 3
      },
      "file_extension": ".py",
      "mimetype": "text/x-python",
      "name": "python",
      "nbconvert_exporter": "python",
      "pygments_lexer": "ipython3",
      "version": "3.10.13"
    },
    "colab": {
      "provenance": [],
      "gpuType": "T4",
      "include_colab_link": true
    },
    "accelerator": "GPU"
  },
  "nbformat": 4,
  "nbformat_minor": 5
}