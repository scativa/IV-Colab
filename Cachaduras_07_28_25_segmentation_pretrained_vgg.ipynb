{
  "cells": [
    {
      "cell_type": "markdown",
      "metadata": {
        "id": "view-in-github",
        "colab_type": "text"
      },
      "source": [
        "<a href=\"https://colab.research.google.com/github/scativa/IV-Colab/blob/evi/Cachaduras_07_28_25_segmentation_pretrained_vgg.ipynb\" target=\"_parent\"><img src=\"https://colab.research.google.com/assets/colab-badge.svg\" alt=\"Open In Colab\"/></a>"
      ]
    },
    {
      "cell_type": "markdown",
      "source": [
        "#Librerias\n",
        "\n",
        "##functions.py\n",
        "Reemplaza la línea `import functions as func`"
      ],
      "metadata": {
        "id": "ryDySnX4psf8"
      },
      "id": "ryDySnX4psf8"
    },
    {
      "cell_type": "code",
      "source": [
        "import numpy as np\n",
        "import os\n",
        "import cv2\n",
        "from sklearn.model_selection import train_test_split\n",
        "import matplotlib.pyplot as plt\n",
        "\n",
        "\n",
        "def load_images(dir, norm=False):\n",
        "    images = [cv2.imread(os.path.join(dir, filename)).astype(np.float32)\n",
        "            for filename in os.listdir(dir)\n",
        "            if cv2.imread(os.path.join(dir, filename)) is not None]\n",
        "    if norm:\n",
        "        images = [image / 255.0 for image in images]\n",
        "\n",
        "    # https://chatgpt.com/c/67fd5724-8164-8006-9367-780189493ee5\n",
        "    images = [cv2.resize(image, (224, 224)).astype(np.float32) for image in images]\n",
        "    return images\n",
        "\n",
        "def load_masks(dir_pores, image_filenames):\n",
        "    masks = []\n",
        "    for filename in image_filenames:\n",
        "        mask_path = os.path.join(dir_pores, filename)\n",
        "        mask = cv2.imread(mask_path, cv2.IMREAD_GRAYSCALE).astype(np.float32)\n",
        "\n",
        "        # Normalizar\n",
        "        mask = mask / 255.0\n",
        "\n",
        "        # Redimensionar\n",
        "        mask = cv2.resize(mask, (224, 224))\n",
        "\n",
        "        # Binarizar DESPUÉS del resize\n",
        "        mask = (mask > 0.5).astype(np.float32)\n",
        "\n",
        "        masks.append(mask)\n",
        "\n",
        "    return masks\n",
        "'''def load_masks(dir_pores, image_filenames):\n",
        "    masks = [\n",
        "            cv2.imread(os.path.join(dir_pores, filename), cv2.IMREAD_GRAYSCALE).astype(np.float32)\n",
        "            # if os.path.exists(os.path.join(dir_pores, filename))\n",
        "            # else np.zeros((232, 180), dtype=np.float32)\n",
        "            for filename in image_filenames\n",
        "    ]\n",
        "    # masks = [np.expand_dims(mask, axis=-1) for mask in masks] #adds a channel dimension to the masks\n",
        "\n",
        "    # https://chatgpt.com/c/67fd5724-8164-8006-9367-780189493ee5\n",
        "    masks = [cv2.resize(mask, (224, 224)).astype(np.float32) for mask in masks]\n",
        "\n",
        "    return masks'''\n",
        "\n",
        "# just to plot masks\n",
        "def plot_img_mask(img, mask, pred):\n",
        "\n",
        "    sub_plot = 0\n",
        "    num_cols = 0\n",
        "\n",
        "    # Determina el número de columnas en función de si hay una predicción\n",
        "    if img is not None:\n",
        "        num_cols += 1\n",
        "    if mask is not None:\n",
        "        num_cols += 1\n",
        "    if pred is not None:\n",
        "        num_cols += 1\n",
        "\n",
        "    # Si no hay nada para mostrar, sal de la función\n",
        "    if num_cols == 0:\n",
        "        print(\"No hay nada para mostrar.\")\n",
        "        return\n",
        "\n",
        "    # Crea la figura y los ejes en una sola fila con el número determinado de columnas\n",
        "    fig, axes = plt.subplots(1, num_cols, figsize=(3, 3))\n",
        "\n",
        "    if (img is not None):\n",
        "      axes[sub_plot].imshow(img)\n",
        "      axes[sub_plot].set_title('Image')\n",
        "      axes[sub_plot].axis('off')\n",
        "      sub_plot += 1\n",
        "\n",
        "    if (mask is not None):\n",
        "      axes[sub_plot].imshow(mask, cmap='gray')\n",
        "      axes[sub_plot].set_title('Mask')\n",
        "      axes[sub_plot].axis('off')\n",
        "      sub_plot += 1\n",
        "\n",
        "    if (pred is not None):\n",
        "      pred_mask = np.where(pred <= 0.5, 0, 1)\n",
        "\n",
        "      axes[sub_plot].imshow(pred_mask, cmap='gray')\n",
        "      axes[sub_plot].set_title('Predicted')\n",
        "      axes[sub_plot].axis('off')\n",
        "\n",
        "    plt.tight_layout()\n",
        "    plt.show()\n",
        "\n",
        "def augmented_dataset(dir_images, dir_mask, seed, norm):\n",
        "    # From \"Pores 03/28/25 -Seba- Basado en segmentation_own (DTE_fisuras).ipynb\"\n",
        "\n",
        "\n",
        "    images = load_images(dir_images, norm)\n",
        "    # Get image filenames from loaded images\n",
        "\n",
        "    image_filenames = [os.path.basename(image_path) for image_path in os.listdir(dir_images)]\n",
        "    # masks = load_masks(dir_pores)\n",
        "    masks = load_masks(dir_mask, image_filenames)\n",
        "\n",
        "\n",
        "    X_train, X_test, y_train, y_test = train_test_split(images, masks, test_size=0.2, random_state=seed)\n",
        "\n",
        "    X_train[0].shape\n",
        "    y_train[0].shape\n",
        "    augmented_X_train = [cv2.flip(i, 1) for i in X_train]\n",
        "    augmented_y_train = [cv2.flip(i, 1) for i in y_train]\n",
        "\n",
        "    X_train = np.array(X_train + augmented_X_train)\n",
        "    y_train = np.array(y_train + augmented_y_train)\n",
        "\n",
        "    X_test = np.array(X_test)\n",
        "    y_test = np.array(y_test)\n",
        "\n",
        "    X_train, X_val, y_train, y_val = train_test_split(X_train, y_train, test_size=0.2, random_state=seed)\n",
        "\n",
        "    y_train = np.expand_dims(y_train, axis=-1)\n",
        "    y_val = np.expand_dims(y_val, axis=-1)\n",
        "    y_test = np.expand_dims(y_test, axis=-1)\n",
        "\n",
        "    return X_train, y_train, X_val, y_val, X_test, y_test\n",
        "\n",
        "def test_dataset(dir_images, dir_mask, seed, norm):\n",
        "    # From \"Pores 03/28/25 -Seba- Basado en segmentation_own (DTE_fisuras).ipynb\"\n",
        "\n",
        "\n",
        "    images = load_images(dir_images, norm)\n",
        "    # Get image filenames from loaded images\n",
        "\n",
        "    image_filenames = [os.path.basename(image_path) for image_path in os.listdir(dir_images)]\n",
        "    # masks = load_masks(dir_pores)\n",
        "    masks = load_masks(dir_mask, image_filenames)\n",
        "\n",
        "\n",
        "    _, X_test, _, y_test = train_test_split(images, masks, test_size=0.2, random_state=seed)\n",
        "\n",
        "    y_test = np.expand_dims(y_test, axis=-1)\n",
        "\n",
        "    return X_test, y_test\n",
        "\n",
        "'''\n",
        "If you want to show some other metrics, just uncomment\n",
        "'''\n",
        "def plot_history(history, x_lim, y_lim):\n",
        "    #val_iou_score = history.history['val_iou_score']\n",
        "    #iou_score = history.history['iou_score']\n",
        "    val_f1_score = history.history['val_f1-score']\n",
        "    #f1_score = history.history['f1-score']\n",
        "    val_loss = history.history['val_loss']\n",
        "    loss = history.history['loss']\n",
        "    epochs = range(1, len(loss) + 1)\n",
        "\n",
        "    # Plotting\n",
        "    plt.figure(figsize=(12, 6))\n",
        "\n",
        "    #plt.plot(epochs, val_iou_score, 'b', label='Validation IoU Score')\n",
        "    #plt.plot(epochs, iou_score, 'g', label='IoU Score')\n",
        "    #plt.plot(epochs, f1_score, 'r', label='F1 Score')\n",
        "    plt.plot(epochs, val_f1_score, 'c', label='Validation F1 Score')\n",
        "    plt.plot(epochs, val_loss, 'm', label='Validation Loss')\n",
        "    plt.plot(epochs, loss, 'y', label='Training Loss')\n",
        "\n",
        "    plt.title('Training Metrics', fontsize=16)\n",
        "    plt.xlabel('Epochs', fontsize=14)\n",
        "    plt.ylabel('Score/Loss', fontsize=14)\n",
        "    plt.legend(fontsize=12)\n",
        "\n",
        "    plt.grid(True)\n",
        "    plt.xlim(1, x_lim)\n",
        "    plt.ylim(0, y_lim)\n",
        "    plt.show()\n",
        "\n"
      ],
      "metadata": {
        "id": "H80FZsTspq9N"
      },
      "id": "H80FZsTspq9N",
      "execution_count": 1,
      "outputs": []
    },
    {
      "cell_type": "markdown",
      "source": [
        "#Entorno"
      ],
      "metadata": {
        "id": "Y6FbynbEtxDc"
      },
      "id": "Y6FbynbEtxDc"
    },
    {
      "cell_type": "code",
      "source": [
        "from google.colab import drive\n",
        "drive.mount('/content/drive')"
      ],
      "metadata": {
        "id": "jLY5vQB7tS_O",
        "colab": {
          "base_uri": "https://localhost:8080/"
        },
        "outputId": "04ff17ef-e207-4a7d-e2ac-ed44a90d1044"
      },
      "id": "jLY5vQB7tS_O",
      "execution_count": 2,
      "outputs": [
        {
          "output_type": "stream",
          "name": "stdout",
          "text": [
            "Mounted at /content/drive\n"
          ]
        }
      ]
    },
    {
      "cell_type": "code",
      "source": [
        "from time import process_time_ns\n",
        "import os, json\n",
        "\n",
        "usr_drive = \"evi.cnea\"\n",
        "\n",
        "\n",
        "base_paths = { # Path al\n",
        "    \"ppca.cnea\": '/content/drive/MyDrive/IV',\n",
        "    \"seba.cnea\": '/content/drive/MyDrive/CNEA/DCA/Proyectos/IV - Inspección Visual/IV',\n",
        "    \"scativa\": '/content/drive/MyDrive/Laburo/CNEA/DCA/Proyectos/IV - Inspección Visual/IV',\n",
        "    \"evi.cnea\": '/content/drive/MyDrive/IV',\n",
        "    \"evi55\": '/content/drive/MyDrive/IV'\n",
        "}\n",
        "# base_path =\n",
        "base_path = base_paths[usr_drive]\n",
        "\n",
        "if not os.path.exists(base_path):\n",
        "  print(f'Carpeta inexistente \"{usr_drive}: {base_path}\"')\n",
        "else:\n",
        "  print(f'Utilizando carpeta  \"{usr_drive}: {base_path}\"')\n",
        "\n",
        "\n",
        "#import tensorflow as tf\n",
        "# Setting GPU memory growth to True\n",
        "#gpus = tf.config.experimental.list_physical_devices('GPU')\n",
        "#if gpus:\n",
        "#    print(f\"GPUs detected: {gpus}\")\n",
        "#    try:\n",
        "#        for gpu in gpus:\n",
        "#            tf.config.experimental.set_memory_growth(gpu, True)\n",
        "#    except RuntimeError as e:\n",
        "#        print(e)\n",
        "\n",
        "\n",
        "os.environ[\"SM_FRAMEWORK\"] = \"tf.keras\"\n",
        "from tensorflow import keras\n",
        "from keras import backend as K\n"
      ],
      "metadata": {
        "id": "u8K_GpqhP4P1",
        "colab": {
          "base_uri": "https://localhost:8080/"
        },
        "outputId": "de84e84c-db3f-48a1-c774-0ee85bc6e40e"
      },
      "id": "u8K_GpqhP4P1",
      "execution_count": 3,
      "outputs": [
        {
          "output_type": "stream",
          "name": "stdout",
          "text": [
            "Utilizando carpeta  \"evi.cnea: /content/drive/MyDrive/IV\"\n"
          ]
        }
      ]
    },
    {
      "cell_type": "code",
      "source": [
        "!pip install segmentation-models\n",
        "import segmentation_models as sm\n",
        "from segmentation_models import get_preprocessing"
      ],
      "metadata": {
        "colab": {
          "base_uri": "https://localhost:8080/"
        },
        "id": "2o1eL7zLj1xx",
        "outputId": "2745731d-4a30-4d1e-f02e-2a7b87827dee"
      },
      "id": "2o1eL7zLj1xx",
      "execution_count": 4,
      "outputs": [
        {
          "output_type": "stream",
          "name": "stdout",
          "text": [
            "Collecting segmentation-models\n",
            "  Downloading segmentation_models-1.0.1-py3-none-any.whl.metadata (938 bytes)\n",
            "Collecting keras-applications<=1.0.8,>=1.0.7 (from segmentation-models)\n",
            "  Downloading Keras_Applications-1.0.8-py3-none-any.whl.metadata (1.7 kB)\n",
            "Collecting image-classifiers==1.0.0 (from segmentation-models)\n",
            "  Downloading image_classifiers-1.0.0-py3-none-any.whl.metadata (8.6 kB)\n",
            "Collecting efficientnet==1.0.0 (from segmentation-models)\n",
            "  Downloading efficientnet-1.0.0-py3-none-any.whl.metadata (6.1 kB)\n",
            "Requirement already satisfied: scikit-image in /usr/local/lib/python3.11/dist-packages (from efficientnet==1.0.0->segmentation-models) (0.25.2)\n",
            "Requirement already satisfied: numpy>=1.9.1 in /usr/local/lib/python3.11/dist-packages (from keras-applications<=1.0.8,>=1.0.7->segmentation-models) (2.0.2)\n",
            "Requirement already satisfied: h5py in /usr/local/lib/python3.11/dist-packages (from keras-applications<=1.0.8,>=1.0.7->segmentation-models) (3.14.0)\n",
            "Requirement already satisfied: scipy>=1.11.4 in /usr/local/lib/python3.11/dist-packages (from scikit-image->efficientnet==1.0.0->segmentation-models) (1.16.0)\n",
            "Requirement already satisfied: networkx>=3.0 in /usr/local/lib/python3.11/dist-packages (from scikit-image->efficientnet==1.0.0->segmentation-models) (3.5)\n",
            "Requirement already satisfied: pillow>=10.1 in /usr/local/lib/python3.11/dist-packages (from scikit-image->efficientnet==1.0.0->segmentation-models) (11.3.0)\n",
            "Requirement already satisfied: imageio!=2.35.0,>=2.33 in /usr/local/lib/python3.11/dist-packages (from scikit-image->efficientnet==1.0.0->segmentation-models) (2.37.0)\n",
            "Requirement already satisfied: tifffile>=2022.8.12 in /usr/local/lib/python3.11/dist-packages (from scikit-image->efficientnet==1.0.0->segmentation-models) (2025.6.11)\n",
            "Requirement already satisfied: packaging>=21 in /usr/local/lib/python3.11/dist-packages (from scikit-image->efficientnet==1.0.0->segmentation-models) (25.0)\n",
            "Requirement already satisfied: lazy-loader>=0.4 in /usr/local/lib/python3.11/dist-packages (from scikit-image->efficientnet==1.0.0->segmentation-models) (0.4)\n",
            "Downloading segmentation_models-1.0.1-py3-none-any.whl (33 kB)\n",
            "Downloading efficientnet-1.0.0-py3-none-any.whl (17 kB)\n",
            "Downloading image_classifiers-1.0.0-py3-none-any.whl (19 kB)\n",
            "Downloading Keras_Applications-1.0.8-py3-none-any.whl (50 kB)\n",
            "\u001b[2K   \u001b[90m━━━━━━━━━━━━━━━━━━━━━━━━━━━━━━━━━━━━━━━━\u001b[0m \u001b[32m50.7/50.7 kB\u001b[0m \u001b[31m4.6 MB/s\u001b[0m eta \u001b[36m0:00:00\u001b[0m\n",
            "\u001b[?25hInstalling collected packages: keras-applications, image-classifiers, efficientnet, segmentation-models\n",
            "Successfully installed efficientnet-1.0.0 image-classifiers-1.0.0 keras-applications-1.0.8 segmentation-models-1.0.1\n",
            "Segmentation Models: using `tf.keras` framework.\n"
          ]
        }
      ]
    },
    {
      "cell_type": "markdown",
      "source": [
        "#Dataset"
      ],
      "metadata": {
        "id": "Tu8wymLMQsy6"
      },
      "id": "Tu8wymLMQsy6"
    },
    {
      "cell_type": "code",
      "execution_count": 5,
      "id": "0f79518c-640f-483d-8465-4fa8fc47e4ad",
      "metadata": {
        "id": "0f79518c-640f-483d-8465-4fa8fc47e4ad",
        "colab": {
          "base_uri": "https://localhost:8080/"
        },
        "outputId": "533402b5-a9da-41b5-fc94-b1c9d27998f1"
      },
      "outputs": [
        {
          "output_type": "stream",
          "name": "stdout",
          "text": [
            "Utilizando carpeta  \"evi.cnea: /content/drive/MyDrive/IV\"\n",
            "Utilizando carpeta  \"evi.cnea: /content/drive/MyDrive/IV\"\n"
          ]
        }
      ],
      "source": [
        "defect = 'cachaduras' #'cachaduras'\n",
        "image_directory = f'{base_path}/pellets'\n",
        "masks_directory = f'{base_path}/Output_052025 (máscaras actualizadas)/all_{defect}'\n",
        "\n",
        "if not os.path.exists(image_directory):\n",
        "  print(f'Carpeta inexistente \"{usr_drive}: {base_path}\"')\n",
        "else:\n",
        "  print(f'Utilizando carpeta  \"{usr_drive}: {base_path}\"')\n",
        "\n",
        "if not os.path.exists(masks_directory):\n",
        "  print(f'Carpeta inexistente \"{usr_drive}: {base_path}\"')\n",
        "else:\n",
        "  print(f'Utilizando carpeta  \"{usr_drive}: {base_path}\"')"
      ]
    },
    {
      "cell_type": "code",
      "source": [
        "import numpy as np\n",
        "import os\n",
        "\n",
        "\n",
        "# === MODO DE EJECUCIÓN ===\n",
        "# Usar 'cargar' para usar los datos ya procesados guardados (.npy)\n",
        "# Usar 'generar' para crear nuevos datos y guardarlos a partir de las imágenes originales\n",
        "modo = 'cargar'\n",
        "\n",
        "# === Rutas ===\n",
        "save_dir = f'{base_path}/processed_data_{defect}'\n",
        "os.makedirs(save_dir, exist_ok=True)\n",
        "\n",
        "# Add a check to see if the directory exists after creation attempt\n",
        "if not os.path.exists(save_dir):\n",
        "    print(f\"❌ Error: The directory {save_dir} could not be created or accessed.\")\n",
        "else:\n",
        "    print(f\"✅ Directory {save_dir} confirmed to exist.\")\n",
        "\n",
        "\n",
        "# === Cargar o generar los datos ===\n",
        "if modo == 'cargar':\n",
        "    print(\"Cargando datos preprocesados desde archivos .npy...\")\n",
        "    X_train = np.load(os.path.join(save_dir, 'X_train.npy'))\n",
        "    X_val   = np.load(os.path.join(save_dir, 'X_val.npy'))\n",
        "    X_test  = np.load(os.path.join(save_dir, 'X_test.npy'))\n",
        "    y_train = np.load(os.path.join(save_dir, 'y_train.npy'))\n",
        "    y_val   = np.load(os.path.join(save_dir, 'y_val.npy'))\n",
        "    y_test  = np.load(os.path.join(save_dir, 'y_test.npy'))\n",
        "    print(\"✅ Datos cargados correctamente.\")\n",
        "\n",
        "elif modo == 'generar':\n",
        "    print(\"Generando nuevos datos a partir de imágenes y máscaras...\")\n",
        "    X_train, y_train, X_val, y_val, X_test, y_test = augmented_dataset(\n",
        "        image_directory, masks_directory, seed=42, norm=False\n",
        "    )\n",
        "\n",
        "    # Guardar los datos generados\n",
        "    np.save(os.path.join(save_dir, 'X_train.npy'), X_train)\n",
        "    np.save(os.path.join(save_dir, 'X_val.npy'),   X_val)\n",
        "    np.save(os.path.join(save_dir, 'X_test.npy'),  X_test)\n",
        "    np.save(os.path.join(save_dir, 'y_train.npy'), y_train)\n",
        "    np.save(os.path.join(save_dir, 'y_val.npy'),   y_val)\n",
        "    np.save(os.path.join(save_dir, 'y_test.npy'),  y_test)\n",
        "\n",
        "    print(f\"✅ Nuevos datos generados y guardados en {save_dir}\")\n",
        "\n",
        "else:\n",
        "    raise ValueError(\"❌ Modo inválido. Usa 'cargar' o 'generar'.\")"
      ],
      "metadata": {
        "id": "E6zrvrCuVize",
        "colab": {
          "base_uri": "https://localhost:8080/"
        },
        "outputId": "b233dbdb-bf0f-4c91-9d14-1fb6c74e1f1b"
      },
      "id": "E6zrvrCuVize",
      "execution_count": 6,
      "outputs": [
        {
          "output_type": "stream",
          "name": "stdout",
          "text": [
            "✅ Directory /content/drive/MyDrive/IV/processed_data_cachaduras confirmed to exist.\n",
            "Cargando datos preprocesados desde archivos .npy...\n",
            "✅ Datos cargados correctamente.\n"
          ]
        }
      ]
    },
    {
      "cell_type": "code",
      "source": [
        "# Muestra de imagenes y máscaras cargadas\n",
        "\n",
        "import random\n",
        "\n",
        "print(\"Train: \", len(X_train), len(y_train))\n",
        "print(\"Test: \", len(X_test), len(y_test))\n",
        "print(\"Val: \", len(X_val), len(y_val))\n",
        "\n",
        "pos = random.randint(0, len(X_train))\n",
        "plot_img_mask(np.int64(X_train[pos]), y_train[pos], None)\n",
        "\n",
        "pos = random.randint(0, len(X_test))\n",
        "plot_img_mask(np.int64(X_test[pos]), y_test[pos], None)\n",
        "\n",
        "pos = random.randint(0, len(X_val))\n",
        "plot_img_mask(np.int64(X_val[pos]), y_val[pos], None)\n",
        "\n",
        "print(\"Train: \", type(X_train), 'input range: ', np.min(X_train), np.max(X_train))\n",
        "print(\"Val: \", type(X_val), 'input range: ', np.min(X_val), np.max(X_val))\n",
        "print(\"Test: \", type(X_test), 'input range: ', np.min(X_test), np.max(X_test))\n"
      ],
      "metadata": {
        "id": "jVyyNChjPAzz",
        "colab": {
          "base_uri": "https://localhost:8080/",
          "height": 637
        },
        "outputId": "9fcc1ee1-d2f3-4c5d-a5c0-6465fbf16e9d"
      },
      "id": "jVyyNChjPAzz",
      "execution_count": 7,
      "outputs": [
        {
          "output_type": "stream",
          "name": "stdout",
          "text": [
            "Train:  1920 1920\n",
            "Test:  300 300\n",
            "Val:  480 480\n"
          ]
        },
        {
          "output_type": "display_data",
          "data": {
            "text/plain": [
              "<Figure size 300x300 with 2 Axes>"
            ],
            "image/png": "[encoded data removed]"
          },
          "metadata": {}
        },
        {
          "output_type": "display_data",
          "data": {
            "text/plain": [
              "<Figure size 300x300 with 2 Axes>"
            ],
            "image/png": "[encoded data removed]"
          },
          "metadata": {}
        },
        {
          "output_type": "display_data",
          "data": {
            "text/plain": [
              "<Figure size 300x300 with 2 Axes>"
            ],
            "image/png": "[encoded data removed]"
          },
          "metadata": {}
        },
        {
          "output_type": "stream",
          "name": "stdout",
          "text": [
            "Train:  <class 'numpy.ndarray'> input range:  0.0 215.04784\n",
            "Val:  <class 'numpy.ndarray'> input range:  0.0 201.98215\n",
            "Test:  <class 'numpy.ndarray'> input range:  0.0 215.41821\n"
          ]
        }
      ]
    },
    {
      "cell_type": "markdown",
      "source": [
        "#Definición del modelo y preprocesamiento de data"
      ],
      "metadata": {
        "id": "lxOBAMVrW_Nv"
      },
      "id": "lxOBAMVrW_Nv"
    },
    {
      "cell_type": "code",
      "source": [
        "model_type = \"vgg19\"\n",
        "# \"resnet152\" \"efficientnetb2\" \"vgg19\"\n",
        "print(f'Cargando modelo: {model_type}')\n",
        "\n",
        "\n",
        "preprocessed_input = get_preprocessing(model_type)\n",
        "\n",
        "# Preprocesar las imágenes\n",
        "X_train_preprocessed = preprocessed_input(np.copy(X_train))\n",
        "X_val_preprocessed = preprocessed_input(np.copy(X_val))\n",
        "X_test_preprocessed = preprocessed_input(np.copy(X_test))\n",
        "\n",
        "print(\"Train: \", type(X_train_preprocessed), 'input range: ', np.min(X_train_preprocessed), np.max(X_train_preprocessed))\n",
        "print(\"Val: \", type(X_val_preprocessed), 'input range: ', np.min(X_val_preprocessed), np.max(X_val_preprocessed))\n",
        "print(\"Test: \", type(X_test_preprocessed), 'input range: ', np.min(X_test_preprocessed), np.max(X_test_preprocessed))\n",
        "\n"
      ],
      "metadata": {
        "colab": {
          "base_uri": "https://localhost:8080/"
        },
        "id": "URw3-ncOBoXz",
        "outputId": "cb044dd0-5339-4d56-ccd1-fa8591c3a2f8"
      },
      "id": "URw3-ncOBoXz",
      "execution_count": 8,
      "outputs": [
        {
          "output_type": "stream",
          "name": "stdout",
          "text": [
            "Cargando modelo: vgg19\n",
            "Train:  <class 'numpy.ndarray'> input range:  -123.68 111.10883\n",
            "Val:  <class 'numpy.ndarray'> input range:  -123.68 98.043144\n",
            "Test:  <class 'numpy.ndarray'> input range:  -123.68 111.47921\n"
          ]
        }
      ]
    },
    {
      "cell_type": "code",
      "source": [
        "print(\"Unique y_train values:\", np.unique(y_train))\n",
        "print(\"Unique y_val values:\", np.unique(y_val))"
      ],
      "metadata": {
        "colab": {
          "base_uri": "https://localhost:8080/"
        },
        "id": "K04NI5HqHclD",
        "outputId": "0f40c0e4-660b-4c41-ad40-4b2903e26ef3"
      },
      "id": "K04NI5HqHclD",
      "execution_count": 9,
      "outputs": [
        {
          "output_type": "stream",
          "name": "stdout",
          "text": [
            "Unique y_train values: [0. 1.]\n",
            "Unique y_val values: [0. 1.]\n"
          ]
        }
      ]
    },
    {
      "cell_type": "markdown",
      "source": [
        "#Entrenamiento"
      ],
      "metadata": {
        "id": "ZvTCeVrIXy8n"
      },
      "id": "ZvTCeVrIXy8n"
    },
    {
      "cell_type": "code",
      "source": [
        "import os\n",
        "import pickle\n",
        "import numpy as np\n",
        "import pandas as pd\n",
        "from datetime import datetime\n",
        "import tensorflow as tf\n",
        "import segmentation_models as sm\n",
        "from tensorflow.keras.callbacks import ModelCheckpoint, EarlyStopping, Callback\n",
        "\n",
        "print(f\"🔧 Usando modelo: {model_type}\")\n",
        "\n",
        "# === Registro para serialización ===\n",
        "@tf.keras.utils.register_keras_serializable(package=\"Custom\")\n",
        "def custom_bce_dice_loss(y_true, y_pred):\n",
        "    return sm.losses.bce_dice_loss(y_true, y_pred)\n",
        "\n",
        "@tf.keras.utils.register_keras_serializable(package=\"Custom\")\n",
        "def custom_iou_score(y_true, y_pred):\n",
        "    return sm.metrics.iou_score(y_true, y_pred)\n",
        "\n",
        "@tf.keras.utils.register_keras_serializable(package=\"Custom\")\n",
        "def custom_f1_score(y_true, y_pred):\n",
        "    return sm.metrics.f1_score(y_true, y_pred)\n",
        "\n",
        "# === 2. Rutas ===\n",
        "checkpoint_path = f\"{base_path}/model/checkpoints_{model_type}_{defect}/{model_type}_last.keras\"\n",
        "history_pkl_path = f\"{base_path}/model/checkpoints_{model_type}_{defect}/{model_type}_history.pkl\"\n",
        "history_csv_path = f\"{base_path}/model/checkpoints_{model_type}_{defect}/{model_type}_history.csv\"\n",
        "out_folder = f\"{base_path}/output/model_{defect}\"\n",
        "os.makedirs(os.path.dirname(checkpoint_path), exist_ok=True)\n",
        "os.makedirs(out_folder, exist_ok=True)\n",
        "\n",
        "# === 3. Callback mejorado para guardar historial .pkl y actualizar .csv ===\n",
        "class HistorySaver(Callback):\n",
        "    def __init__(self, pkl_path, csv_path):\n",
        "        super().__init__()\n",
        "        self.pkl_path = pkl_path\n",
        "        self.csv_path = csv_path\n",
        "\n",
        "        # Cargar historial CSV existente si hay\n",
        "        if os.path.exists(csv_path):\n",
        "            self.df_history = pd.read_csv(csv_path, index_col=\"epoch\")\n",
        "        else:\n",
        "            self.df_history = pd.DataFrame()\n",
        "\n",
        "    def on_epoch_end(self, epoch, logs=None):\n",
        "        logs = logs or {}\n",
        "        new_row = pd.DataFrame([logs], index=[epoch])\n",
        "        new_row.index.name = 'epoch'\n",
        "\n",
        "        # Agregar nueva fila al historial existente\n",
        "        self.df_history = pd.concat([self.df_history, new_row])\n",
        "        self.df_history = self.df_history[~self.df_history.index.duplicated(keep='last')]\n",
        "        self.df_history.sort_index(inplace=True)\n",
        "\n",
        "        # Guardar como CSV\n",
        "        self.df_history.to_csv(self.csv_path)\n",
        "        print(f\"📝 CSV actualizado hasta época {epoch + 1}\")\n",
        "\n",
        "        # También guardar como .pkl para reanudar\n",
        "        with open(self.pkl_path, 'wb') as f:\n",
        "            pickle.dump(self.df_history.to_dict(orient='list'), f)\n",
        "\n",
        "# === 4. Función para verificar historial válido ===\n",
        "def valid_history(hist):\n",
        "    return (\n",
        "        isinstance(hist, dict) and\n",
        "        'loss' in hist and\n",
        "        isinstance(hist['loss'], list) and\n",
        "        len(hist['loss']) > 0\n",
        "    )\n",
        "\n",
        "'''# === 5. Cargar o crear modelo ===\n",
        "if os.path.exists(checkpoint_path):\n",
        "    print(f\"🔁 Cargando modelo completo desde: {checkpoint_path}\")\n",
        "    model = tf.keras.models.load_model(\n",
        "        checkpoint_path,\n",
        "        custom_objects={\n",
        "            'custom_bce_dice_loss': custom_bce_dice_loss,\n",
        "            'custom_iou_score': custom_iou_score,\n",
        "            'custom_f1_score': custom_f1_score\n",
        "        }\n",
        "    )\n",
        "else:\n",
        "    print(\"🆕 Creando nuevo modelo...\")\n",
        "    model = sm.Unet(\n",
        "        backbone_name=model_type,\n",
        "        classes=1,\n",
        "        activation='sigmoid',\n",
        "        encoder_weights='imagenet'\n",
        "    )\n",
        "    model.compile(\n",
        "        optimizer='Adam',\n",
        "        loss=custom_bce_dice_loss,\n",
        "        metrics=[custom_iou_score, custom_f1_score]\n",
        "    )'''\n",
        "\n",
        "# === 5. Cargar o crear modelo ===\n",
        "os.makedirs(os.path.dirname(checkpoint_path), exist_ok=True)\n",
        "print(f\"Attempting to load model from: {checkpoint_path}\")\n",
        "\n",
        "if os.path.exists(checkpoint_path):\n",
        "    print(f\"🔁 Cargando modelo completo desde: {checkpoint_path}\")\n",
        "    model = tf.keras.models.load_model(\n",
        "        checkpoint_path,\n",
        "        custom_objects={\n",
        "            'custom_bce_dice_loss': custom_bce_dice_loss,\n",
        "            'custom_iou_score': custom_iou_score,\n",
        "            'custom_f1_score': custom_f1_score\n",
        "        }\n",
        "    )\n",
        "else:\n",
        "    print(\"🆕 Creando nuevo modelo...\")\n",
        "    model = sm.Unet(\n",
        "        backbone_name=model_type,\n",
        "        classes=1,\n",
        "        activation='sigmoid',\n",
        "        encoder_weights='imagenet'\n",
        "    )\n",
        "    model.compile(\n",
        "        optimizer='Adam',\n",
        "        loss=custom_bce_dice_loss,\n",
        "        metrics=[custom_iou_score, custom_f1_score]\n",
        "    )\n",
        "\n",
        "# === 6. Cargar historial si existe ===\n",
        "if os.path.exists(history_pkl_path):\n",
        "    with open(history_pkl_path, 'rb') as f:\n",
        "        previous_history = pickle.load(f)\n",
        "    if valid_history(previous_history):\n",
        "        print(f\"📈 Historial cargado con {len(previous_history['loss'])} épocas.\")\n",
        "    else:\n",
        "        previous_history = None\n",
        "        os.remove(history_pkl_path)\n",
        "        print(\"⚠️ Historial inválido. Se iniciará desde cero.\")\n",
        "else:\n",
        "    previous_history = None\n",
        "    print(\"📉 No se encontró historial previo.\")\n",
        "\n",
        "initial_epoch = len(previous_history['loss']) if previous_history else 0\n",
        "\n",
        "# === 7. Entrenamiento ===\n",
        "batch_size = 16\n",
        "epochs = 500\n",
        "\n",
        "\n",
        "callbacks = [\n",
        "    EarlyStopping(patience=10, restore_best_weights=True),\n",
        "    ModelCheckpoint(\n",
        "        filepath=checkpoint_path,\n",
        "        save_best_only=False,\n",
        "        save_weights_only=False  # ✅ Guarda modelo completo (.keras)\n",
        "    ),\n",
        "    HistorySaver(history_pkl_path, history_csv_path)\n",
        "]\n",
        "\n",
        "'''callbacks = [\n",
        "    EarlyStopping(patience=10, restore_best_weights=True),\n",
        "    ModelCheckpoint(checkpoint_path, save_best_only=False),\n",
        "    HistorySaver(history_pkl_path, history_csv_path)\n",
        "]'''\n",
        "\n",
        "history = model.fit(\n",
        "    x=X_train_preprocessed,\n",
        "    y=y_train,\n",
        "    batch_size=batch_size,\n",
        "    epochs=epochs,\n",
        "    initial_epoch=initial_epoch,\n",
        "    validation_data=(X_val_preprocessed, y_val),\n",
        "    callbacks=callbacks\n",
        ")\n",
        "\n",
        "# === 8. Guardar modelo final completo ===\n",
        "now = datetime.now().strftime(\"%Y%m%d_%H%M%S\")\n",
        "final_model_path = f'{out_folder}/{now}-{model_type}-{defect}.keras'\n",
        "model.save(final_model_path)\n",
        "print(f\"✅ Modelo final guardado: {final_model_path}\")\n",
        "\n",
        "# === 9. Evaluación ===\n",
        "print(\"\\n📊 Validación:\")\n",
        "model.evaluate(X_val_preprocessed, y_val)\n",
        "\n",
        "print(\"\\n📊 Test:\")\n",
        "model.evaluate(X_test_preprocessed, y_test)\n",
        "\n",
        "# === 10. Predicción ===\n",
        "pred = model.predict(X_test_preprocessed)\n"
      ],
      "metadata": {
        "colab": {
          "base_uri": "https://localhost:8080/"
        },
        "id": "cZEd7XltcE9E",
        "outputId": "ad16ea15-f0e2-4aa7-fcde-be8e591cd4aa"
      },
      "id": "cZEd7XltcE9E",
      "execution_count": 10,
      "outputs": [
        {
          "output_type": "stream",
          "name": "stdout",
          "text": [
            "🔧 Usando modelo: vgg19\n",
            "Attempting to load model from: /content/drive/MyDrive/IV/model/checkpoints_vgg19_cachaduras/vgg19_last.keras\n",
            "🆕 Creando nuevo modelo...\n",
            "Downloading data from https://github.com/fchollet/deep-learning-models/releases/download/v0.1/vgg19_weights_tf_dim_ordering_tf_kernels_notop.h5\n",
            "\u001b[1m80134624/80134624\u001b[0m \u001b[32m━━━━━━━━━━━━━━━━━━━━\u001b[0m\u001b[37m\u001b[0m \u001b[1m1s\u001b[0m 0us/step\n",
            "📉 No se encontró historial previo.\n",
            "Epoch 1/500\n",
            "\u001b[1m120/120\u001b[0m \u001b[32m━━━━━━━━━━━━━━━━━━━━\u001b[0m\u001b[37m\u001b[0m \u001b[1m0s\u001b[0m 409ms/step - custom_f1_score: 0.0814 - custom_iou_score: 0.0442 - loss: 1.2561📝 CSV actualizado hasta época 1\n",
            "\u001b[1m120/120\u001b[0m \u001b[32m━━━━━━━━━━━━━━━━━━━━\u001b[0m\u001b[37m\u001b[0m \u001b[1m114s\u001b[0m 551ms/step - custom_f1_score: 0.0820 - custom_iou_score: 0.0445 - loss: 1.2543 - val_custom_f1_score: 0.1998 - val_custom_iou_score: 0.1137 - val_loss: 0.9011\n",
            "Epoch 2/500\n",
            "\u001b[1m120/120\u001b[0m \u001b[32m━━━━━━━━━━━━━━━━━━━━\u001b[0m\u001b[37m\u001b[0m \u001b[1m0s\u001b[0m 415ms/step - custom_f1_score: 0.3548 - custom_iou_score: 0.2220 - loss: 0.7204📝 CSV actualizado hasta época 2\n",
            "\u001b[1m120/120\u001b[0m \u001b[32m━━━━━━━━━━━━━━━━━━━━\u001b[0m\u001b[37m\u001b[0m \u001b[1m57s\u001b[0m 479ms/step - custom_f1_score: 0.3550 - custom_iou_score: 0.2222 - loss: 0.7202 - val_custom_f1_score: 0.2932 - val_custom_iou_score: 0.1835 - val_loss: 0.8114\n",
            "Epoch 3/500\n",
            "\u001b[1m120/120\u001b[0m \u001b[32m━━━━━━━━━━━━━━━━━━━━\u001b[0m\u001b[37m\u001b[0m \u001b[1m0s\u001b[0m 414ms/step - custom_f1_score: 0.4207 - custom_iou_score: 0.2771 - loss: 0.6552📝 CSV actualizado hasta época 3\n",
            "\u001b[1m120/120\u001b[0m \u001b[32m━━━━━━━━━━━━━━━━━━━━\u001b[0m\u001b[37m\u001b[0m \u001b[1m81s\u001b[0m 468ms/step - custom_f1_score: 0.4211 - custom_iou_score: 0.2774 - loss: 0.6548 - val_custom_f1_score: 0.4790 - val_custom_iou_score: 0.3259 - val_loss: 0.5962\n",
            "Epoch 4/500\n",
            "\u001b[1m120/120\u001b[0m \u001b[32m━━━━━━━━━━━━━━━━━━━━\u001b[0m\u001b[37m\u001b[0m \u001b[1m0s\u001b[0m 416ms/step - custom_f1_score: 0.5011 - custom_iou_score: 0.3473 - loss: 0.5709📝 CSV actualizado hasta época 4\n",
            "\u001b[1m120/120\u001b[0m \u001b[32m━━━━━━━━━━━━━━━━━━━━\u001b[0m\u001b[37m\u001b[0m \u001b[1m84s\u001b[0m 483ms/step - custom_f1_score: 0.5009 - custom_iou_score: 0.3472 - loss: 0.5711 - val_custom_f1_score: 0.4152 - val_custom_iou_score: 0.2719 - val_loss: 0.6771\n",
            "Epoch 5/500\n",
            "\u001b[1m120/120\u001b[0m \u001b[32m━━━━━━━━━━━━━━━━━━━━\u001b[0m\u001b[37m\u001b[0m \u001b[1m0s\u001b[0m 416ms/step - custom_f1_score: 0.5146 - custom_iou_score: 0.3574 - loss: 0.5532📝 CSV actualizado hasta época 5\n",
            "\u001b[1m120/120\u001b[0m \u001b[32m━━━━━━━━━━━━━━━━━━━━\u001b[0m\u001b[37m\u001b[0m \u001b[1m84s\u001b[0m 502ms/step - custom_f1_score: 0.5146 - custom_iou_score: 0.3574 - loss: 0.5532 - val_custom_f1_score: 0.4955 - val_custom_iou_score: 0.3396 - val_loss: 0.5900\n",
            "Epoch 6/500\n",
            "\u001b[1m120/120\u001b[0m \u001b[32m━━━━━━━━━━━━━━━━━━━━\u001b[0m\u001b[37m\u001b[0m \u001b[1m0s\u001b[0m 416ms/step - custom_f1_score: 0.5336 - custom_iou_score: 0.3746 - loss: 0.5268📝 CSV actualizado hasta época 6\n",
            "\u001b[1m120/120\u001b[0m \u001b[32m━━━━━━━━━━━━━━━━━━━━\u001b[0m\u001b[37m\u001b[0m \u001b[1m85s\u001b[0m 530ms/step - custom_f1_score: 0.5338 - custom_iou_score: 0.3748 - loss: 0.5266 - val_custom_f1_score: 0.4017 - val_custom_iou_score: 0.2625 - val_loss: 0.6997\n",
            "Epoch 7/500\n",
            "\u001b[1m120/120\u001b[0m \u001b[32m━━━━━━━━━━━━━━━━━━━━\u001b[0m\u001b[37m\u001b[0m \u001b[1m0s\u001b[0m 425ms/step - custom_f1_score: 0.5475 - custom_iou_score: 0.3872 - loss: 0.5147📝 CSV actualizado hasta época 7\n",
            "\u001b[1m120/120\u001b[0m \u001b[32m━━━━━━━━━━━━━━━━━━━━\u001b[0m\u001b[37m\u001b[0m \u001b[1m81s\u001b[0m 520ms/step - custom_f1_score: 0.5476 - custom_iou_score: 0.3873 - loss: 0.5147 - val_custom_f1_score: 0.4571 - val_custom_iou_score: 0.3055 - val_loss: 0.6288\n",
            "Epoch 8/500\n",
            "\u001b[1m120/120\u001b[0m \u001b[32m━━━━━━━━━━━━━━━━━━━━\u001b[0m\u001b[37m\u001b[0m \u001b[1m0s\u001b[0m 423ms/step - custom_f1_score: 0.5677 - custom_iou_score: 0.4053 - loss: 0.4887📝 CSV actualizado hasta época 8\n",
            "\u001b[1m120/120\u001b[0m \u001b[32m━━━━━━━━━━━━━━━━━━━━\u001b[0m\u001b[37m\u001b[0m \u001b[1m65s\u001b[0m 546ms/step - custom_f1_score: 0.5676 - custom_iou_score: 0.4053 - loss: 0.4888 - val_custom_f1_score: 0.5133 - val_custom_iou_score: 0.3575 - val_loss: 0.5657\n",
            "Epoch 9/500\n",
            "\u001b[1m120/120\u001b[0m \u001b[32m━━━━━━━━━━━━━━━━━━━━\u001b[0m\u001b[37m\u001b[0m \u001b[1m0s\u001b[0m 423ms/step - custom_f1_score: 0.5498 - custom_iou_score: 0.3932 - loss: 0.5078📝 CSV actualizado hasta época 9\n",
            "\u001b[1m120/120\u001b[0m \u001b[32m━━━━━━━━━━━━━━━━━━━━\u001b[0m\u001b[37m\u001b[0m \u001b[1m68s\u001b[0m 564ms/step - custom_f1_score: 0.5500 - custom_iou_score: 0.3934 - loss: 0.5077 - val_custom_f1_score: 0.5614 - val_custom_iou_score: 0.4022 - val_loss: 0.5091\n",
            "Epoch 10/500\n",
            "\u001b[1m120/120\u001b[0m \u001b[32m━━━━━━━━━━━━━━━━━━━━\u001b[0m\u001b[37m\u001b[0m \u001b[1m0s\u001b[0m 423ms/step - custom_f1_score: 0.5562 - custom_iou_score: 0.4001 - loss: 0.5036📝 CSV actualizado hasta época 10\n",
            "\u001b[1m120/120\u001b[0m \u001b[32m━━━━━━━━━━━━━━━━━━━━\u001b[0m\u001b[37m\u001b[0m \u001b[1m65s\u001b[0m 542ms/step - custom_f1_score: 0.5564 - custom_iou_score: 0.4002 - loss: 0.5033 - val_custom_f1_score: 0.5451 - val_custom_iou_score: 0.3860 - val_loss: 0.5325\n",
            "Epoch 11/500\n",
            "\u001b[1m120/120\u001b[0m \u001b[32m━━━━━━━━━━━━━━━━━━━━\u001b[0m\u001b[37m\u001b[0m \u001b[1m0s\u001b[0m 417ms/step - custom_f1_score: 0.5592 - custom_iou_score: 0.3998 - loss: 0.5051📝 CSV actualizado hasta época 11\n",
            "\u001b[1m120/120\u001b[0m \u001b[32m━━━━━━━━━━━━━━━━━━━━\u001b[0m\u001b[37m\u001b[0m \u001b[1m80s\u001b[0m 529ms/step - custom_f1_score: 0.5593 - custom_iou_score: 0.3999 - loss: 0.5049 - val_custom_f1_score: 0.5050 - val_custom_iou_score: 0.3494 - val_loss: 0.5801\n",
            "Epoch 12/500\n",
            "\u001b[1m120/120\u001b[0m \u001b[32m━━━━━━━━━━━━━━━━━━━━\u001b[0m\u001b[37m\u001b[0m \u001b[1m0s\u001b[0m 417ms/step - custom_f1_score: 0.5813 - custom_iou_score: 0.4199 - loss: 0.4793📝 CSV actualizado hasta época 12\n",
            "\u001b[1m120/120\u001b[0m \u001b[32m━━━━━━━━━━━━━━━━━━━━\u001b[0m\u001b[37m\u001b[0m \u001b[1m85s\u001b[0m 559ms/step - custom_f1_score: 0.5815 - custom_iou_score: 0.4201 - loss: 0.4791 - val_custom_f1_score: 0.5472 - val_custom_iou_score: 0.3885 - val_loss: 0.5316\n",
            "Epoch 13/500\n",
            "\u001b[1m120/120\u001b[0m \u001b[32m━━━━━━━━━━━━━━━━━━━━\u001b[0m\u001b[37m\u001b[0m \u001b[1m0s\u001b[0m 417ms/step - custom_f1_score: 0.6136 - custom_iou_score: 0.4534 - loss: 0.4407📝 CSV actualizado hasta época 13\n",
            "\u001b[1m120/120\u001b[0m \u001b[32m━━━━━━━━━━━━━━━━━━━━\u001b[0m\u001b[37m\u001b[0m \u001b[1m81s\u001b[0m 553ms/step - custom_f1_score: 0.6135 - custom_iou_score: 0.4533 - loss: 0.4408 - val_custom_f1_score: 0.5542 - val_custom_iou_score: 0.3953 - val_loss: 0.5263\n",
            "Epoch 14/500\n",
            "\u001b[1m120/120\u001b[0m \u001b[32m━━━━━━━━━━━━━━━━━━━━\u001b[0m\u001b[37m\u001b[0m \u001b[1m0s\u001b[0m 415ms/step - custom_f1_score: 0.6389 - custom_iou_score: 0.4774 - loss: 0.4140📝 CSV actualizado hasta época 14\n",
            "\u001b[1m120/120\u001b[0m \u001b[32m━━━━━━━━━━━━━━━━━━━━\u001b[0m\u001b[37m\u001b[0m \u001b[1m82s\u001b[0m 552ms/step - custom_f1_score: 0.6388 - custom_iou_score: 0.4773 - loss: 0.4141 - val_custom_f1_score: 0.5151 - val_custom_iou_score: 0.3587 - val_loss: 0.5721\n",
            "Epoch 15/500\n",
            "\u001b[1m120/120\u001b[0m \u001b[32m━━━━━━━━━━━━━━━━━━━━\u001b[0m\u001b[37m\u001b[0m \u001b[1m0s\u001b[0m 416ms/step - custom_f1_score: 0.6105 - custom_iou_score: 0.4511 - loss: 0.4437📝 CSV actualizado hasta época 15\n",
            "\u001b[1m120/120\u001b[0m \u001b[32m━━━━━━━━━━━━━━━━━━━━\u001b[0m\u001b[37m\u001b[0m \u001b[1m83s\u001b[0m 559ms/step - custom_f1_score: 0.6107 - custom_iou_score: 0.4513 - loss: 0.4436 - val_custom_f1_score: 0.5582 - val_custom_iou_score: 0.3981 - val_loss: 0.5205\n",
            "Epoch 16/500\n",
            "\u001b[1m120/120\u001b[0m \u001b[32m━━━━━━━━━━━━━━━━━━━━\u001b[0m\u001b[37m\u001b[0m \u001b[1m0s\u001b[0m 416ms/step - custom_f1_score: 0.6362 - custom_iou_score: 0.4785 - loss: 0.4171📝 CSV actualizado hasta época 16\n",
            "\u001b[1m120/120\u001b[0m \u001b[32m━━━━━━━━━━━━━━━━━━━━\u001b[0m\u001b[37m\u001b[0m \u001b[1m85s\u001b[0m 583ms/step - custom_f1_score: 0.6361 - custom_iou_score: 0.4785 - loss: 0.4171 - val_custom_f1_score: 0.6069 - val_custom_iou_score: 0.4461 - val_loss: 0.4628\n",
            "Epoch 17/500\n",
            "\u001b[1m120/120\u001b[0m \u001b[32m━━━━━━━━━━━━━━━━━━━━\u001b[0m\u001b[37m\u001b[0m \u001b[1m0s\u001b[0m 417ms/step - custom_f1_score: 0.6339 - custom_iou_score: 0.4755 - loss: 0.4169📝 CSV actualizado hasta época 17\n",
            "\u001b[1m120/120\u001b[0m \u001b[32m━━━━━━━━━━━━━━━━━━━━\u001b[0m\u001b[37m\u001b[0m \u001b[1m66s\u001b[0m 548ms/step - custom_f1_score: 0.6341 - custom_iou_score: 0.4757 - loss: 0.4167 - val_custom_f1_score: 0.6242 - val_custom_iou_score: 0.4637 - val_loss: 0.4417\n",
            "Epoch 18/500\n",
            "\u001b[1m120/120\u001b[0m \u001b[32m━━━━━━━━━━━━━━━━━━━━\u001b[0m\u001b[37m\u001b[0m \u001b[1m0s\u001b[0m 419ms/step - custom_f1_score: 0.6332 - custom_iou_score: 0.4744 - loss: 0.4184📝 CSV actualizado hasta época 18\n",
            "\u001b[1m120/120\u001b[0m \u001b[32m━━━━━━━━━━━━━━━━━━━━\u001b[0m\u001b[37m\u001b[0m \u001b[1m73s\u001b[0m 612ms/step - custom_f1_score: 0.6333 - custom_iou_score: 0.4745 - loss: 0.4183 - val_custom_f1_score: 0.6326 - val_custom_iou_score: 0.4732 - val_loss: 0.4323\n",
            "Epoch 19/500\n",
            "\u001b[1m120/120\u001b[0m \u001b[32m━━━━━━━━━━━━━━━━━━━━\u001b[0m\u001b[37m\u001b[0m \u001b[1m0s\u001b[0m 417ms/step - custom_f1_score: 0.6727 - custom_iou_score: 0.5170 - loss: 0.3755📝 CSV actualizado hasta época 19\n",
            "\u001b[1m120/120\u001b[0m \u001b[32m━━━━━━━━━━━━━━━━━━━━\u001b[0m\u001b[37m\u001b[0m \u001b[1m78s\u001b[0m 578ms/step - custom_f1_score: 0.6727 - custom_iou_score: 0.5172 - loss: 0.3754 - val_custom_f1_score: 0.5486 - val_custom_iou_score: 0.3886 - val_loss: 0.5322\n",
            "Epoch 20/500\n",
            "\u001b[1m120/120\u001b[0m \u001b[32m━━━━━━━━━━━━━━━━━━━━\u001b[0m\u001b[37m\u001b[0m \u001b[1m0s\u001b[0m 416ms/step - custom_f1_score: 0.6911 - custom_iou_score: 0.5367 - loss: 0.3563📝 CSV actualizado hasta época 20\n",
            "\u001b[1m120/120\u001b[0m \u001b[32m━━━━━━━━━━━━━━━━━━━━\u001b[0m\u001b[37m\u001b[0m \u001b[1m78s\u001b[0m 546ms/step - custom_f1_score: 0.6909 - custom_iou_score: 0.5365 - loss: 0.3565 - val_custom_f1_score: 0.6300 - val_custom_iou_score: 0.4687 - val_loss: 0.4410\n",
            "Epoch 21/500\n",
            "\u001b[1m120/120\u001b[0m \u001b[32m━━━━━━━━━━━━━━━━━━━━\u001b[0m\u001b[37m\u001b[0m \u001b[1m0s\u001b[0m 419ms/step - custom_f1_score: 0.6855 - custom_iou_score: 0.5311 - loss: 0.3631📝 CSV actualizado hasta época 21\n",
            "\u001b[1m120/120\u001b[0m \u001b[32m━━━━━━━━━━━━━━━━━━━━\u001b[0m\u001b[37m\u001b[0m \u001b[1m68s\u001b[0m 566ms/step - custom_f1_score: 0.6856 - custom_iou_score: 0.5311 - loss: 0.3630 - val_custom_f1_score: 0.6475 - val_custom_iou_score: 0.4897 - val_loss: 0.4165\n",
            "Epoch 22/500\n",
            "\u001b[1m120/120\u001b[0m \u001b[32m━━━━━━━━━━━━━━━━━━━━\u001b[0m\u001b[37m\u001b[0m \u001b[1m0s\u001b[0m 417ms/step - custom_f1_score: 0.6775 - custom_iou_score: 0.5233 - loss: 0.3673📝 CSV actualizado hasta época 22\n",
            "\u001b[1m120/120\u001b[0m \u001b[32m━━━━━━━━━━━━━━━━━━━━\u001b[0m\u001b[37m\u001b[0m \u001b[1m78s\u001b[0m 529ms/step - custom_f1_score: 0.6776 - custom_iou_score: 0.5234 - loss: 0.3672 - val_custom_f1_score: 0.6281 - val_custom_iou_score: 0.4693 - val_loss: 0.4399\n",
            "Epoch 23/500\n",
            "\u001b[1m120/120\u001b[0m \u001b[32m━━━━━━━━━━━━━━━━━━━━\u001b[0m\u001b[37m\u001b[0m \u001b[1m0s\u001b[0m 416ms/step - custom_f1_score: 0.6779 - custom_iou_score: 0.5236 - loss: 0.3692📝 CSV actualizado hasta época 23\n",
            "\u001b[1m120/120\u001b[0m \u001b[32m━━━━━━━━━━━━━━━━━━━━\u001b[0m\u001b[37m\u001b[0m \u001b[1m86s\u001b[0m 564ms/step - custom_f1_score: 0.6781 - custom_iou_score: 0.5237 - loss: 0.3691 - val_custom_f1_score: 0.5990 - val_custom_iou_score: 0.4396 - val_loss: 0.4778\n",
            "Epoch 24/500\n",
            "\u001b[1m120/120\u001b[0m \u001b[32m━━━━━━━━━━━━━━━━━━━━\u001b[0m\u001b[37m\u001b[0m \u001b[1m0s\u001b[0m 419ms/step - custom_f1_score: 0.6985 - custom_iou_score: 0.5505 - loss: 0.3503📝 CSV actualizado hasta época 24\n",
            "\u001b[1m120/120\u001b[0m \u001b[32m━━━━━━━━━━━━━━━━━━━━\u001b[0m\u001b[37m\u001b[0m \u001b[1m64s\u001b[0m 530ms/step - custom_f1_score: 0.6986 - custom_iou_score: 0.5505 - loss: 0.3502 - val_custom_f1_score: 0.6200 - val_custom_iou_score: 0.4600 - val_loss: 0.4581\n",
            "Epoch 25/500\n",
            "\u001b[1m120/120\u001b[0m \u001b[32m━━━━━━━━━━━━━━━━━━━━\u001b[0m\u001b[37m\u001b[0m \u001b[1m0s\u001b[0m 416ms/step - custom_f1_score: 0.7416 - custom_iou_score: 0.5980 - loss: 0.2982📝 CSV actualizado hasta época 25\n",
            "\u001b[1m120/120\u001b[0m \u001b[32m━━━━━━━━━━━━━━━━━━━━\u001b[0m\u001b[37m\u001b[0m \u001b[1m83s\u001b[0m 536ms/step - custom_f1_score: 0.7415 - custom_iou_score: 0.5979 - loss: 0.2983 - val_custom_f1_score: 0.6003 - val_custom_iou_score: 0.4402 - val_loss: 0.4712\n",
            "Epoch 26/500\n",
            "\u001b[1m120/120\u001b[0m \u001b[32m━━━━━━━━━━━━━━━━━━━━\u001b[0m\u001b[37m\u001b[0m \u001b[1m0s\u001b[0m 413ms/step - custom_f1_score: 0.7211 - custom_iou_score: 0.5710 - loss: 0.3213📝 CSV actualizado hasta época 26\n",
            "\u001b[1m120/120\u001b[0m \u001b[32m━━━━━━━━━━━━━━━━━━━━\u001b[0m\u001b[37m\u001b[0m \u001b[1m81s\u001b[0m 532ms/step - custom_f1_score: 0.7211 - custom_iou_score: 0.5710 - loss: 0.3213 - val_custom_f1_score: 0.6215 - val_custom_iou_score: 0.4613 - val_loss: 0.4476\n",
            "Epoch 27/500\n",
            "\u001b[1m120/120\u001b[0m \u001b[32m━━━━━━━━━━━━━━━━━━━━\u001b[0m\u001b[37m\u001b[0m \u001b[1m0s\u001b[0m 418ms/step - custom_f1_score: 0.7278 - custom_iou_score: 0.5824 - loss: 0.3115📝 CSV actualizado hasta época 27\n",
            "\u001b[1m120/120\u001b[0m \u001b[32m━━━━━━━━━━━━━━━━━━━━\u001b[0m\u001b[37m\u001b[0m \u001b[1m63s\u001b[0m 527ms/step - custom_f1_score: 0.7277 - custom_iou_score: 0.5823 - loss: 0.3116 - val_custom_f1_score: 0.6251 - val_custom_iou_score: 0.4660 - val_loss: 0.4487\n",
            "Epoch 28/500\n",
            "\u001b[1m120/120\u001b[0m \u001b[32m━━━━━━━━━━━━━━━━━━━━\u001b[0m\u001b[37m\u001b[0m \u001b[1m0s\u001b[0m 416ms/step - custom_f1_score: 0.7399 - custom_iou_score: 0.5958 - loss: 0.2972📝 CSV actualizado hasta época 28\n",
            "\u001b[1m120/120\u001b[0m \u001b[32m━━━━━━━━━━━━━━━━━━━━\u001b[0m\u001b[37m\u001b[0m \u001b[1m82s\u001b[0m 532ms/step - custom_f1_score: 0.7399 - custom_iou_score: 0.5959 - loss: 0.2972 - val_custom_f1_score: 0.6359 - val_custom_iou_score: 0.4773 - val_loss: 0.4300\n",
            "Epoch 29/500\n",
            "\u001b[1m120/120\u001b[0m \u001b[32m━━━━━━━━━━━━━━━━━━━━\u001b[0m\u001b[37m\u001b[0m \u001b[1m0s\u001b[0m 414ms/step - custom_f1_score: 0.7562 - custom_iou_score: 0.6151 - loss: 0.2786📝 CSV actualizado hasta época 29\n",
            "\u001b[1m120/120\u001b[0m \u001b[32m━━━━━━━━━━━━━━━━━━━━\u001b[0m\u001b[37m\u001b[0m \u001b[1m87s\u001b[0m 579ms/step - custom_f1_score: 0.7562 - custom_iou_score: 0.6151 - loss: 0.2787 - val_custom_f1_score: 0.6006 - val_custom_iou_score: 0.4401 - val_loss: 0.4788\n",
            "Epoch 30/500\n",
            "\u001b[1m120/120\u001b[0m \u001b[32m━━━━━━━━━━━━━━━━━━━━\u001b[0m\u001b[37m\u001b[0m \u001b[1m0s\u001b[0m 414ms/step - custom_f1_score: 0.7534 - custom_iou_score: 0.6115 - loss: 0.2840📝 CSV actualizado hasta época 30\n",
            "\u001b[1m120/120\u001b[0m \u001b[32m━━━━━━━━━━━━━━━━━━━━\u001b[0m\u001b[37m\u001b[0m \u001b[1m76s\u001b[0m 528ms/step - custom_f1_score: 0.7533 - custom_iou_score: 0.6115 - loss: 0.2840 - val_custom_f1_score: 0.5269 - val_custom_iou_score: 0.3680 - val_loss: 0.5719\n",
            "Epoch 31/500\n",
            "\u001b[1m120/120\u001b[0m \u001b[32m━━━━━━━━━━━━━━━━━━━━\u001b[0m\u001b[37m\u001b[0m \u001b[1m0s\u001b[0m 414ms/step - custom_f1_score: 0.7796 - custom_iou_score: 0.6454 - loss: 0.2552📝 CSV actualizado hasta época 31\n",
            "\u001b[1m120/120\u001b[0m \u001b[32m━━━━━━━━━━━━━━━━━━━━\u001b[0m\u001b[37m\u001b[0m \u001b[1m84s\u001b[0m 547ms/step - custom_f1_score: 0.7795 - custom_iou_score: 0.6452 - loss: 0.2553 - val_custom_f1_score: 0.5977 - val_custom_iou_score: 0.4375 - val_loss: 0.4806\n",
            "✅ Modelo final guardado: /content/drive/MyDrive/IV/output/model_cachaduras/20250728_205521-vgg19-cachaduras.keras\n",
            "\n",
            "📊 Validación:\n",
            "\u001b[1m15/15\u001b[0m \u001b[32m━━━━━━━━━━━━━━━━━━━━\u001b[0m\u001b[37m\u001b[0m \u001b[1m22s\u001b[0m 246ms/step - custom_f1_score: 0.6509 - custom_iou_score: 0.4885 - loss: 0.3970\n",
            "\n",
            "📊 Test:\n",
            "\u001b[1m10/10\u001b[0m \u001b[32m━━━━━━━━━━━━━━━━━━━━\u001b[0m\u001b[37m\u001b[0m \u001b[1m10s\u001b[0m 1s/step - custom_f1_score: 0.6762 - custom_iou_score: 0.5129 - loss: 0.3920\n",
            "\u001b[1m10/10\u001b[0m \u001b[32m━━━━━━━━━━━━━━━━━━━━\u001b[0m\u001b[37m\u001b[0m \u001b[1m6s\u001b[0m 408ms/step\n"
          ]
        }
      ]
    },
    {
      "cell_type": "code",
      "source": [
        "import matplotlib.pyplot as plt\n",
        "import os\n",
        "import numpy as np\n",
        "\n",
        "# === 1. Generar predicciones (si no lo hiciste ya) ===\n",
        "y_pred = model.predict(X_test_preprocessed)\n",
        "\n",
        "# Define the base directory for output and predictions\n",
        "output_dir = f\"{base_path}/output\"\n",
        "predictions_dir = os.path.join(output_dir, f\"predictions_{defect}_{model_type}\")\n",
        "results_dir = os.path.join(predictions_dir, f\"visualizations_{defect}_{model_type}\") # Keep visualization directory as before\n",
        "\n",
        "# Create the necessary directories if they don't exist\n",
        "os.makedirs(predictions_dir, exist_ok=True)\n",
        "os.makedirs(results_dir, exist_ok=True)\n",
        "\n",
        "# === 2. Guardar predicciones como .npy ===\n",
        "np.save(os.path.join(predictions_dir, \"y_pred_test.npy\"), y_pred)\n",
        "print(\"✅ Predicciones guardadas.\")\n",
        "\n",
        "# === 3. Visualizar y guardar comparaciones ===\n",
        "# Escala las máscaras para visualización (umbral opcional)\n",
        "threshold = 0.5\n",
        "y_pred_bin = (y_pred > threshold).astype(np.uint8)\n",
        "\n",
        "# Iterar sobre algunas muestras (puedes limitar si es mucho)\n",
        "for i in range(len(X_test)):\n",
        "    fig, axes = plt.subplots(1, 3, figsize=(12, 4))\n",
        "    original_image_display = np.clip(X_test[i], 0, 255).astype(np.uint8)\n",
        "\n",
        "\n",
        "\n",
        "    # Imagen original\n",
        "    axes[0].imshow(original_image_display)\n",
        "    axes[0].set_title(\"Imagen original\")\n",
        "    axes[0].axis(\"off\")\n",
        "\n",
        "    # Ground truth\n",
        "    axes[1].imshow(y_test[i].squeeze(), cmap='gray')\n",
        "    axes[1].set_title(\"Máscara Real\")\n",
        "    axes[1].axis(\"off\")\n",
        "\n",
        "    # Predicción\n",
        "    axes[2].imshow(y_pred_bin[i].squeeze(), cmap='gray')\n",
        "    axes[2].set_title(\"Predicción\")\n",
        "    axes[2].axis(\"off\")\n",
        "\n",
        "    plt.tight_layout()\n",
        "    save_path = os.path.join(results_dir, f\"test_{i:03d}.png\")\n",
        "    plt.savefig(save_path)\n",
        "    plt.close()\n",
        "\n",
        "print(f\"🖼️ Visualizaciones guardadas en: {results_dir}\")"
      ],
      "metadata": {
        "id": "g9NfDeNlIzVB",
        "colab": {
          "base_uri": "https://localhost:8080/"
        },
        "outputId": "b675dbff-91bd-400f-f1df-739294f8c1e5"
      },
      "id": "g9NfDeNlIzVB",
      "execution_count": 11,
      "outputs": [
        {
          "output_type": "stream",
          "name": "stdout",
          "text": [
            "\u001b[1m10/10\u001b[0m \u001b[32m━━━━━━━━━━━━━━━━━━━━\u001b[0m\u001b[37m\u001b[0m \u001b[1m2s\u001b[0m 232ms/step\n",
            "✅ Predicciones guardadas.\n",
            "🖼️ Visualizaciones guardadas en: /content/drive/MyDrive/IV/output/predictions_cachaduras_vgg19/visualizations_cachaduras_vgg19\n"
          ]
        }
      ]
    },
    {
      "cell_type": "code",
      "metadata": {
        "id": "5200e943"
      },
      "source": [
        "import matplotlib.pyplot as plt\n",
        "import numpy as np\n",
        "\n",
        "def plot_history(history, x_lim, y_lim):\n",
        "    #val_iou_score = history.history['val_iou_score']\n",
        "    #iou_score = history.history['iou_score']\n",
        "    val_f1_score = history.history['val_custom_f1_score']\n",
        "    f1_score = history.history['custom_f1_score']\n",
        "    val_loss = history.history['val_loss']\n",
        "    loss = history.history['loss']\n",
        "    epochs = range(1, len(loss) + 1)\n",
        "\n",
        "    # Plotting\n",
        "    plt.figure(figsize=(12, 6))\n",
        "\n",
        "    #plt.plot(epochs, val_iou_score, 'b', label='Validation IoU Score')\n",
        "    #plt.plot(epochs, iou_score, 'g', label='IoU Score')\n",
        "    plt.plot(epochs, f1_score, 'r', label='F1 Score')\n",
        "    plt.plot(epochs, val_f1_score, 'c', label='Validation F1 Score')\n",
        "    plt.plot(epochs, val_loss, 'm', label='Validation Loss')\n",
        "    plt.plot(epochs, loss, 'y', label='Training Loss')\n",
        "\n",
        "    plt.title('Training Metrics', fontsize=16)\n",
        "    plt.xlabel('Epochs', fontsize=14)\n",
        "    plt.ylabel('Score/Loss', fontsize=14)\n",
        "    plt.legend(fontsize=12)\n",
        "\n",
        "    plt.grid(True)\n",
        "    plt.xlim(1, x_lim)\n",
        "    plt.ylim(0, y_lim)\n",
        "    plt.show()"
      ],
      "execution_count": 12,
      "outputs": [],
      "id": "5200e943"
    },
    {
      "cell_type": "code",
      "metadata": {
        "colab": {
          "base_uri": "https://localhost:8080/",
          "height": 571
        },
        "id": "46ba2fef",
        "outputId": "fe0613a5-2600-462d-f47e-ca5a658d7e16"
      },
      "source": [
        "# Visualize the training history\n",
        "plot_history(history, 33, 1)"
      ],
      "execution_count": 13,
      "outputs": [
        {
          "output_type": "display_data",
          "data": {
            "text/plain": [
              "<Figure size 1200x600 with 1 Axes>"
            ],
            "image/png": "[encoded data removed]"
          },
          "metadata": {}
        }
      ],
      "id": "46ba2fef"
    }
  ],
  "metadata": {
    "kernelspec": {
      "display_name": "Python 3",
      "name": "python3"
    },
    "language_info": {
      "codemirror_mode": {
        "name": "ipython",
        "version": 3
      },
      "file_extension": ".py",
      "mimetype": "text/x-python",
      "name": "python",
      "nbconvert_exporter": "python",
      "pygments_lexer": "ipython3",
      "version": "3.10.13"
    },
    "colab": {
      "provenance": [],
      "gpuType": "T4",
      "include_colab_link": true
    },
    "accelerator": "GPU"
  },
  "nbformat": 4,
  "nbformat_minor": 5
}