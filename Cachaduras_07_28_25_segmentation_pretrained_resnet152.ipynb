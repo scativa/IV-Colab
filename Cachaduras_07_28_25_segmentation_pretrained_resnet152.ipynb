{
  "cells": [
    {
      "cell_type": "markdown",
      "metadata": {
        "id": "view-in-github",
        "colab_type": "text"
      },
      "source": [
        "<a href=\"https://colab.research.google.com/github/scativa/IV-Colab/blob/evi/Cachaduras_07_28_25_segmentation_pretrained_resnet152.ipynb\" target=\"_parent\"><img src=\"https://colab.research.google.com/assets/colab-badge.svg\" alt=\"Open In Colab\"/></a>"
      ]
    },
    {
      "cell_type": "markdown",
      "source": [
        "#Librerias\n",
        "\n",
        "##functions.py\n",
        "Reemplaza la línea `import functions as func`"
      ],
      "metadata": {
        "id": "ryDySnX4psf8"
      },
      "id": "ryDySnX4psf8"
    },
    {
      "cell_type": "code",
      "source": [
        "import numpy as np\n",
        "import os\n",
        "import cv2\n",
        "from sklearn.model_selection import train_test_split\n",
        "import matplotlib.pyplot as plt\n",
        "\n",
        "\n",
        "def load_images(dir, norm=False):\n",
        "    images = [cv2.imread(os.path.join(dir, filename)).astype(np.float32)\n",
        "            for filename in os.listdir(dir)\n",
        "            if cv2.imread(os.path.join(dir, filename)) is not None]\n",
        "    if norm:\n",
        "        images = [image / 255.0 for image in images]\n",
        "\n",
        "    # https://chatgpt.com/c/67fd5724-8164-8006-9367-780189493ee5\n",
        "    images = [cv2.resize(image, (224, 224)).astype(np.float32) for image in images]\n",
        "    return images\n",
        "\n",
        "def load_masks(dir_pores, image_filenames):\n",
        "    masks = []\n",
        "    for filename in image_filenames:\n",
        "        mask_path = os.path.join(dir_pores, filename)\n",
        "        mask = cv2.imread(mask_path, cv2.IMREAD_GRAYSCALE).astype(np.float32)\n",
        "\n",
        "        # Normalizar\n",
        "        mask = mask / 255.0\n",
        "\n",
        "        # Redimensionar\n",
        "        mask = cv2.resize(mask, (224, 224))\n",
        "\n",
        "        # Binarizar DESPUÉS del resize\n",
        "        mask = (mask > 0.5).astype(np.float32)\n",
        "\n",
        "        masks.append(mask)\n",
        "\n",
        "    return masks\n",
        "'''def load_masks(dir_pores, image_filenames):\n",
        "    masks = [\n",
        "            cv2.imread(os.path.join(dir_pores, filename), cv2.IMREAD_GRAYSCALE).astype(np.float32)\n",
        "            # if os.path.exists(os.path.join(dir_pores, filename))\n",
        "            # else np.zeros((232, 180), dtype=np.float32)\n",
        "            for filename in image_filenames\n",
        "    ]\n",
        "    # masks = [np.expand_dims(mask, axis=-1) for mask in masks] #adds a channel dimension to the masks\n",
        "\n",
        "    # https://chatgpt.com/c/67fd5724-8164-8006-9367-780189493ee5\n",
        "    masks = [cv2.resize(mask, (224, 224)).astype(np.float32) for mask in masks]\n",
        "\n",
        "    return masks'''\n",
        "\n",
        "# just to plot masks\n",
        "def plot_img_mask(img, mask, pred):\n",
        "\n",
        "    sub_plot = 0\n",
        "    num_cols = 0\n",
        "\n",
        "    # Determina el número de columnas en función de si hay una predicción\n",
        "    if img is not None:\n",
        "        num_cols += 1\n",
        "    if mask is not None:\n",
        "        num_cols += 1\n",
        "    if pred is not None:\n",
        "        num_cols += 1\n",
        "\n",
        "    # Si no hay nada para mostrar, sal de la función\n",
        "    if num_cols == 0:\n",
        "        print(\"No hay nada para mostrar.\")\n",
        "        return\n",
        "\n",
        "    # Crea la figura y los ejes en una sola fila con el número determinado de columnas\n",
        "    fig, axes = plt.subplots(1, num_cols, figsize=(3, 3))\n",
        "\n",
        "    if (img is not None):\n",
        "      axes[sub_plot].imshow(img)\n",
        "      axes[sub_plot].set_title('Image')\n",
        "      axes[sub_plot].axis('off')\n",
        "      sub_plot += 1\n",
        "\n",
        "    if (mask is not None):\n",
        "      axes[sub_plot].imshow(mask, cmap='gray')\n",
        "      axes[sub_plot].set_title('Mask')\n",
        "      axes[sub_plot].axis('off')\n",
        "      sub_plot += 1\n",
        "\n",
        "    if (pred is not None):\n",
        "      pred_mask = np.where(pred <= 0.5, 0, 1)\n",
        "\n",
        "      axes[sub_plot].imshow(pred_mask, cmap='gray')\n",
        "      axes[sub_plot].set_title('Predicted')\n",
        "      axes[sub_plot].axis('off')\n",
        "\n",
        "    plt.tight_layout()\n",
        "    plt.show()\n",
        "\n",
        "def augmented_dataset(dir_images, dir_mask, seed, norm):\n",
        "    # From \"Pores 03/28/25 -Seba- Basado en segmentation_own (DTE_fisuras).ipynb\"\n",
        "\n",
        "\n",
        "    images = load_images(dir_images, norm)\n",
        "    # Get image filenames from loaded images\n",
        "\n",
        "    image_filenames = [os.path.basename(image_path) for image_path in os.listdir(dir_images)]\n",
        "    # masks = load_masks(dir_pores)\n",
        "    masks = load_masks(dir_mask, image_filenames)\n",
        "\n",
        "\n",
        "    X_train, X_test, y_train, y_test = train_test_split(images, masks, test_size=0.2, random_state=seed)\n",
        "\n",
        "    X_train[0].shape\n",
        "    y_train[0].shape\n",
        "    augmented_X_train = [cv2.flip(i, 1) for i in X_train]\n",
        "    augmented_y_train = [cv2.flip(i, 1) for i in y_train]\n",
        "\n",
        "    X_train = np.array(X_train + augmented_X_train)\n",
        "    y_train = np.array(y_train + augmented_y_train)\n",
        "\n",
        "    X_test = np.array(X_test)\n",
        "    y_test = np.array(y_test)\n",
        "\n",
        "    X_train, X_val, y_train, y_val = train_test_split(X_train, y_train, test_size=0.2, random_state=seed)\n",
        "\n",
        "    y_train = np.expand_dims(y_train, axis=-1)\n",
        "    y_val = np.expand_dims(y_val, axis=-1)\n",
        "    y_test = np.expand_dims(y_test, axis=-1)\n",
        "\n",
        "    return X_train, y_train, X_val, y_val, X_test, y_test\n",
        "\n",
        "def test_dataset(dir_images, dir_mask, seed, norm):\n",
        "    # From \"Pores 03/28/25 -Seba- Basado en segmentation_own (DTE_fisuras).ipynb\"\n",
        "\n",
        "\n",
        "    images = load_images(dir_images, norm)\n",
        "    # Get image filenames from loaded images\n",
        "\n",
        "    image_filenames = [os.path.basename(image_path) for image_path in os.listdir(dir_images)]\n",
        "    # masks = load_masks(dir_pores)\n",
        "    masks = load_masks(dir_mask, image_filenames)\n",
        "\n",
        "\n",
        "    _, X_test, _, y_test = train_test_split(images, masks, test_size=0.2, random_state=seed)\n",
        "\n",
        "    y_test = np.expand_dims(y_test, axis=-1)\n",
        "\n",
        "    return X_test, y_test\n",
        "\n",
        "'''\n",
        "If you want to show some other metrics, just uncomment\n",
        "'''\n",
        "def plot_history(history, x_lim, y_lim):\n",
        "    #val_iou_score = history.history['val_iou_score']\n",
        "    #iou_score = history.history['iou_score']\n",
        "    val_f1_score = history.history['val_f1-score']\n",
        "    #f1_score = history.history['f1-score']\n",
        "    val_loss = history.history['val_loss']\n",
        "    loss = history.history['loss']\n",
        "    epochs = range(1, len(loss) + 1)\n",
        "\n",
        "    # Plotting\n",
        "    plt.figure(figsize=(12, 6))\n",
        "\n",
        "    #plt.plot(epochs, val_iou_score, 'b', label='Validation IoU Score')\n",
        "    #plt.plot(epochs, iou_score, 'g', label='IoU Score')\n",
        "    #plt.plot(epochs, f1_score, 'r', label='F1 Score')\n",
        "    plt.plot(epochs, val_f1_score, 'c', label='Validation F1 Score')\n",
        "    plt.plot(epochs, val_loss, 'm', label='Validation Loss')\n",
        "    plt.plot(epochs, loss, 'y', label='Training Loss')\n",
        "\n",
        "    plt.title('Training Metrics', fontsize=16)\n",
        "    plt.xlabel('Epochs', fontsize=14)\n",
        "    plt.ylabel('Score/Loss', fontsize=14)\n",
        "    plt.legend(fontsize=12)\n",
        "\n",
        "    plt.grid(True)\n",
        "    plt.xlim(1, x_lim)\n",
        "    plt.ylim(0, y_lim)\n",
        "    plt.show()\n",
        "\n"
      ],
      "metadata": {
        "id": "H80FZsTspq9N"
      },
      "id": "H80FZsTspq9N",
      "execution_count": 1,
      "outputs": []
    },
    {
      "cell_type": "markdown",
      "source": [
        "#Entorno"
      ],
      "metadata": {
        "id": "Y6FbynbEtxDc"
      },
      "id": "Y6FbynbEtxDc"
    },
    {
      "cell_type": "code",
      "source": [
        "from google.colab import drive\n",
        "drive.mount('/content/drive')"
      ],
      "metadata": {
        "id": "jLY5vQB7tS_O",
        "colab": {
          "base_uri": "https://localhost:8080/"
        },
        "outputId": "f1ac2b20-3e72-48fd-a07e-bfccf1ad0238"
      },
      "id": "jLY5vQB7tS_O",
      "execution_count": 2,
      "outputs": [
        {
          "output_type": "stream",
          "name": "stdout",
          "text": [
            "Drive already mounted at /content/drive; to attempt to forcibly remount, call drive.mount(\"/content/drive\", force_remount=True).\n"
          ]
        }
      ]
    },
    {
      "cell_type": "code",
      "source": [
        "from time import process_time_ns\n",
        "import os, json\n",
        "\n",
        "usr_drive = \"evi.cnea\"\n",
        "\n",
        "\n",
        "base_paths = { # Path al\n",
        "    \"ppca.cnea\": '/content/drive/MyDrive/IV',\n",
        "    \"seba.cnea\": '/content/drive/MyDrive/CNEA/DCA/Proyectos/IV - Inspección Visual/IV',\n",
        "    \"scativa\": '/content/drive/MyDrive/Laburo/CNEA/DCA/Proyectos/IV - Inspección Visual/IV',\n",
        "    \"evi.cnea\": '/content/drive/MyDrive/IV',\n",
        "    \"evi55\": '/content/drive/MyDrive/IV'\n",
        "}\n",
        "# base_path =\n",
        "base_path = base_paths[usr_drive]\n",
        "\n",
        "if not os.path.exists(base_path):\n",
        "  print(f'Carpeta inexistente \"{usr_drive}: {base_path}\"')\n",
        "else:\n",
        "  print(f'Utilizando carpeta  \"{usr_drive}: {base_path}\"')\n",
        "\n",
        "\n",
        "#import tensorflow as tf\n",
        "# Setting GPU memory growth to True\n",
        "#gpus = tf.config.experimental.list_physical_devices('GPU')\n",
        "#if gpus:\n",
        "#    print(f\"GPUs detected: {gpus}\")\n",
        "#    try:\n",
        "#        for gpu in gpus:\n",
        "#            tf.config.experimental.set_memory_growth(gpu, True)\n",
        "#    except RuntimeError as e:\n",
        "#        print(e)\n",
        "\n",
        "\n",
        "os.environ[\"SM_FRAMEWORK\"] = \"tf.keras\"\n",
        "from tensorflow import keras\n",
        "from keras import backend as K\n"
      ],
      "metadata": {
        "id": "u8K_GpqhP4P1",
        "colab": {
          "base_uri": "https://localhost:8080/"
        },
        "outputId": "e0e9e957-c07d-48f6-9a94-469936348a8c"
      },
      "id": "u8K_GpqhP4P1",
      "execution_count": 3,
      "outputs": [
        {
          "output_type": "stream",
          "name": "stdout",
          "text": [
            "Utilizando carpeta  \"evi.cnea: /content/drive/MyDrive/IV\"\n"
          ]
        },
        {
          "output_type": "stream",
          "name": "stderr",
          "text": [
            "Exception ignored in: <function _xla_gc_callback at 0x79b94af065c0>\n",
            "Traceback (most recent call last):\n",
            "  File \"/usr/local/lib/python3.11/dist-packages/jax/_src/lib/__init__.py\", line 96, in _xla_gc_callback\n",
            "    def _xla_gc_callback(*args):\n",
            "    \n",
            "KeyboardInterrupt: \n"
          ]
        }
      ]
    },
    {
      "cell_type": "code",
      "source": [
        "!pip install segmentation-models\n",
        "import segmentation_models as sm\n",
        "from segmentation_models import get_preprocessing"
      ],
      "metadata": {
        "colab": {
          "base_uri": "https://localhost:8080/"
        },
        "id": "2o1eL7zLj1xx",
        "outputId": "0576e8cf-22fd-48d6-de1f-26506eb6932b"
      },
      "id": "2o1eL7zLj1xx",
      "execution_count": 4,
      "outputs": [
        {
          "output_type": "stream",
          "name": "stdout",
          "text": [
            "Requirement already satisfied: segmentation-models in /usr/local/lib/python3.11/dist-packages (1.0.1)\n",
            "Requirement already satisfied: keras-applications<=1.0.8,>=1.0.7 in /usr/local/lib/python3.11/dist-packages (from segmentation-models) (1.0.8)\n",
            "Requirement already satisfied: image-classifiers==1.0.0 in /usr/local/lib/python3.11/dist-packages (from segmentation-models) (1.0.0)\n",
            "Requirement already satisfied: efficientnet==1.0.0 in /usr/local/lib/python3.11/dist-packages (from segmentation-models) (1.0.0)\n",
            "Requirement already satisfied: scikit-image in /usr/local/lib/python3.11/dist-packages (from efficientnet==1.0.0->segmentation-models) (0.25.2)\n",
            "Requirement already satisfied: numpy>=1.9.1 in /usr/local/lib/python3.11/dist-packages (from keras-applications<=1.0.8,>=1.0.7->segmentation-models) (2.0.2)\n",
            "Requirement already satisfied: h5py in /usr/local/lib/python3.11/dist-packages (from keras-applications<=1.0.8,>=1.0.7->segmentation-models) (3.14.0)\n",
            "Requirement already satisfied: scipy>=1.11.4 in /usr/local/lib/python3.11/dist-packages (from scikit-image->efficientnet==1.0.0->segmentation-models) (1.16.0)\n",
            "Requirement already satisfied: networkx>=3.0 in /usr/local/lib/python3.11/dist-packages (from scikit-image->efficientnet==1.0.0->segmentation-models) (3.5)\n",
            "Requirement already satisfied: pillow>=10.1 in /usr/local/lib/python3.11/dist-packages (from scikit-image->efficientnet==1.0.0->segmentation-models) (11.3.0)\n",
            "Requirement already satisfied: imageio!=2.35.0,>=2.33 in /usr/local/lib/python3.11/dist-packages (from scikit-image->efficientnet==1.0.0->segmentation-models) (2.37.0)\n",
            "Requirement already satisfied: tifffile>=2022.8.12 in /usr/local/lib/python3.11/dist-packages (from scikit-image->efficientnet==1.0.0->segmentation-models) (2025.6.11)\n",
            "Requirement already satisfied: packaging>=21 in /usr/local/lib/python3.11/dist-packages (from scikit-image->efficientnet==1.0.0->segmentation-models) (25.0)\n",
            "Requirement already satisfied: lazy-loader>=0.4 in /usr/local/lib/python3.11/dist-packages (from scikit-image->efficientnet==1.0.0->segmentation-models) (0.4)\n",
            "Segmentation Models: using `tf.keras` framework.\n"
          ]
        }
      ]
    },
    {
      "cell_type": "markdown",
      "source": [
        "#Dataset"
      ],
      "metadata": {
        "id": "Tu8wymLMQsy6"
      },
      "id": "Tu8wymLMQsy6"
    },
    {
      "cell_type": "code",
      "execution_count": 5,
      "id": "0f79518c-640f-483d-8465-4fa8fc47e4ad",
      "metadata": {
        "id": "0f79518c-640f-483d-8465-4fa8fc47e4ad",
        "colab": {
          "base_uri": "https://localhost:8080/"
        },
        "outputId": "c13d3330-9d06-4a44-b6a4-36dcd941734a"
      },
      "outputs": [
        {
          "output_type": "stream",
          "name": "stdout",
          "text": [
            "Utilizando carpeta  \"evi.cnea: /content/drive/MyDrive/IV\"\n",
            "Utilizando carpeta  \"evi.cnea: /content/drive/MyDrive/IV\"\n"
          ]
        }
      ],
      "source": [
        "defect = 'cachaduras' #'cachaduras'\n",
        "image_directory = f'{base_path}/pellets'\n",
        "masks_directory = f'{base_path}/Output_052025 (máscaras actualizadas)/all_{defect}'\n",
        "\n",
        "if not os.path.exists(image_directory):\n",
        "  print(f'Carpeta inexistente \"{usr_drive}: {base_path}\"')\n",
        "else:\n",
        "  print(f'Utilizando carpeta  \"{usr_drive}: {base_path}\"')\n",
        "\n",
        "if not os.path.exists(masks_directory):\n",
        "  print(f'Carpeta inexistente \"{usr_drive}: {base_path}\"')\n",
        "else:\n",
        "  print(f'Utilizando carpeta  \"{usr_drive}: {base_path}\"')"
      ]
    },
    {
      "cell_type": "code",
      "source": [
        "import numpy as np\n",
        "import os\n",
        "\n",
        "\n",
        "# === MODO DE EJECUCIÓN ===\n",
        "# Usar 'cargar' para usar los datos ya procesados guardados (.npy)\n",
        "# Usar 'generar' para crear nuevos datos y guardarlos a partir de las imágenes originales\n",
        "modo = 'cargar'\n",
        "\n",
        "# === Rutas ===\n",
        "save_dir = f'{base_path}/processed_data_{defect}'\n",
        "os.makedirs(save_dir, exist_ok=True)\n",
        "\n",
        "# Add a check to see if the directory exists after creation attempt\n",
        "if not os.path.exists(save_dir):\n",
        "    print(f\"❌ Error: The directory {save_dir} could not be created or accessed.\")\n",
        "else:\n",
        "    print(f\"✅ Directory {save_dir} confirmed to exist.\")\n",
        "\n",
        "\n",
        "# === Cargar o generar los datos ===\n",
        "if modo == 'cargar':\n",
        "    print(\"Cargando datos preprocesados desde archivos .npy...\")\n",
        "    X_train = np.load(os.path.join(save_dir, 'X_train.npy'))\n",
        "    X_val   = np.load(os.path.join(save_dir, 'X_val.npy'))\n",
        "    X_test  = np.load(os.path.join(save_dir, 'X_test.npy'))\n",
        "    y_train = np.load(os.path.join(save_dir, 'y_train.npy'))\n",
        "    y_val   = np.load(os.path.join(save_dir, 'y_val.npy'))\n",
        "    y_test  = np.load(os.path.join(save_dir, 'y_test.npy'))\n",
        "    print(\"✅ Datos cargados correctamente.\")\n",
        "\n",
        "elif modo == 'generar':\n",
        "    print(\"Generando nuevos datos a partir de imágenes y máscaras...\")\n",
        "    X_train, y_train, X_val, y_val, X_test, y_test = augmented_dataset(\n",
        "        image_directory, masks_directory, seed=42, norm=False\n",
        "    )\n",
        "\n",
        "    # Guardar los datos generados\n",
        "    np.save(os.path.join(save_dir, 'X_train.npy'), X_train)\n",
        "    np.save(os.path.join(save_dir, 'X_val.npy'),   X_val)\n",
        "    np.save(os.path.join(save_dir, 'X_test.npy'),  X_test)\n",
        "    np.save(os.path.join(save_dir, 'y_train.npy'), y_train)\n",
        "    np.save(os.path.join(save_dir, 'y_val.npy'),   y_val)\n",
        "    np.save(os.path.join(save_dir, 'y_test.npy'),  y_test)\n",
        "\n",
        "    print(f\"✅ Nuevos datos generados y guardados en {save_dir}\")\n",
        "\n",
        "else:\n",
        "    raise ValueError(\"❌ Modo inválido. Usa 'cargar' o 'generar'.\")"
      ],
      "metadata": {
        "id": "E6zrvrCuVize",
        "colab": {
          "base_uri": "https://localhost:8080/"
        },
        "outputId": "0b4274ed-51bf-4a8a-a229-074aefd5658d"
      },
      "id": "E6zrvrCuVize",
      "execution_count": 8,
      "outputs": [
        {
          "output_type": "stream",
          "name": "stdout",
          "text": [
            "✅ Directory /content/drive/MyDrive/IV/processed_data_cachaduras confirmed to exist.\n",
            "Cargando datos preprocesados desde archivos .npy...\n",
            "✅ Datos cargados correctamente.\n"
          ]
        }
      ]
    },
    {
      "cell_type": "code",
      "source": [
        "# Muestra de imagenes y máscaras cargadas\n",
        "\n",
        "import random\n",
        "\n",
        "print(\"Train: \", len(X_train), len(y_train))\n",
        "print(\"Test: \", len(X_test), len(y_test))\n",
        "print(\"Val: \", len(X_val), len(y_val))\n",
        "\n",
        "pos = random.randint(0, len(X_train))\n",
        "plot_img_mask(np.int64(X_train[pos]), y_train[pos], None)\n",
        "\n",
        "pos = random.randint(0, len(X_test))\n",
        "plot_img_mask(np.int64(X_test[pos]), y_test[pos], None)\n",
        "\n",
        "pos = random.randint(0, len(X_val))\n",
        "plot_img_mask(np.int64(X_val[pos]), y_val[pos], None)\n",
        "\n",
        "print(\"Train: \", type(X_train), 'input range: ', np.min(X_train), np.max(X_train))\n",
        "print(\"Val: \", type(X_val), 'input range: ', np.min(X_val), np.max(X_val))\n",
        "print(\"Test: \", type(X_test), 'input range: ', np.min(X_test), np.max(X_test))\n"
      ],
      "metadata": {
        "id": "jVyyNChjPAzz",
        "colab": {
          "base_uri": "https://localhost:8080/",
          "height": 637
        },
        "outputId": "96aaa009-84ec-40b8-a49b-4fb6d7965ae7"
      },
      "id": "jVyyNChjPAzz",
      "execution_count": 9,
      "outputs": [
        {
          "output_type": "stream",
          "name": "stdout",
          "text": [
            "Train:  1920 1920\n",
            "Test:  300 300\n",
            "Val:  480 480\n"
          ]
        },
        {
          "output_type": "display_data",
          "data": {
            "text/plain": [
              "<Figure size 300x300 with 2 Axes>"
            ],
            "image/png": "[encoded data removed]"
          },
          "metadata": {}
        },
        {
          "output_type": "display_data",
          "data": {
            "text/plain": [
              "<Figure size 300x300 with 2 Axes>"
            ],
            "image/png": "[encoded data removed]"
          },
          "metadata": {}
        },
        {
          "output_type": "display_data",
          "data": {
            "text/plain": [
              "<Figure size 300x300 with 2 Axes>"
            ],
            "image/png": "[encoded data removed]"
          },
          "metadata": {}
        },
        {
          "output_type": "stream",
          "name": "stdout",
          "text": [
            "Train:  <class 'numpy.ndarray'> input range:  0.0 215.04784\n",
            "Val:  <class 'numpy.ndarray'> input range:  0.0 201.98215\n",
            "Test:  <class 'numpy.ndarray'> input range:  0.0 215.41821\n"
          ]
        }
      ]
    },
    {
      "cell_type": "markdown",
      "source": [
        "#Definición del modelo y preprocesamiento de data"
      ],
      "metadata": {
        "id": "lxOBAMVrW_Nv"
      },
      "id": "lxOBAMVrW_Nv"
    },
    {
      "cell_type": "code",
      "source": [
        "model_type = \"resnet152\"\n",
        "# \"resnet152\" \"efficientnetb2\" \"vgg19\"\n",
        "print(f'Cargando modelo: {model_type}')\n",
        "\n",
        "\n",
        "preprocessed_input = get_preprocessing(model_type)\n",
        "\n",
        "# Preprocesar las imágenes\n",
        "X_train_preprocessed = preprocessed_input(np.copy(X_train))\n",
        "X_val_preprocessed = preprocessed_input(np.copy(X_val))\n",
        "X_test_preprocessed = preprocessed_input(np.copy(X_test))\n",
        "\n",
        "print(\"Train: \", type(X_train_preprocessed), 'input range: ', np.min(X_train_preprocessed), np.max(X_train_preprocessed))\n",
        "print(\"Val: \", type(X_val_preprocessed), 'input range: ', np.min(X_val_preprocessed), np.max(X_val_preprocessed))\n",
        "print(\"Test: \", type(X_test_preprocessed), 'input range: ', np.min(X_test_preprocessed), np.max(X_test_preprocessed))\n",
        "\n"
      ],
      "metadata": {
        "colab": {
          "base_uri": "https://localhost:8080/"
        },
        "id": "URw3-ncOBoXz",
        "outputId": "4c537a90-27fe-464f-8dfc-e2e6a8ef767b"
      },
      "id": "URw3-ncOBoXz",
      "execution_count": 10,
      "outputs": [
        {
          "output_type": "stream",
          "name": "stdout",
          "text": [
            "Cargando modelo: resnet152\n",
            "Train:  <class 'numpy.ndarray'> input range:  0.0 215.04784\n",
            "Val:  <class 'numpy.ndarray'> input range:  0.0 201.98215\n",
            "Test:  <class 'numpy.ndarray'> input range:  0.0 215.41821\n"
          ]
        }
      ]
    },
    {
      "cell_type": "code",
      "source": [
        "print(\"Unique y_train values:\", np.unique(y_train))\n",
        "print(\"Unique y_val values:\", np.unique(y_val))"
      ],
      "metadata": {
        "colab": {
          "base_uri": "https://localhost:8080/"
        },
        "id": "K04NI5HqHclD",
        "outputId": "f9a64dfa-84a3-46d0-bc53-3480d166cefe"
      },
      "id": "K04NI5HqHclD",
      "execution_count": 11,
      "outputs": [
        {
          "output_type": "stream",
          "name": "stdout",
          "text": [
            "Unique y_train values: [0. 1.]\n",
            "Unique y_val values: [0. 1.]\n"
          ]
        }
      ]
    },
    {
      "cell_type": "markdown",
      "source": [
        "#Entrenamiento"
      ],
      "metadata": {
        "id": "ZvTCeVrIXy8n"
      },
      "id": "ZvTCeVrIXy8n"
    },
    {
      "cell_type": "code",
      "source": [
        "import os\n",
        "import pickle\n",
        "import numpy as np\n",
        "import pandas as pd\n",
        "from datetime import datetime\n",
        "import tensorflow as tf\n",
        "import segmentation_models as sm\n",
        "from tensorflow.keras.callbacks import ModelCheckpoint, EarlyStopping, Callback\n",
        "\n",
        "print(f\"🔧 Usando modelo: {model_type}\")\n",
        "\n",
        "# === Registro para serialización ===\n",
        "@tf.keras.utils.register_keras_serializable(package=\"Custom\")\n",
        "def custom_bce_dice_loss(y_true, y_pred):\n",
        "    return sm.losses.bce_dice_loss(y_true, y_pred)\n",
        "\n",
        "@tf.keras.utils.register_keras_serializable(package=\"Custom\")\n",
        "def custom_iou_score(y_true, y_pred):\n",
        "    return sm.metrics.iou_score(y_true, y_pred)\n",
        "\n",
        "@tf.keras.utils.register_keras_serializable(package=\"Custom\")\n",
        "def custom_f1_score(y_true, y_pred):\n",
        "    return sm.metrics.f1_score(y_true, y_pred)\n",
        "\n",
        "# === 2. Rutas ===\n",
        "checkpoint_path = f\"{base_path}/model/checkpoints_{model_type}_{defect}/{model_type}_last.keras\"\n",
        "history_pkl_path = f\"{base_path}/model/checkpoints_{model_type}_{defect}/{model_type}_history.pkl\"\n",
        "history_csv_path = f\"{base_path}/model/checkpoints_{model_type}_{defect}/{model_type}_history.csv\"\n",
        "out_folder = f\"{base_path}/output/model_{defect}\"\n",
        "os.makedirs(os.path.dirname(checkpoint_path), exist_ok=True)\n",
        "os.makedirs(out_folder, exist_ok=True)\n",
        "\n",
        "# === 3. Callback mejorado para guardar historial .pkl y actualizar .csv ===\n",
        "class HistorySaver(Callback):\n",
        "    def __init__(self, pkl_path, csv_path):\n",
        "        super().__init__()\n",
        "        self.pkl_path = pkl_path\n",
        "        self.csv_path = csv_path\n",
        "\n",
        "        # Cargar historial CSV existente si hay\n",
        "        if os.path.exists(csv_path):\n",
        "            self.df_history = pd.read_csv(csv_path, index_col=\"epoch\")\n",
        "        else:\n",
        "            self.df_history = pd.DataFrame()\n",
        "\n",
        "    def on_epoch_end(self, epoch, logs=None):\n",
        "        logs = logs or {}\n",
        "        new_row = pd.DataFrame([logs], index=[epoch])\n",
        "        new_row.index.name = 'epoch'\n",
        "\n",
        "        # Agregar nueva fila al historial existente\n",
        "        self.df_history = pd.concat([self.df_history, new_row])\n",
        "        self.df_history = self.df_history[~self.df_history.index.duplicated(keep='last')]\n",
        "        self.df_history.sort_index(inplace=True)\n",
        "\n",
        "        # Guardar como CSV\n",
        "        self.df_history.to_csv(self.csv_path)\n",
        "        print(f\"📝 CSV actualizado hasta época {epoch + 1}\")\n",
        "\n",
        "        # También guardar como .pkl para reanudar\n",
        "        with open(self.pkl_path, 'wb') as f:\n",
        "            pickle.dump(self.df_history.to_dict(orient='list'), f)\n",
        "\n",
        "# === 4. Función para verificar historial válido ===\n",
        "def valid_history(hist):\n",
        "    return (\n",
        "        isinstance(hist, dict) and\n",
        "        'loss' in hist and\n",
        "        isinstance(hist['loss'], list) and\n",
        "        len(hist['loss']) > 0\n",
        "    )\n",
        "\n",
        "# === 5. Cargar o crear modelo ===\n",
        "if os.path.exists(checkpoint_path):\n",
        "    print(f\"🔁 Cargando modelo completo desde: {checkpoint_path}\")\n",
        "    model = tf.keras.models.load_model(\n",
        "        checkpoint_path,\n",
        "        custom_objects={\n",
        "            'custom_bce_dice_loss': custom_bce_dice_loss,\n",
        "            'custom_iou_score': custom_iou_score,\n",
        "            'custom_f1_score': custom_f1_score\n",
        "        }\n",
        "    )\n",
        "else:\n",
        "    print(\"🆕 Creando nuevo modelo...\")\n",
        "    model = sm.Unet(\n",
        "        backbone_name=model_type,\n",
        "        classes=1,\n",
        "        activation='sigmoid',\n",
        "        encoder_weights='imagenet'\n",
        "    )\n",
        "    model.compile(\n",
        "        optimizer='Adam',\n",
        "        loss=custom_bce_dice_loss,\n",
        "        metrics=[custom_iou_score, custom_f1_score]\n",
        "    )\n",
        "\n",
        "# === 6. Cargar historial si existe ===\n",
        "if os.path.exists(history_pkl_path):\n",
        "    with open(history_pkl_path, 'rb') as f:\n",
        "        previous_history = pickle.load(f)\n",
        "    if valid_history(previous_history):\n",
        "        print(f\"📈 Historial cargado con {len(previous_history['loss'])} épocas.\")\n",
        "    else:\n",
        "        previous_history = None\n",
        "        os.remove(history_pkl_path)\n",
        "        print(\"⚠️ Historial inválido. Se iniciará desde cero.\")\n",
        "else:\n",
        "    previous_history = None\n",
        "    print(\"📉 No se encontró historial previo.\")\n",
        "\n",
        "initial_epoch = len(previous_history['loss']) if previous_history else 0\n",
        "\n",
        "# === 7. Entrenamiento ===\n",
        "batch_size = 16\n",
        "epochs = 500\n",
        "\n",
        "callbacks = [\n",
        "    EarlyStopping(patience=10, restore_best_weights=True),\n",
        "    ModelCheckpoint(checkpoint_path, save_best_only=False),\n",
        "    HistorySaver(history_pkl_path, history_csv_path)\n",
        "]\n",
        "\n",
        "history = model.fit(\n",
        "    x=X_train_preprocessed,\n",
        "    y=y_train,\n",
        "    batch_size=batch_size,\n",
        "    epochs=epochs,\n",
        "    initial_epoch=initial_epoch,\n",
        "    validation_data=(X_val_preprocessed, y_val),\n",
        "    callbacks=callbacks\n",
        ")\n",
        "\n",
        "# === 8. Guardar modelo final completo ===\n",
        "now = datetime.now().strftime(\"%Y%m%d_%H%M%S\")\n",
        "final_model_path = f'{out_folder}/{now}-{model_type}-{defect}.keras'\n",
        "model.save(final_model_path)\n",
        "print(f\"✅ Modelo final guardado: {final_model_path}\")\n",
        "\n",
        "# === 9. Evaluación ===\n",
        "print(\"\\n📊 Validación:\")\n",
        "model.evaluate(X_val_preprocessed, y_val)\n",
        "\n",
        "print(\"\\n📊 Test:\")\n",
        "model.evaluate(X_test_preprocessed, y_test)\n",
        "\n",
        "# === 10. Predicción ===\n",
        "pred = model.predict(X_test_preprocessed)\n"
      ],
      "metadata": {
        "colab": {
          "base_uri": "https://localhost:8080/"
        },
        "id": "cZEd7XltcE9E",
        "outputId": "fa6dafa5-ab85-40dd-a600-c1bc86fac0e8"
      },
      "id": "cZEd7XltcE9E",
      "execution_count": 14,
      "outputs": [
        {
          "output_type": "stream",
          "name": "stdout",
          "text": [
            "🔧 Usando modelo: resnet152\n",
            "🆕 Creando nuevo modelo...\n",
            "📉 No se encontró historial previo.\n",
            "Epoch 1/500\n",
            "\u001b[1m120/120\u001b[0m \u001b[32m━━━━━━━━━━━━━━━━━━━━\u001b[0m\u001b[37m\u001b[0m \u001b[1m0s\u001b[0m 505ms/step - custom_f1_score: 0.0942 - custom_iou_score: 0.0531 - loss: 1.2081📝 CSV actualizado hasta época 1\n",
            "\u001b[1m120/120\u001b[0m \u001b[32m━━━━━━━━━━━━━━━━━━━━\u001b[0m\u001b[37m\u001b[0m \u001b[1m335s\u001b[0m 2s/step - custom_f1_score: 0.0951 - custom_iou_score: 0.0537 - loss: 1.2061 - val_custom_f1_score: 0.0455 - val_custom_iou_score: 0.0234 - val_loss: 1.3855\n",
            "Epoch 2/500\n",
            "\u001b[1m120/120\u001b[0m \u001b[32m━━━━━━━━━━━━━━━━━━━━\u001b[0m\u001b[37m\u001b[0m \u001b[1m0s\u001b[0m 505ms/step - custom_f1_score: 0.4078 - custom_iou_score: 0.2682 - loss: 0.6656📝 CSV actualizado hasta época 2\n",
            "\u001b[1m120/120\u001b[0m \u001b[32m━━━━━━━━━━━━━━━━━━━━\u001b[0m\u001b[37m\u001b[0m \u001b[1m252s\u001b[0m 2s/step - custom_f1_score: 0.4080 - custom_iou_score: 0.2684 - loss: 0.6654 - val_custom_f1_score: 2.4340e-06 - val_custom_iou_score: 1.2175e-06 - val_loss: 1.3350\n",
            "Epoch 3/500\n",
            "\u001b[1m120/120\u001b[0m \u001b[32m━━━━━━━━━━━━━━━━━━━━\u001b[0m\u001b[37m\u001b[0m \u001b[1m0s\u001b[0m 523ms/step - custom_f1_score: 0.5028 - custom_iou_score: 0.3447 - loss: 0.5691📝 CSV actualizado hasta época 3\n",
            "\u001b[1m120/120\u001b[0m \u001b[32m━━━━━━━━━━━━━━━━━━━━\u001b[0m\u001b[37m\u001b[0m \u001b[1m272s\u001b[0m 2s/step - custom_f1_score: 0.5026 - custom_iou_score: 0.3445 - loss: 0.5693 - val_custom_f1_score: 0.0971 - val_custom_iou_score: 0.0520 - val_loss: 2.7911\n",
            "Epoch 4/500\n",
            "\u001b[1m120/120\u001b[0m \u001b[32m━━━━━━━━━━━━━━━━━━━━\u001b[0m\u001b[37m\u001b[0m \u001b[1m0s\u001b[0m 518ms/step - custom_f1_score: 0.4893 - custom_iou_score: 0.3347 - loss: 0.5811📝 CSV actualizado hasta época 4\n",
            "\u001b[1m120/120\u001b[0m \u001b[32m━━━━━━━━━━━━━━━━━━━━\u001b[0m\u001b[37m\u001b[0m \u001b[1m299s\u001b[0m 3s/step - custom_f1_score: 0.4894 - custom_iou_score: 0.3348 - loss: 0.5810 - val_custom_f1_score: 0.0914 - val_custom_iou_score: 0.0486 - val_loss: 2.9006\n",
            "Epoch 5/500\n",
            "\u001b[1m120/120\u001b[0m \u001b[32m━━━━━━━━━━━━━━━━━━━━\u001b[0m\u001b[37m\u001b[0m \u001b[1m0s\u001b[0m 515ms/step - custom_f1_score: 0.5213 - custom_iou_score: 0.3632 - loss: 0.5429📝 CSV actualizado hasta época 5\n",
            "\u001b[1m120/120\u001b[0m \u001b[32m━━━━━━━━━━━━━━━━━━━━\u001b[0m\u001b[37m\u001b[0m \u001b[1m265s\u001b[0m 2s/step - custom_f1_score: 0.5214 - custom_iou_score: 0.3633 - loss: 0.5428 - val_custom_f1_score: 0.0561 - val_custom_iou_score: 0.0291 - val_loss: 5.9023\n",
            "Epoch 6/500\n",
            "\u001b[1m120/120\u001b[0m \u001b[32m━━━━━━━━━━━━━━━━━━━━\u001b[0m\u001b[37m\u001b[0m \u001b[1m0s\u001b[0m 513ms/step - custom_f1_score: 0.5245 - custom_iou_score: 0.3691 - loss: 0.5430📝 CSV actualizado hasta época 6\n",
            "\u001b[1m120/120\u001b[0m \u001b[32m━━━━━━━━━━━━━━━━━━━━\u001b[0m\u001b[37m\u001b[0m \u001b[1m233s\u001b[0m 2s/step - custom_f1_score: 0.5245 - custom_iou_score: 0.3691 - loss: 0.5430 - val_custom_f1_score: 0.1668 - val_custom_iou_score: 0.0920 - val_loss: 1.0467\n",
            "Epoch 7/500\n",
            "\u001b[1m120/120\u001b[0m \u001b[32m━━━━━━━━━━━━━━━━━━━━\u001b[0m\u001b[37m\u001b[0m \u001b[1m0s\u001b[0m 506ms/step - custom_f1_score: 0.5314 - custom_iou_score: 0.3782 - loss: 0.5319📝 CSV actualizado hasta época 7\n",
            "\u001b[1m120/120\u001b[0m \u001b[32m━━━━━━━━━━━━━━━━━━━━\u001b[0m\u001b[37m\u001b[0m \u001b[1m260s\u001b[0m 2s/step - custom_f1_score: 0.5317 - custom_iou_score: 0.3785 - loss: 0.5316 - val_custom_f1_score: 0.0780 - val_custom_iou_score: 0.0411 - val_loss: 2.9845\n",
            "Epoch 8/500\n",
            "\u001b[1m120/120\u001b[0m \u001b[32m━━━━━━━━━━━━━━━━━━━━\u001b[0m\u001b[37m\u001b[0m \u001b[1m0s\u001b[0m 518ms/step - custom_f1_score: 0.5872 - custom_iou_score: 0.4289 - loss: 0.4760📝 CSV actualizado hasta época 8\n",
            "\u001b[1m120/120\u001b[0m \u001b[32m━━━━━━━━━━━━━━━━━━━━\u001b[0m\u001b[37m\u001b[0m \u001b[1m172s\u001b[0m 1s/step - custom_f1_score: 0.5871 - custom_iou_score: 0.4288 - loss: 0.4761 - val_custom_f1_score: 0.1177 - val_custom_iou_score: 0.0637 - val_loss: 2.0725\n",
            "Epoch 9/500\n",
            "\u001b[1m120/120\u001b[0m \u001b[32m━━━━━━━━━━━━━━━━━━━━\u001b[0m\u001b[37m\u001b[0m \u001b[1m0s\u001b[0m 512ms/step - custom_f1_score: 0.5672 - custom_iou_score: 0.4062 - loss: 0.4951📝 CSV actualizado hasta época 9\n",
            "\u001b[1m120/120\u001b[0m \u001b[32m━━━━━━━━━━━━━━━━━━━━\u001b[0m\u001b[37m\u001b[0m \u001b[1m193s\u001b[0m 1s/step - custom_f1_score: 0.5673 - custom_iou_score: 0.4063 - loss: 0.4950 - val_custom_f1_score: 0.3288 - val_custom_iou_score: 0.2068 - val_loss: 0.8867\n",
            "Epoch 10/500\n",
            "\u001b[1m120/120\u001b[0m \u001b[32m━━━━━━━━━━━━━━━━━━━━\u001b[0m\u001b[37m\u001b[0m \u001b[1m0s\u001b[0m 517ms/step - custom_f1_score: 0.5839 - custom_iou_score: 0.4274 - loss: 0.4726📝 CSV actualizado hasta época 10\n",
            "\u001b[1m120/120\u001b[0m \u001b[32m━━━━━━━━━━━━━━━━━━━━\u001b[0m\u001b[37m\u001b[0m \u001b[1m152s\u001b[0m 1s/step - custom_f1_score: 0.5840 - custom_iou_score: 0.4275 - loss: 0.4726 - val_custom_f1_score: 0.3725 - val_custom_iou_score: 0.2344 - val_loss: 0.8046\n",
            "Epoch 11/500\n",
            "\u001b[1m120/120\u001b[0m \u001b[32m━━━━━━━━━━━━━━━━━━━━\u001b[0m\u001b[37m\u001b[0m \u001b[1m0s\u001b[0m 517ms/step - custom_f1_score: 0.6227 - custom_iou_score: 0.4648 - loss: 0.4342📝 CSV actualizado hasta época 11\n",
            "\u001b[1m120/120\u001b[0m \u001b[32m━━━━━━━━━━━━━━━━━━━━\u001b[0m\u001b[37m\u001b[0m \u001b[1m167s\u001b[0m 1s/step - custom_f1_score: 0.6225 - custom_iou_score: 0.4646 - loss: 0.4343 - val_custom_f1_score: 0.0627 - val_custom_iou_score: 0.0327 - val_loss: 4.7541\n",
            "Epoch 12/500\n",
            "\u001b[1m120/120\u001b[0m \u001b[32m━━━━━━━━━━━━━━━━━━━━\u001b[0m\u001b[37m\u001b[0m \u001b[1m0s\u001b[0m 508ms/step - custom_f1_score: 0.5615 - custom_iou_score: 0.4030 - loss: 0.5013📝 CSV actualizado hasta época 12\n",
            "\u001b[1m120/120\u001b[0m \u001b[32m━━━━━━━━━━━━━━━━━━━━\u001b[0m\u001b[37m\u001b[0m \u001b[1m199s\u001b[0m 1s/step - custom_f1_score: 0.5616 - custom_iou_score: 0.4030 - loss: 0.5013 - val_custom_f1_score: 0.2043 - val_custom_iou_score: 0.1168 - val_loss: 1.4800\n",
            "Epoch 13/500\n",
            "\u001b[1m120/120\u001b[0m \u001b[32m━━━━━━━━━━━━━━━━━━━━\u001b[0m\u001b[37m\u001b[0m \u001b[1m0s\u001b[0m 519ms/step - custom_f1_score: 0.6113 - custom_iou_score: 0.4514 - loss: 0.4475📝 CSV actualizado hasta época 13\n",
            "\u001b[1m120/120\u001b[0m \u001b[32m━━━━━━━━━━━━━━━━━━━━\u001b[0m\u001b[37m\u001b[0m \u001b[1m164s\u001b[0m 1s/step - custom_f1_score: 0.6112 - custom_iou_score: 0.4514 - loss: 0.4475 - val_custom_f1_score: 0.4899 - val_custom_iou_score: 0.3358 - val_loss: 0.6105\n",
            "Epoch 14/500\n",
            "\u001b[1m120/120\u001b[0m \u001b[32m━━━━━━━━━━━━━━━━━━━━\u001b[0m\u001b[37m\u001b[0m \u001b[1m0s\u001b[0m 510ms/step - custom_f1_score: 0.6417 - custom_iou_score: 0.4835 - loss: 0.4091📝 CSV actualizado hasta época 14\n",
            "\u001b[1m120/120\u001b[0m \u001b[32m━━━━━━━━━━━━━━━━━━━━\u001b[0m\u001b[37m\u001b[0m \u001b[1m219s\u001b[0m 2s/step - custom_f1_score: 0.6417 - custom_iou_score: 0.4835 - loss: 0.4091 - val_custom_f1_score: 0.6221 - val_custom_iou_score: 0.4615 - val_loss: 0.4374\n",
            "Epoch 15/500\n",
            "\u001b[1m120/120\u001b[0m \u001b[32m━━━━━━━━━━━━━━━━━━━━\u001b[0m\u001b[37m\u001b[0m \u001b[1m0s\u001b[0m 515ms/step - custom_f1_score: 0.6480 - custom_iou_score: 0.4931 - loss: 0.4016📝 CSV actualizado hasta época 15\n",
            "\u001b[1m120/120\u001b[0m \u001b[32m━━━━━━━━━━━━━━━━━━━━\u001b[0m\u001b[37m\u001b[0m \u001b[1m207s\u001b[0m 2s/step - custom_f1_score: 0.6480 - custom_iou_score: 0.4932 - loss: 0.4015 - val_custom_f1_score: 0.5371 - val_custom_iou_score: 0.3841 - val_loss: 0.5446\n",
            "Epoch 16/500\n",
            "\u001b[1m120/120\u001b[0m \u001b[32m━━━━━━━━━━━━━━━━━━━━\u001b[0m\u001b[37m\u001b[0m \u001b[1m0s\u001b[0m 519ms/step - custom_f1_score: 0.6426 - custom_iou_score: 0.4858 - loss: 0.4053📝 CSV actualizado hasta época 16\n",
            "\u001b[1m120/120\u001b[0m \u001b[32m━━━━━━━━━━━━━━━━━━━━\u001b[0m\u001b[37m\u001b[0m \u001b[1m182s\u001b[0m 2s/step - custom_f1_score: 0.6427 - custom_iou_score: 0.4859 - loss: 0.4052 - val_custom_f1_score: 0.5985 - val_custom_iou_score: 0.4366 - val_loss: 0.4753\n",
            "Epoch 17/500\n",
            "\u001b[1m120/120\u001b[0m \u001b[32m━━━━━━━━━━━━━━━━━━━━\u001b[0m\u001b[37m\u001b[0m \u001b[1m0s\u001b[0m 514ms/step - custom_f1_score: 0.6706 - custom_iou_score: 0.5164 - loss: 0.3741📝 CSV actualizado hasta época 17\n",
            "\u001b[1m120/120\u001b[0m \u001b[32m━━━━━━━━━━━━━━━━━━━━\u001b[0m\u001b[37m\u001b[0m \u001b[1m195s\u001b[0m 1s/step - custom_f1_score: 0.6707 - custom_iou_score: 0.5165 - loss: 0.3740 - val_custom_f1_score: 0.5908 - val_custom_iou_score: 0.4350 - val_loss: 0.4798\n",
            "Epoch 18/500\n",
            "\u001b[1m120/120\u001b[0m \u001b[32m━━━━━━━━━━━━━━━━━━━━\u001b[0m\u001b[37m\u001b[0m \u001b[1m0s\u001b[0m 513ms/step - custom_f1_score: 0.6842 - custom_iou_score: 0.5331 - loss: 0.3612📝 CSV actualizado hasta época 18\n",
            "\u001b[1m120/120\u001b[0m \u001b[32m━━━━━━━━━━━━━━━━━━━━\u001b[0m\u001b[37m\u001b[0m \u001b[1m219s\u001b[0m 2s/step - custom_f1_score: 0.6842 - custom_iou_score: 0.5331 - loss: 0.3613 - val_custom_f1_score: 0.2018 - val_custom_iou_score: 0.1155 - val_loss: 1.4162\n",
            "Epoch 19/500\n",
            "\u001b[1m120/120\u001b[0m \u001b[32m━━━━━━━━━━━━━━━━━━━━\u001b[0m\u001b[37m\u001b[0m \u001b[1m0s\u001b[0m 519ms/step - custom_f1_score: 0.6380 - custom_iou_score: 0.4813 - loss: 0.4147📝 CSV actualizado hasta época 19\n",
            "\u001b[1m120/120\u001b[0m \u001b[32m━━━━━━━━━━━━━━━━━━━━\u001b[0m\u001b[37m\u001b[0m \u001b[1m182s\u001b[0m 1s/step - custom_f1_score: 0.6381 - custom_iou_score: 0.4815 - loss: 0.4146 - val_custom_f1_score: 0.6110 - val_custom_iou_score: 0.4527 - val_loss: 0.4577\n",
            "Epoch 20/500\n",
            "\u001b[1m120/120\u001b[0m \u001b[32m━━━━━━━━━━━━━━━━━━━━\u001b[0m\u001b[37m\u001b[0m \u001b[1m0s\u001b[0m 510ms/step - custom_f1_score: 0.6738 - custom_iou_score: 0.5190 - loss: 0.3701📝 CSV actualizado hasta época 20\n",
            "\u001b[1m120/120\u001b[0m \u001b[32m━━━━━━━━━━━━━━━━━━━━\u001b[0m\u001b[37m\u001b[0m \u001b[1m240s\u001b[0m 2s/step - custom_f1_score: 0.6738 - custom_iou_score: 0.5190 - loss: 0.3702 - val_custom_f1_score: 0.6163 - val_custom_iou_score: 0.4607 - val_loss: 0.4564\n",
            "Epoch 21/500\n",
            "\u001b[1m120/120\u001b[0m \u001b[32m━━━━━━━━━━━━━━━━━━━━\u001b[0m\u001b[37m\u001b[0m \u001b[1m0s\u001b[0m 516ms/step - custom_f1_score: 0.6906 - custom_iou_score: 0.5418 - loss: 0.3508📝 CSV actualizado hasta época 21\n",
            "\u001b[1m120/120\u001b[0m \u001b[32m━━━━━━━━━━━━━━━━━━━━\u001b[0m\u001b[37m\u001b[0m \u001b[1m233s\u001b[0m 2s/step - custom_f1_score: 0.6907 - custom_iou_score: 0.5419 - loss: 0.3507 - val_custom_f1_score: 0.6249 - val_custom_iou_score: 0.4643 - val_loss: 0.4437\n",
            "Epoch 22/500\n",
            "\u001b[1m120/120\u001b[0m \u001b[32m━━━━━━━━━━━━━━━━━━━━\u001b[0m\u001b[37m\u001b[0m \u001b[1m0s\u001b[0m 511ms/step - custom_f1_score: 0.6865 - custom_iou_score: 0.5333 - loss: 0.3577📝 CSV actualizado hasta época 22\n",
            "\u001b[1m120/120\u001b[0m \u001b[32m━━━━━━━━━━━━━━━━━━━━\u001b[0m\u001b[37m\u001b[0m \u001b[1m276s\u001b[0m 2s/step - custom_f1_score: 0.6865 - custom_iou_score: 0.5333 - loss: 0.3577 - val_custom_f1_score: 0.6503 - val_custom_iou_score: 0.4936 - val_loss: 0.4109\n",
            "Epoch 23/500\n",
            "\u001b[1m120/120\u001b[0m \u001b[32m━━━━━━━━━━━━━━━━━━━━\u001b[0m\u001b[37m\u001b[0m \u001b[1m0s\u001b[0m 516ms/step - custom_f1_score: 0.7174 - custom_iou_score: 0.5689 - loss: 0.3248📝 CSV actualizado hasta época 23\n",
            "\u001b[1m120/120\u001b[0m \u001b[32m━━━━━━━━━━━━━━━━━━━━\u001b[0m\u001b[37m\u001b[0m \u001b[1m266s\u001b[0m 2s/step - custom_f1_score: 0.7173 - custom_iou_score: 0.5688 - loss: 0.3249 - val_custom_f1_score: 0.4973 - val_custom_iou_score: 0.3449 - val_loss: 0.6140\n",
            "Epoch 24/500\n",
            "\u001b[1m120/120\u001b[0m \u001b[32m━━━━━━━━━━━━━━━━━━━━\u001b[0m\u001b[37m\u001b[0m \u001b[1m0s\u001b[0m 517ms/step - custom_f1_score: 0.6781 - custom_iou_score: 0.5253 - loss: 0.3676📝 CSV actualizado hasta época 24\n",
            "\u001b[1m120/120\u001b[0m \u001b[32m━━━━━━━━━━━━━━━━━━━━\u001b[0m\u001b[37m\u001b[0m \u001b[1m262s\u001b[0m 2s/step - custom_f1_score: 0.6782 - custom_iou_score: 0.5254 - loss: 0.3675 - val_custom_f1_score: 0.5228 - val_custom_iou_score: 0.3698 - val_loss: 0.5602\n",
            "Epoch 25/500\n",
            "\u001b[1m120/120\u001b[0m \u001b[32m━━━━━━━━━━━━━━━━━━━━\u001b[0m\u001b[37m\u001b[0m \u001b[1m0s\u001b[0m 517ms/step - custom_f1_score: 0.6714 - custom_iou_score: 0.5174 - loss: 0.3828📝 CSV actualizado hasta época 25\n",
            "\u001b[1m120/120\u001b[0m \u001b[32m━━━━━━━━━━━━━━━━━━━━\u001b[0m\u001b[37m\u001b[0m \u001b[1m270s\u001b[0m 2s/step - custom_f1_score: 0.6714 - custom_iou_score: 0.5174 - loss: 0.3827 - val_custom_f1_score: 0.6169 - val_custom_iou_score: 0.4583 - val_loss: 0.4493\n",
            "Epoch 26/500\n",
            "\u001b[1m120/120\u001b[0m \u001b[32m━━━━━━━━━━━━━━━━━━━━\u001b[0m\u001b[37m\u001b[0m \u001b[1m0s\u001b[0m 509ms/step - custom_f1_score: 0.7089 - custom_iou_score: 0.5613 - loss: 0.3321📝 CSV actualizado hasta época 26\n",
            "\u001b[1m120/120\u001b[0m \u001b[32m━━━━━━━━━━━━━━━━━━━━\u001b[0m\u001b[37m\u001b[0m \u001b[1m283s\u001b[0m 2s/step - custom_f1_score: 0.7090 - custom_iou_score: 0.5614 - loss: 0.3320 - val_custom_f1_score: 0.5825 - val_custom_iou_score: 0.4208 - val_loss: 0.4959\n",
            "Epoch 27/500\n",
            "\u001b[1m120/120\u001b[0m \u001b[32m━━━━━━━━━━━━━━━━━━━━\u001b[0m\u001b[37m\u001b[0m \u001b[1m0s\u001b[0m 513ms/step - custom_f1_score: 0.7343 - custom_iou_score: 0.5897 - loss: 0.3077📝 CSV actualizado hasta época 27\n",
            "\u001b[1m120/120\u001b[0m \u001b[32m━━━━━━━━━━━━━━━━━━━━\u001b[0m\u001b[37m\u001b[0m \u001b[1m285s\u001b[0m 2s/step - custom_f1_score: 0.7342 - custom_iou_score: 0.5896 - loss: 0.3078 - val_custom_f1_score: 0.6461 - val_custom_iou_score: 0.4893 - val_loss: 0.4316\n",
            "Epoch 28/500\n",
            "\u001b[1m120/120\u001b[0m \u001b[32m━━━━━━━━━━━━━━━━━━━━\u001b[0m\u001b[37m\u001b[0m \u001b[1m0s\u001b[0m 515ms/step - custom_f1_score: 0.7290 - custom_iou_score: 0.5849 - loss: 0.3106📝 CSV actualizado hasta época 28\n",
            "\u001b[1m120/120\u001b[0m \u001b[32m━━━━━━━━━━━━━━━━━━━━\u001b[0m\u001b[37m\u001b[0m \u001b[1m256s\u001b[0m 2s/step - custom_f1_score: 0.7288 - custom_iou_score: 0.5846 - loss: 0.3109 - val_custom_f1_score: 0.4944 - val_custom_iou_score: 0.3405 - val_loss: 0.6115\n",
            "Epoch 29/500\n",
            "\u001b[1m120/120\u001b[0m \u001b[32m━━━━━━━━━━━━━━━━━━━━\u001b[0m\u001b[37m\u001b[0m \u001b[1m0s\u001b[0m 515ms/step - custom_f1_score: 0.7038 - custom_iou_score: 0.5561 - loss: 0.3389📝 CSV actualizado hasta época 29\n",
            "\u001b[1m120/120\u001b[0m \u001b[32m━━━━━━━━━━━━━━━━━━━━\u001b[0m\u001b[37m\u001b[0m \u001b[1m263s\u001b[0m 2s/step - custom_f1_score: 0.7037 - custom_iou_score: 0.5561 - loss: 0.3389 - val_custom_f1_score: 0.6013 - val_custom_iou_score: 0.4442 - val_loss: 0.4772\n",
            "Epoch 30/500\n",
            "\u001b[1m120/120\u001b[0m \u001b[32m━━━━━━━━━━━━━━━━━━━━\u001b[0m\u001b[37m\u001b[0m \u001b[1m0s\u001b[0m 516ms/step - custom_f1_score: 0.7160 - custom_iou_score: 0.5674 - loss: 0.3226📝 CSV actualizado hasta época 30\n",
            "\u001b[1m120/120\u001b[0m \u001b[32m━━━━━━━━━━━━━━━━━━━━\u001b[0m\u001b[37m\u001b[0m \u001b[1m283s\u001b[0m 2s/step - custom_f1_score: 0.7161 - custom_iou_score: 0.5675 - loss: 0.3225 - val_custom_f1_score: 0.6131 - val_custom_iou_score: 0.4536 - val_loss: 0.4650\n",
            "Epoch 31/500\n",
            "\u001b[1m120/120\u001b[0m \u001b[32m━━━━━━━━━━━━━━━━━━━━\u001b[0m\u001b[37m\u001b[0m \u001b[1m0s\u001b[0m 509ms/step - custom_f1_score: 0.7326 - custom_iou_score: 0.5912 - loss: 0.3068📝 CSV actualizado hasta época 31\n",
            "\u001b[1m120/120\u001b[0m \u001b[32m━━━━━━━━━━━━━━━━━━━━\u001b[0m\u001b[37m\u001b[0m \u001b[1m325s\u001b[0m 2s/step - custom_f1_score: 0.7326 - custom_iou_score: 0.5912 - loss: 0.3068 - val_custom_f1_score: 0.6515 - val_custom_iou_score: 0.4937 - val_loss: 0.4139\n",
            "Epoch 32/500\n",
            "\u001b[1m120/120\u001b[0m \u001b[32m━━━━━━━━━━━━━━━━━━━━\u001b[0m\u001b[37m\u001b[0m \u001b[1m0s\u001b[0m 517ms/step - custom_f1_score: 0.7428 - custom_iou_score: 0.5981 - loss: 0.2933📝 CSV actualizado hasta época 32\n",
            "\u001b[1m120/120\u001b[0m \u001b[32m━━━━━━━━━━━━━━━━━━━━\u001b[0m\u001b[37m\u001b[0m \u001b[1m254s\u001b[0m 2s/step - custom_f1_score: 0.7427 - custom_iou_score: 0.5980 - loss: 0.2934 - val_custom_f1_score: 0.5613 - val_custom_iou_score: 0.4025 - val_loss: 0.5292\n",
            "✅ Modelo final guardado: /content/drive/MyDrive/IV/output/model_cachaduras/20250728_172009-resnet152-cachaduras.keras\n",
            "\n",
            "📊 Validación:\n",
            "\u001b[1m15/15\u001b[0m \u001b[32m━━━━━━━━━━━━━━━━━━━━\u001b[0m\u001b[37m\u001b[0m \u001b[1m30s\u001b[0m 270ms/step - custom_f1_score: 0.6592 - custom_iou_score: 0.4956 - loss: 0.3877\n",
            "\n",
            "📊 Test:\n",
            "\u001b[1m10/10\u001b[0m \u001b[32m━━━━━━━━━━━━━━━━━━━━\u001b[0m\u001b[37m\u001b[0m \u001b[1m11s\u001b[0m 1s/step - custom_f1_score: 0.6934 - custom_iou_score: 0.5337 - loss: 0.3693\n",
            "\u001b[1m10/10\u001b[0m \u001b[32m━━━━━━━━━━━━━━━━━━━━\u001b[0m\u001b[37m\u001b[0m \u001b[1m23s\u001b[0m 1s/step\n"
          ]
        }
      ]
    },
    {
      "cell_type": "code",
      "source": [
        "import matplotlib.pyplot as plt\n",
        "import os\n",
        "import numpy as np\n",
        "\n",
        "# === 1. Generar predicciones (si no lo hiciste ya) ===\n",
        "y_pred = model.predict(X_test_preprocessed)\n",
        "\n",
        "# Define the base directory for output and predictions\n",
        "output_dir = f\"{base_path}/output\"\n",
        "predictions_dir = os.path.join(output_dir, f\"predictions_{defect}_{model_type}\")\n",
        "results_dir = os.path.join(predictions_dir, f\"visualizations_{defect}_{model_type}\") # Keep visualization directory as before\n",
        "\n",
        "# Create the necessary directories if they don't exist\n",
        "os.makedirs(predictions_dir, exist_ok=True)\n",
        "os.makedirs(results_dir, exist_ok=True)\n",
        "\n",
        "# === 2. Guardar predicciones como .npy ===\n",
        "np.save(os.path.join(predictions_dir, \"y_pred_test.npy\"), y_pred)\n",
        "print(\"✅ Predicciones guardadas.\")\n",
        "\n",
        "# === 3. Visualizar y guardar comparaciones ===\n",
        "# Escala las máscaras para visualización (umbral opcional)\n",
        "threshold = 0.5\n",
        "y_pred_bin = (y_pred > threshold).astype(np.uint8)\n",
        "\n",
        "# Iterar sobre algunas muestras (puedes limitar si es mucho)\n",
        "for i in range(len(X_test)):\n",
        "    fig, axes = plt.subplots(1, 3, figsize=(12, 4))\n",
        "    original_image_display = np.clip(X_test[i], 0, 255).astype(np.uint8)\n",
        "\n",
        "\n",
        "\n",
        "    # Imagen original\n",
        "    axes[0].imshow(original_image_display)\n",
        "    axes[0].set_title(\"Imagen original\")\n",
        "    axes[0].axis(\"off\")\n",
        "\n",
        "    # Ground truth\n",
        "    axes[1].imshow(y_test[i].squeeze(), cmap='gray')\n",
        "    axes[1].set_title(\"Máscara Real\")\n",
        "    axes[1].axis(\"off\")\n",
        "\n",
        "    # Predicción\n",
        "    axes[2].imshow(y_pred_bin[i].squeeze(), cmap='gray')\n",
        "    axes[2].set_title(\"Predicción\")\n",
        "    axes[2].axis(\"off\")\n",
        "\n",
        "    plt.tight_layout()\n",
        "    save_path = os.path.join(results_dir, f\"test_{i:03d}.png\")\n",
        "    plt.savefig(save_path)\n",
        "    plt.close()\n",
        "\n",
        "print(f\"🖼️ Visualizaciones guardadas en: {results_dir}\")"
      ],
      "metadata": {
        "id": "g9NfDeNlIzVB",
        "colab": {
          "base_uri": "https://localhost:8080/"
        },
        "outputId": "e43401b7-a3c8-45e6-bc7f-27bda3db5289"
      },
      "id": "g9NfDeNlIzVB",
      "execution_count": 15,
      "outputs": [
        {
          "output_type": "stream",
          "name": "stdout",
          "text": [
            "\u001b[1m10/10\u001b[0m \u001b[32m━━━━━━━━━━━━━━━━━━━━\u001b[0m\u001b[37m\u001b[0m \u001b[1m2s\u001b[0m 226ms/step\n",
            "✅ Predicciones guardadas.\n",
            "🖼️ Visualizaciones guardadas en: /content/drive/MyDrive/IV/output/predictions_cachaduras_resnet152/visualizations_cachaduras_resnet152\n"
          ]
        }
      ]
    }
  ],
  "metadata": {
    "kernelspec": {
      "display_name": "Python 3",
      "name": "python3"
    },
    "language_info": {
      "codemirror_mode": {
        "name": "ipython",
        "version": 3
      },
      "file_extension": ".py",
      "mimetype": "text/x-python",
      "name": "python",
      "nbconvert_exporter": "python",
      "pygments_lexer": "ipython3",
      "version": "3.10.13"
    },
    "colab": {
      "provenance": [],
      "gpuType": "T4",
      "include_colab_link": true
    },
    "accelerator": "GPU"
  },
  "nbformat": 4,
  "nbformat_minor": 5
}